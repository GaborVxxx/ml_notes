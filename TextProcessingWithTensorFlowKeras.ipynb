{
  "nbformat": 4,
  "nbformat_minor": 0,
  "metadata": {
    "colab": {
      "provenance": [],
      "authorship_tag": "ABX9TyM3i2zYpKhGgGKeZCe2tuF0",
      "include_colab_link": true
    },
    "kernelspec": {
      "name": "python3",
      "display_name": "Python 3"
    },
    "language_info": {
      "name": "python"
    }
  },
  "cells": [
    {
      "cell_type": "markdown",
      "metadata": {
        "id": "view-in-github",
        "colab_type": "text"
      },
      "source": [
        "<a href=\"https://colab.research.google.com/github/GaborVxxx/ml_notes/blob/main/TextProcessingWithTensorFlowKeras.ipynb\" target=\"_parent\"><img src=\"https://colab.research.google.com/assets/colab-badge.svg\" alt=\"Open In Colab\"/></a>"
      ]
    },
    {
      "cell_type": "code",
      "execution_count": 5,
      "metadata": {
        "id": "kd8WVbPpCLeC"
      },
      "outputs": [],
      "source": [
        "from tensorflow.keras.preprocessing.text import Tokenizer\n",
        "from tensorflow.keras.preprocessing.sequence import pad_sequences"
      ]
    },
    {
      "cell_type": "code",
      "source": [
        "# simple data\n",
        "sentences = [\n",
        "    'I love my dog',\n",
        "    'I love my cat',\n",
        "    'You love my dog!',\n",
        "    'Do you think my dog is amazing?'\n",
        "]"
      ],
      "metadata": {
        "id": "oybo3It-CtXl"
      },
      "execution_count": 6,
      "outputs": []
    },
    {
      "cell_type": "code",
      "source": [
        "MAX_VOCAB_SIZE = 20000\n",
        "tokenizer = Tokenizer(num_words=MAX_VOCAB_SIZE)\n",
        "tokenizer.fit_on_texts(sentences)\n",
        "sequences = tokenizer.texts_to_sequences(sentences)"
      ],
      "metadata": {
        "id": "ouCiD-46C6Bf"
      },
      "execution_count": 7,
      "outputs": []
    },
    {
      "cell_type": "code",
      "source": [
        "print(sequences)"
      ],
      "metadata": {
        "colab": {
          "base_uri": "https://localhost:8080/"
        },
        "id": "t0Cg7_ctDVQy",
        "outputId": "88bb86f9-e8af-43bf-d97d-8c32ff6f760f"
      },
      "execution_count": 8,
      "outputs": [
        {
          "output_type": "stream",
          "name": "stdout",
          "text": [
            "[[4, 2, 1, 3], [4, 2, 1, 6], [5, 2, 1, 3], [7, 5, 8, 1, 3, 9, 10]]\n"
          ]
        }
      ]
    },
    {
      "cell_type": "code",
      "source": [
        "# how to get the word to index mapping?\n",
        "tokenizer.word_index"
      ],
      "metadata": {
        "colab": {
          "base_uri": "https://localhost:8080/"
        },
        "id": "KTzRh2K5EAB-",
        "outputId": "290c3899-4f0a-4fc6-8b1b-c36148ce578c"
      },
      "execution_count": 9,
      "outputs": [
        {
          "output_type": "execute_result",
          "data": {
            "text/plain": [
              "{'my': 1,\n",
              " 'love': 2,\n",
              " 'dog': 3,\n",
              " 'i': 4,\n",
              " 'you': 5,\n",
              " 'cat': 6,\n",
              " 'do': 7,\n",
              " 'think': 8,\n",
              " 'is': 9,\n",
              " 'amazing': 10}"
            ]
          },
          "metadata": {},
          "execution_count": 9
        }
      ]
    },
    {
      "cell_type": "code",
      "source": [
        "# add padding to the sequences, use the defaults (0)\n",
        "data = pad_sequences(sequences)\n",
        "print(data) # this is a equeal length sparse matrix"
      ],
      "metadata": {
        "colab": {
          "base_uri": "https://localhost:8080/"
        },
        "id": "XhEv6vMzETI5",
        "outputId": "d95e0f7e-39b0-419a-bfc3-3309e2ec379c"
      },
      "execution_count": 10,
      "outputs": [
        {
          "output_type": "stream",
          "name": "stdout",
          "text": [
            "[[ 0  0  0  4  2  1  3]\n",
            " [ 0  0  0  4  2  1  6]\n",
            " [ 0  0  0  5  2  1  3]\n",
            " [ 7  5  8  1  3  9 10]]\n"
          ]
        }
      ]
    },
    {
      "cell_type": "code",
      "source": [
        "# try with max length\n",
        "MAX_SEQUENCE_LENGTH = 5\n",
        "data_c = pad_sequences(sequences, maxlen=MAX_SEQUENCE_LENGTH)\n",
        "print(data_c) # it cut of the start of the list..."
      ],
      "metadata": {
        "colab": {
          "base_uri": "https://localhost:8080/"
        },
        "id": "nR8iKSlCE2W9",
        "outputId": "a67624a0-382f-448f-e23d-6994ec5163e4"
      },
      "execution_count": 12,
      "outputs": [
        {
          "output_type": "stream",
          "name": "stdout",
          "text": [
            "[[ 0  4  2  1  3]\n",
            " [ 0  4  2  1  6]\n",
            " [ 0  5  2  1  3]\n",
            " [ 8  1  3  9 10]]\n"
          ]
        }
      ]
    },
    {
      "cell_type": "code",
      "source": [
        "data_d = pad_sequences(sequences, maxlen=MAX_SEQUENCE_LENGTH, padding='post')\n",
        "print(data_d) # it cut of the end of the list..."
      ],
      "metadata": {
        "colab": {
          "base_uri": "https://localhost:8080/"
        },
        "id": "1nmehJbTFNnu",
        "outputId": "bee3aae0-39e1-44b7-dae6-904076f02916"
      },
      "execution_count": 13,
      "outputs": [
        {
          "output_type": "stream",
          "name": "stdout",
          "text": [
            "[[ 4  2  1  3  0]\n",
            " [ 4  2  1  6  0]\n",
            " [ 5  2  1  3  0]\n",
            " [ 8  1  3  9 10]]\n"
          ]
        }
      ]
    },
    {
      "cell_type": "code",
      "source": [
        "# too much padding\n",
        "data = pad_sequences(sequences, maxlen=16)\n",
        "print(data)"
      ],
      "metadata": {
        "colab": {
          "base_uri": "https://localhost:8080/"
        },
        "id": "noT447I0FjN_",
        "outputId": "754c2f6d-6ec3-423d-80b4-6c3105826371"
      },
      "execution_count": 15,
      "outputs": [
        {
          "output_type": "stream",
          "name": "stdout",
          "text": [
            "[[ 0  0  0  0  0  0  0  0  0  0  0  0  4  2  1  3]\n",
            " [ 0  0  0  0  0  0  0  0  0  0  0  0  4  2  1  6]\n",
            " [ 0  0  0  0  0  0  0  0  0  0  0  0  5  2  1  3]\n",
            " [ 0  0  0  0  0  0  0  0  0  7  5  8  1  3  9 10]]\n"
          ]
        }
      ]
    },
    {
      "cell_type": "code",
      "source": [
        "# truncation\n",
        "data = pad_sequences(sequences, maxlen=4)\n",
        "print(data)"
      ],
      "metadata": {
        "colab": {
          "base_uri": "https://localhost:8080/"
        },
        "id": "e5-QtfNYF06z",
        "outputId": "7a73540d-7f5c-4f26-c963-2541d6f304f5"
      },
      "execution_count": 16,
      "outputs": [
        {
          "output_type": "stream",
          "name": "stdout",
          "text": [
            "[[ 4  2  1  3]\n",
            " [ 4  2  1  6]\n",
            " [ 5  2  1  3]\n",
            " [ 1  3  9 10]]\n"
          ]
        }
      ]
    },
    {
      "cell_type": "code",
      "source": [
        "# reversed truncation\n",
        "data = pad_sequences(sequences, maxlen=4, truncating='post')\n",
        "print(data)"
      ],
      "metadata": {
        "colab": {
          "base_uri": "https://localhost:8080/"
        },
        "id": "0yTP45nyF8Fp",
        "outputId": "a48350a0-7490-4552-a2e6-2214b9c4f239"
      },
      "execution_count": 17,
      "outputs": [
        {
          "output_type": "stream",
          "name": "stdout",
          "text": [
            "[[4 2 1 3]\n",
            " [4 2 1 6]\n",
            " [5 2 1 3]\n",
            " [7 5 8 1]]\n"
          ]
        }
      ]
    }
  ]
}