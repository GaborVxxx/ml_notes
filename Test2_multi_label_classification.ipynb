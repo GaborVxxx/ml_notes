{
  "nbformat": 4,
  "nbformat_minor": 0,
  "metadata": {
    "colab": {
      "provenance": [],
      "gpuType": "T4",
      "include_colab_link": true
    },
    "kernelspec": {
      "name": "python3",
      "display_name": "Python 3"
    },
    "language_info": {
      "name": "python"
    },
    "accelerator": "GPU",
    "widgets": {
      "application/vnd.jupyter.widget-state+json": {
        "40791011eb154bf384ca897556615c03": {
          "model_module": "@jupyter-widgets/controls",
          "model_name": "HBoxModel",
          "model_module_version": "1.5.0",
          "state": {
            "_dom_classes": [],
            "_model_module": "@jupyter-widgets/controls",
            "_model_module_version": "1.5.0",
            "_model_name": "HBoxModel",
            "_view_count": null,
            "_view_module": "@jupyter-widgets/controls",
            "_view_module_version": "1.5.0",
            "_view_name": "HBoxView",
            "box_style": "",
            "children": [
              "IPY_MODEL_79138da01f2f4cf7b67b671c49cfafc5",
              "IPY_MODEL_c75fac1862ca492dac408996fb2a0b5f",
              "IPY_MODEL_e675c819bc8c4f259b6f35b54d57fdcb"
            ],
            "layout": "IPY_MODEL_becc9c9d2e0646239fd32cb078dfc9bd"
          }
        },
        "79138da01f2f4cf7b67b671c49cfafc5": {
          "model_module": "@jupyter-widgets/controls",
          "model_name": "HTMLModel",
          "model_module_version": "1.5.0",
          "state": {
            "_dom_classes": [],
            "_model_module": "@jupyter-widgets/controls",
            "_model_module_version": "1.5.0",
            "_model_name": "HTMLModel",
            "_view_count": null,
            "_view_module": "@jupyter-widgets/controls",
            "_view_module_version": "1.5.0",
            "_view_name": "HTMLView",
            "description": "",
            "description_tooltip": null,
            "layout": "IPY_MODEL_3b662be4876b4018925798c9d82253f3",
            "placeholder": "​",
            "style": "IPY_MODEL_b152a7051df14810a0483298f45e8154",
            "value": "100%"
          }
        },
        "c75fac1862ca492dac408996fb2a0b5f": {
          "model_module": "@jupyter-widgets/controls",
          "model_name": "FloatProgressModel",
          "model_module_version": "1.5.0",
          "state": {
            "_dom_classes": [],
            "_model_module": "@jupyter-widgets/controls",
            "_model_module_version": "1.5.0",
            "_model_name": "FloatProgressModel",
            "_view_count": null,
            "_view_module": "@jupyter-widgets/controls",
            "_view_module_version": "1.5.0",
            "_view_name": "ProgressView",
            "bar_style": "success",
            "description": "",
            "description_tooltip": null,
            "layout": "IPY_MODEL_2391ff30ab2a45099e9324731f610536",
            "max": 10,
            "min": 0,
            "orientation": "horizontal",
            "style": "IPY_MODEL_a943a9790f0046839a0ee25b86f4a36e",
            "value": 10
          }
        },
        "e675c819bc8c4f259b6f35b54d57fdcb": {
          "model_module": "@jupyter-widgets/controls",
          "model_name": "HTMLModel",
          "model_module_version": "1.5.0",
          "state": {
            "_dom_classes": [],
            "_model_module": "@jupyter-widgets/controls",
            "_model_module_version": "1.5.0",
            "_model_name": "HTMLModel",
            "_view_count": null,
            "_view_module": "@jupyter-widgets/controls",
            "_view_module_version": "1.5.0",
            "_view_name": "HTMLView",
            "description": "",
            "description_tooltip": null,
            "layout": "IPY_MODEL_dccc87bd9cde4aa6967f4a5733e47ed0",
            "placeholder": "​",
            "style": "IPY_MODEL_3c718802bba74e4a8c412135d11ea70c",
            "value": " 10/10 [03:43&lt;00:00, 21.86s/it]"
          }
        },
        "becc9c9d2e0646239fd32cb078dfc9bd": {
          "model_module": "@jupyter-widgets/base",
          "model_name": "LayoutModel",
          "model_module_version": "1.2.0",
          "state": {
            "_model_module": "@jupyter-widgets/base",
            "_model_module_version": "1.2.0",
            "_model_name": "LayoutModel",
            "_view_count": null,
            "_view_module": "@jupyter-widgets/base",
            "_view_module_version": "1.2.0",
            "_view_name": "LayoutView",
            "align_content": null,
            "align_items": null,
            "align_self": null,
            "border": null,
            "bottom": null,
            "display": null,
            "flex": null,
            "flex_flow": null,
            "grid_area": null,
            "grid_auto_columns": null,
            "grid_auto_flow": null,
            "grid_auto_rows": null,
            "grid_column": null,
            "grid_gap": null,
            "grid_row": null,
            "grid_template_areas": null,
            "grid_template_columns": null,
            "grid_template_rows": null,
            "height": null,
            "justify_content": null,
            "justify_items": null,
            "left": null,
            "margin": null,
            "max_height": null,
            "max_width": null,
            "min_height": null,
            "min_width": null,
            "object_fit": null,
            "object_position": null,
            "order": null,
            "overflow": null,
            "overflow_x": null,
            "overflow_y": null,
            "padding": null,
            "right": null,
            "top": null,
            "visibility": null,
            "width": null
          }
        },
        "3b662be4876b4018925798c9d82253f3": {
          "model_module": "@jupyter-widgets/base",
          "model_name": "LayoutModel",
          "model_module_version": "1.2.0",
          "state": {
            "_model_module": "@jupyter-widgets/base",
            "_model_module_version": "1.2.0",
            "_model_name": "LayoutModel",
            "_view_count": null,
            "_view_module": "@jupyter-widgets/base",
            "_view_module_version": "1.2.0",
            "_view_name": "LayoutView",
            "align_content": null,
            "align_items": null,
            "align_self": null,
            "border": null,
            "bottom": null,
            "display": null,
            "flex": null,
            "flex_flow": null,
            "grid_area": null,
            "grid_auto_columns": null,
            "grid_auto_flow": null,
            "grid_auto_rows": null,
            "grid_column": null,
            "grid_gap": null,
            "grid_row": null,
            "grid_template_areas": null,
            "grid_template_columns": null,
            "grid_template_rows": null,
            "height": null,
            "justify_content": null,
            "justify_items": null,
            "left": null,
            "margin": null,
            "max_height": null,
            "max_width": null,
            "min_height": null,
            "min_width": null,
            "object_fit": null,
            "object_position": null,
            "order": null,
            "overflow": null,
            "overflow_x": null,
            "overflow_y": null,
            "padding": null,
            "right": null,
            "top": null,
            "visibility": null,
            "width": null
          }
        },
        "b152a7051df14810a0483298f45e8154": {
          "model_module": "@jupyter-widgets/controls",
          "model_name": "DescriptionStyleModel",
          "model_module_version": "1.5.0",
          "state": {
            "_model_module": "@jupyter-widgets/controls",
            "_model_module_version": "1.5.0",
            "_model_name": "DescriptionStyleModel",
            "_view_count": null,
            "_view_module": "@jupyter-widgets/base",
            "_view_module_version": "1.2.0",
            "_view_name": "StyleView",
            "description_width": ""
          }
        },
        "2391ff30ab2a45099e9324731f610536": {
          "model_module": "@jupyter-widgets/base",
          "model_name": "LayoutModel",
          "model_module_version": "1.2.0",
          "state": {
            "_model_module": "@jupyter-widgets/base",
            "_model_module_version": "1.2.0",
            "_model_name": "LayoutModel",
            "_view_count": null,
            "_view_module": "@jupyter-widgets/base",
            "_view_module_version": "1.2.0",
            "_view_name": "LayoutView",
            "align_content": null,
            "align_items": null,
            "align_self": null,
            "border": null,
            "bottom": null,
            "display": null,
            "flex": null,
            "flex_flow": null,
            "grid_area": null,
            "grid_auto_columns": null,
            "grid_auto_flow": null,
            "grid_auto_rows": null,
            "grid_column": null,
            "grid_gap": null,
            "grid_row": null,
            "grid_template_areas": null,
            "grid_template_columns": null,
            "grid_template_rows": null,
            "height": null,
            "justify_content": null,
            "justify_items": null,
            "left": null,
            "margin": null,
            "max_height": null,
            "max_width": null,
            "min_height": null,
            "min_width": null,
            "object_fit": null,
            "object_position": null,
            "order": null,
            "overflow": null,
            "overflow_x": null,
            "overflow_y": null,
            "padding": null,
            "right": null,
            "top": null,
            "visibility": null,
            "width": null
          }
        },
        "a943a9790f0046839a0ee25b86f4a36e": {
          "model_module": "@jupyter-widgets/controls",
          "model_name": "ProgressStyleModel",
          "model_module_version": "1.5.0",
          "state": {
            "_model_module": "@jupyter-widgets/controls",
            "_model_module_version": "1.5.0",
            "_model_name": "ProgressStyleModel",
            "_view_count": null,
            "_view_module": "@jupyter-widgets/base",
            "_view_module_version": "1.2.0",
            "_view_name": "StyleView",
            "bar_color": null,
            "description_width": ""
          }
        },
        "dccc87bd9cde4aa6967f4a5733e47ed0": {
          "model_module": "@jupyter-widgets/base",
          "model_name": "LayoutModel",
          "model_module_version": "1.2.0",
          "state": {
            "_model_module": "@jupyter-widgets/base",
            "_model_module_version": "1.2.0",
            "_model_name": "LayoutModel",
            "_view_count": null,
            "_view_module": "@jupyter-widgets/base",
            "_view_module_version": "1.2.0",
            "_view_name": "LayoutView",
            "align_content": null,
            "align_items": null,
            "align_self": null,
            "border": null,
            "bottom": null,
            "display": null,
            "flex": null,
            "flex_flow": null,
            "grid_area": null,
            "grid_auto_columns": null,
            "grid_auto_flow": null,
            "grid_auto_rows": null,
            "grid_column": null,
            "grid_gap": null,
            "grid_row": null,
            "grid_template_areas": null,
            "grid_template_columns": null,
            "grid_template_rows": null,
            "height": null,
            "justify_content": null,
            "justify_items": null,
            "left": null,
            "margin": null,
            "max_height": null,
            "max_width": null,
            "min_height": null,
            "min_width": null,
            "object_fit": null,
            "object_position": null,
            "order": null,
            "overflow": null,
            "overflow_x": null,
            "overflow_y": null,
            "padding": null,
            "right": null,
            "top": null,
            "visibility": null,
            "width": null
          }
        },
        "3c718802bba74e4a8c412135d11ea70c": {
          "model_module": "@jupyter-widgets/controls",
          "model_name": "DescriptionStyleModel",
          "model_module_version": "1.5.0",
          "state": {
            "_model_module": "@jupyter-widgets/controls",
            "_model_module_version": "1.5.0",
            "_model_name": "DescriptionStyleModel",
            "_view_count": null,
            "_view_module": "@jupyter-widgets/base",
            "_view_module_version": "1.2.0",
            "_view_name": "StyleView",
            "description_width": ""
          }
        }
      }
    }
  },
  "cells": [
    {
      "cell_type": "markdown",
      "metadata": {
        "id": "view-in-github",
        "colab_type": "text"
      },
      "source": [
        "<a href=\"https://colab.research.google.com/github/GaborVxxx/ml_notes/blob/main/Test2_multi_label_classification.ipynb\" target=\"_parent\"><img src=\"https://colab.research.google.com/assets/colab-badge.svg\" alt=\"Open In Colab\"/></a>"
      ]
    },
    {
      "cell_type": "code",
      "execution_count": 73,
      "metadata": {
        "colab": {
          "base_uri": "https://localhost:8080/"
        },
        "id": "060JksIGS-py",
        "outputId": "739a1ad4-1b6e-4ecb-bd22-e2da104497e4"
      },
      "outputs": [
        {
          "output_type": "stream",
          "name": "stdout",
          "text": [
            "Python 3.10.12\n"
          ]
        }
      ],
      "source": [
        "!python3 --version"
      ]
    },
    {
      "cell_type": "code",
      "source": [
        "import torch\n",
        "import torch.nn as nn\n",
        "import matplotlib.pyplot as plt\n",
        "from transformers import BertTokenizer, BertModel, AdamW, get_scheduler\n",
        "from torch.utils.data import DataLoader, Dataset\n",
        "from sklearn.metrics import accuracy_score, classification_report\n",
        "from sklearn.model_selection import train_test_split\n",
        "import numpy as np\n",
        "from sklearn.metrics import accuracy_score\n",
        "from sklearn.metrics import f1_score, hamming_loss, precision_score, recall_score\n",
        "# Use progress bar\n",
        "from tqdm.auto import tqdm\n",
        "from collections import Counter\n",
        "\n",
        "\n",
        "# Hyperparameters\n",
        "learning_rate = 2e-5  # Adjust if needed\n",
        "batch_size = 16     # Adjust if needed\n",
        "dropout_rate = 0.2   # Adjust dropout rate (0.1 - 0.5 usually work well)\n",
        "random_seed = 42    # Adjust random seed for reproducibility\n",
        "epochs = 10\n",
        "threshold_list = [0.5, 0.7, 0.9]  # Adjust threshold values as needed\n",
        "patience_to_not_improve = 5\n",
        "\n",
        "class TreeClassifier(nn.Module):\n",
        "    def __init__(self, num_classes, dropout_rate):\n",
        "        super().__init__()\n",
        "        self.bert = BertModel.from_pretrained('bert-base-uncased')\n",
        "        # self.dropout = nn.Dropout(dropout_rate) # Dropout layer NOTE : not in use jet the data set is to small\n",
        "        self.fc = nn.Linear(768, num_classes)  # Adjust input size if using different embeddings\n",
        "\n",
        "    def forward(self, input_ids, attention_mask):\n",
        "        outputs = self.bert(input_ids=input_ids, attention_mask=attention_mask)\n",
        "        pooled_output = outputs.pooler_output  # [CLS] token representation\n",
        "        # pooled_output = self.dropout(pooled_output) # Apply dropout NOTE : not in use jet the data set is to small\n",
        "        logits = self.fc(pooled_output)\n",
        "        probabilities = torch.sigmoid(logits)  # Apply sigmoid for multi-label classification\n",
        "        return probabilities"
      ],
      "metadata": {
        "id": "naEd4iqDTnbL"
      },
      "execution_count": 74,
      "outputs": []
    },
    {
      "cell_type": "code",
      "source": [
        "# UTILS\n",
        "from timeit import default_timer as timer\n",
        "\n",
        "def print_train_time(start, end, device=None):\n",
        "    \"\"\" Print traing time \"\"\"\n",
        "    total_time = end - start\n",
        "    print(f\"Train time on {device}: {total_time:.3f} seconds\")\n",
        "    return total_time\n",
        "\n",
        "def getResponse(predicted_labels, threshold):\n",
        "    \"\"\" Print out message \"\"\"\n",
        "    if len(predicted_labels) == 0:\n",
        "      return f\"Im not able to confidently answer... sorry. Can you try to rephrase? (trashold: {threshold})\"\n",
        "    else:\n",
        "      return f\" \".join([label_names[i] for i in predicted_labels]) + f\" (trashold: {threshold})\""
      ],
      "metadata": {
        "id": "DeF04mQ2U2i_"
      },
      "execution_count": 75,
      "outputs": []
    },
    {
      "cell_type": "code",
      "source": [
        "# Make device agnostic code\n",
        "device = \"cuda\" if torch.cuda.is_available() else \"cpu\"\n",
        "device"
      ],
      "metadata": {
        "colab": {
          "base_uri": "https://localhost:8080/",
          "height": 35
        },
        "id": "H0153lSgU8Y9",
        "outputId": "1af66c31-2426-4333-f3b6-26437ed1b798"
      },
      "execution_count": 76,
      "outputs": [
        {
          "output_type": "execute_result",
          "data": {
            "text/plain": [
              "'cpu'"
            ],
            "application/vnd.google.colaboratory.intrinsic+json": {
              "type": "string"
            }
          },
          "metadata": {},
          "execution_count": 76
        }
      ]
    },
    {
      "cell_type": "code",
      "source": [
        "# Define Dataset class\n",
        "class TextDataset(Dataset):\n",
        "    def __init__(self, texts, labels, tokenizer, max_len):\n",
        "        self.texts = texts\n",
        "        self.labels = labels\n",
        "        self.tokenizer = tokenizer\n",
        "        self.max_len = max_len\n",
        "\n",
        "    def __len__(self):\n",
        "        return len(self.texts)\n",
        "\n",
        "    def __getitem__(self, idx):\n",
        "        text = self.texts[idx]\n",
        "        label = self.labels[idx]\n",
        "        encoding = self.tokenizer(\n",
        "            text,\n",
        "            max_length=self.max_len,\n",
        "            truncation=True,\n",
        "            padding='max_length',\n",
        "            return_tensors='pt'\n",
        "        )\n",
        "        return {\n",
        "            'input_ids': encoding['input_ids'].squeeze(0),\n",
        "            'attention_mask': encoding['attention_mask'].squeeze(0),\n",
        "            'label': torch.tensor(label, dtype=torch.long)\n",
        "        }"
      ],
      "metadata": {
        "id": "HCV-IaTqWvRV"
      },
      "execution_count": 77,
      "outputs": []
    },
    {
      "cell_type": "code",
      "source": [
        "\"\"\"\n",
        "label_names = [\n",
        "    \"R0\",\n",
        "    \"B1\",\"B2\",\"B3\",\"B4\",\"B5\",\"B7\",\"B8\",\"B9\",\n",
        "    \"P1\",\"P2\",\"P3\",\"P4\",\"P13\",\"P14\",\"P15\",\"P16\",\n",
        "    \"Y1\",\"Y2\",\"Y3\",\"Y4\",\"Y5\",\"Y6\",\"Y19\",\"Y20\",\"Y21\",\"Y22\",\"Y23\",\"Y24\",\"Y25\",\"Y26\",\"Y27\",\"Y28\",\"Y29\",\"Y30\",\n",
        "    \"G1\",\"G2\",\"G3\",\"G4\"\n",
        "]\n",
        "\"\"\"\n",
        "\n",
        "label_names = [\n",
        "    \"R0\",\n",
        "    \"B5\",\n",
        "]\n",
        "\n",
        "text_examples = [\n",
        "    {\"text\": \"I like to start a mixer\", \"labels\": [\"R0\"]},\n",
        "    {\"text\": \"I like to change my chart to a mixer chart\", \"labels\": [\"R0\"]},\n",
        "    {\"text\": \"Mixer\", \"labels\": [\"R0\"]},\n",
        "    {\"text\": \"I don't want a simple chart\", \"labels\": [\"R0\"]},\n",
        "    {\"text\": \"I like to have multiple chart together in one\", \"labels\": [\"R0\"]},\n",
        "    {\"text\": \"I like to combine multiple charts\", \"labels\": [\"R0\"]},\n",
        "    {\"text\": \"I like to have a gauge\", \"labels\": [\"B5\"]},\n",
        "    {\"text\": \"I need a gauge\", \"labels\": [\"B5\"]},\n",
        "    {\"text\": \"Gauge.\", \"labels\": [\"B5\"]},\n",
        "    {\"text\": \"Progress line\", \"labels\": [\"B5\"]},\n",
        "    {\"text\": \"Progress bar\", \"labels\": [\"B5\"]},\n",
        "    {\"text\": \"line\", \"labels\": [\"B5\"]},\n",
        "    {\"text\": \"I like to have a line\", \"labels\": [\"B5\"]},\n",
        "]\n",
        "\n",
        "texts = [example[\"text\"] for example in text_examples]\n",
        "\n",
        "labels = [[1 if label in example[\"labels\"] else 0 for label in label_names] for example in text_examples]\n",
        "\n",
        "labels = np.array(labels)\n",
        "\n",
        "X_train, X_test, y_train, y_test = train_test_split(texts, labels, test_size=0.2, random_state=random_seed)"
      ],
      "metadata": {
        "id": "4Uw2qGO9VKxR"
      },
      "execution_count": 78,
      "outputs": []
    },
    {
      "cell_type": "code",
      "source": [
        "\n",
        "# Calculate frequency of each label\n",
        "label_count = Counter()\n",
        "for example in text_examples:\n",
        "    for label in example[\"labels\"]:\n",
        "        label_count[label] += 1\n",
        "\n",
        "# Calculate class weights\n",
        "num_samples = len(text_examples)\n",
        "class_weights = {}\n",
        "for label, count in label_count.items():\n",
        "    # You can adjust the formula to suit your needs\n",
        "    weight = num_samples / (len(label_names) * count)  # Inverse frequency\n",
        "    class_weights[label] = weight\n",
        "\n",
        "# Convert class_weights to a tensor\n",
        "class_weights_tensor = torch.tensor([class_weights[label] if label in class_weights else 1.0 for label in label_names])\n",
        "class_weights_tensor = class_weights_tensor.to(device)\n",
        "print(class_weights_tensor)\n"
      ],
      "metadata": {
        "id": "cfucrC3OXr1q",
        "outputId": "bc821c17-cde5-4f80-e1df-696fe7ffde2c",
        "colab": {
          "base_uri": "https://localhost:8080/"
        }
      },
      "execution_count": 79,
      "outputs": [
        {
          "output_type": "stream",
          "name": "stdout",
          "text": [
            "tensor([1.0833, 0.9286])\n"
          ]
        }
      ]
    },
    {
      "cell_type": "code",
      "source": [
        "tokenizer = BertTokenizer.from_pretrained('bert-base-uncased')\n",
        "dataset = TextDataset(X_train, y_train, tokenizer, max_len=128)\n",
        "data_loader = DataLoader(dataset, batch_size=batch_size, shuffle=True)"
      ],
      "metadata": {
        "id": "zoXrenWB5db4"
      },
      "execution_count": 80,
      "outputs": []
    },
    {
      "cell_type": "code",
      "source": [
        "test_dataset = TextDataset(X_test, y_test, tokenizer, max_len=128)\n",
        "test_loader = DataLoader(test_dataset, batch_size=batch_size, shuffle=False)"
      ],
      "metadata": {
        "id": "PUJFw2EeYQLs"
      },
      "execution_count": 81,
      "outputs": []
    },
    {
      "cell_type": "code",
      "source": [
        "# Plot the data\n",
        "plt.figure(figsize=(10, 7))\n",
        "\n",
        "# Convert y_train to a list of tuples for hashability\n",
        "y_train_hashable = [tuple(row) for row in y_train]\n",
        "\n",
        "plt.hist(y_train_hashable, bins=len(set(y_train_hashable)))  # Plot histogram of labels\n",
        "plt.xlabel('Labels')\n",
        "plt.ylabel('Frequency')\n",
        "plt.title('Distribution of Labels in Training Set')\n",
        "plt.xticks(rotation=45, ha='right')  # Rotate x-axis labels for better readability\n",
        "\n",
        "plt.show()"
      ],
      "metadata": {
        "colab": {
          "base_uri": "https://localhost:8080/",
          "height": 653
        },
        "id": "nR5poTlUV9fi",
        "outputId": "fb6e56f0-a112-4be0-8fef-674a32ceff71"
      },
      "execution_count": 82,
      "outputs": [
        {
          "output_type": "display_data",
          "data": {
            "text/plain": [
              "<Figure size 1000x700 with 1 Axes>"
            ],
            "image/png": "[encoded data removed]"
          },
          "metadata": {}
        }
      ]
    },
    {
      "cell_type": "code",
      "source": [
        "# Early Stopping Parameters\n",
        "best_val_loss = float('inf')  # Initialize with a very large value\n",
        "patience = patience_to_not_improve  # Number of epochs to wait for improvement\n",
        "epochs_without_improvement = 0"
      ],
      "metadata": {
        "id": "Uh0bDkYm4Fko"
      },
      "execution_count": 83,
      "outputs": []
    },
    {
      "cell_type": "code",
      "source": [
        "# Example Usage\n",
        "model = TreeClassifier(num_classes=len(label_names), dropout_rate=dropout_rate).to(device)\n",
        "#criterion = nn.CrossEntropyLoss(weight=class_weights_tensor)\n",
        "criterion = nn.BCEWithLogitsLoss(weight=class_weights_tensor)\n",
        "optimizer = torch.optim.Adam(model.parameters(), lr=learning_rate)\n",
        "#optimizer = AdamW(model.parameters(), lr=5e-5)\n",
        "\n",
        "total_steps = len(data_loader) * epochs\n",
        "print(f\"Total training steps: {total_steps}\")\n",
        "\n",
        "# Configure the scheduler\n",
        "scheduler = get_scheduler(\n",
        "    name=\"linear\",  # Linear learning rate decay\n",
        "    optimizer=optimizer,\n",
        "    num_warmup_steps=100,  # Warmup steps (adjust based on your dataset)\n",
        "    num_training_steps=total_steps\n",
        ")\n",
        "\n",
        "start = timer()\n",
        "\n",
        "for epoch in tqdm(range(epochs)):\n",
        "    model.train()  # Set the model to training mode\n",
        "    total_loss = 0\n",
        "    all_preds = []\n",
        "    all_labels = []\n",
        "\n",
        "    for batch in data_loader:\n",
        "        # Retrieve data from batch\n",
        "        input_ids = batch['input_ids'].to(device)\n",
        "        attention_mask = batch['attention_mask'].to(device)\n",
        "        labels = batch['label'].to(device)\n",
        "\n",
        "        # Forward pass: Get predictions from the model\n",
        "        outputs = model(input_ids=input_ids, attention_mask=attention_mask)  # Shape: [batch_size, num_classes]\n",
        "\n",
        "        # Collect predictions and true labels\n",
        "        # Convert model outputs to multi-label predictions using a threshold\n",
        "        threshold = 0.5  # Adjust as needed\n",
        "        preds = (outputs > threshold).cpu().numpy()  # Apply threshold to get multi-label predictions\n",
        "        all_preds.extend(preds)  # Store all predictions\n",
        "        all_labels.extend(labels.cpu().numpy())  # Store all true labels\n",
        "\n",
        "        # Compute loss\n",
        "        loss = criterion(outputs, labels.float())\n",
        "\n",
        "        # Backward pass: Optimize the model\n",
        "        optimizer.zero_grad()  # Clear previous gradients\n",
        "        loss.backward()        # Compute gradients\n",
        "        optimizer.step()       # Update weights\n",
        "\n",
        "        # Update the scheduler\n",
        "        scheduler.step()\n",
        "\n",
        "        total_loss += loss.item()\n",
        "\n",
        "    # Calculate overall accuracy for the epoch\n",
        "    #epoch_accuracy = compute_accuracy(all_labels, all_preds)\n",
        "    epoch_hamming_loss = hamming_loss(all_labels, all_preds)\n",
        "\n",
        "    # Logging the loss and accuracy for this epoch\n",
        "    avg_loss = total_loss / len(data_loader)\n",
        "    if (epoch + 1) % 1 == 0:  # print every epoch (adjust the '1' to control frequency)\n",
        "        print(f\"Epoch {epoch + 1}/{epochs}, Loss: {avg_loss:.4f}, Hamming Loss: {epoch_hamming_loss:.4f}\")\n",
        "\n",
        "    # Validation Phase (Calculate val_loss)\n",
        "    model.eval()\n",
        "    val_loss = 0  # Initialize validation loss\n",
        "    with torch.no_grad():\n",
        "        for val_batch in data_loader:\n",
        "            input_ids = val_batch['input_ids'].to(device)\n",
        "            attention_mask = val_batch['attention_mask'].to(device)\n",
        "            labels = val_batch['label'].to(device)\n",
        "\n",
        "            outputs = model(input_ids=input_ids, attention_mask=attention_mask)\n",
        "\n",
        "            # Compute loss\n",
        "            loss = criterion(outputs, labels.float())\n",
        "            val_loss += loss.item()\n",
        "\n",
        "    val_loss /= len(data_loader)  # Average validation loss\n",
        "    print(f\"Validation Loss: {val_loss:.4f}\")  # Print validation loss\n",
        "\n",
        "    # Early Stopping Check\n",
        "    if val_loss < best_val_loss:\n",
        "        best_val_loss = val_loss\n",
        "        epochs_without_improvement = 0\n",
        "        # Save the model's state_dict (optional)\n",
        "        torch.save(model.state_dict(), 'best_model.pth')\n",
        "    else:\n",
        "        epochs_without_improvement += 1\n",
        "        if epochs_without_improvement >= patience:\n",
        "            print(\"Early stopping triggered.\")\n",
        "            break\n",
        "\n",
        "\n",
        "end = timer()\n",
        "print_train_time(start, end, device)"
      ],
      "metadata": {
        "colab": {
          "base_uri": "https://localhost:8080/",
          "height": 448,
          "referenced_widgets": [
            "40791011eb154bf384ca897556615c03",
            "79138da01f2f4cf7b67b671c49cfafc5",
            "c75fac1862ca492dac408996fb2a0b5f",
            "e675c819bc8c4f259b6f35b54d57fdcb",
            "becc9c9d2e0646239fd32cb078dfc9bd",
            "3b662be4876b4018925798c9d82253f3",
            "b152a7051df14810a0483298f45e8154",
            "2391ff30ab2a45099e9324731f610536",
            "a943a9790f0046839a0ee25b86f4a36e",
            "dccc87bd9cde4aa6967f4a5733e47ed0",
            "3c718802bba74e4a8c412135d11ea70c"
          ]
        },
        "id": "OApsIdn3W8RI",
        "outputId": "6886f46d-ae9a-4349-eda1-157465717cc6"
      },
      "execution_count": 84,
      "outputs": [
        {
          "output_type": "stream",
          "name": "stdout",
          "text": [
            "Total training steps: 10\n"
          ]
        },
        {
          "output_type": "display_data",
          "data": {
            "text/plain": [
              "  0%|          | 0/10 [00:00<?, ?it/s]"
            ],
            "application/vnd.jupyter.widget-view+json": {
              "version_major": 2,
              "version_minor": 0,
              "model_id": "40791011eb154bf384ca897556615c03"
            }
          },
          "metadata": {}
        },
        {
          "output_type": "stream",
          "name": "stdout",
          "text": [
            "Epoch 1/10, Loss: 0.7333, Hamming Loss: 0.5000\n",
            "Validation Loss: 0.7322\n",
            "Epoch 2/10, Loss: 0.7283, Hamming Loss: 0.5000\n",
            "Validation Loss: 0.7321\n",
            "Epoch 3/10, Loss: 0.7334, Hamming Loss: 0.5000\n",
            "Validation Loss: 0.7319\n",
            "Epoch 4/10, Loss: 0.7310, Hamming Loss: 0.5000\n",
            "Validation Loss: 0.7317\n",
            "Epoch 5/10, Loss: 0.7294, Hamming Loss: 0.5000\n",
            "Validation Loss: 0.7313\n",
            "Epoch 6/10, Loss: 0.7317, Hamming Loss: 0.5000\n",
            "Validation Loss: 0.7309\n",
            "Epoch 7/10, Loss: 0.7280, Hamming Loss: 0.5000\n",
            "Validation Loss: 0.7304\n",
            "Epoch 8/10, Loss: 0.7295, Hamming Loss: 0.5000\n",
            "Validation Loss: 0.7298\n",
            "Epoch 9/10, Loss: 0.7297, Hamming Loss: 0.5000\n",
            "Validation Loss: 0.7290\n",
            "Epoch 10/10, Loss: 0.7284, Hamming Loss: 0.5000\n",
            "Validation Loss: 0.7282\n",
            "Train time on cpu: 223.696 seconds\n"
          ]
        },
        {
          "output_type": "execute_result",
          "data": {
            "text/plain": [
              "223.69575814300015"
            ]
          },
          "metadata": {},
          "execution_count": 84
        }
      ]
    },
    {
      "cell_type": "code",
      "source": [
        "def predict_single_text(model, tokenizer, text, device, max_len=128, threshold=0.5):\n",
        "    model.eval()\n",
        "    with torch.no_grad():\n",
        "        # Tokenize input text\n",
        "        encoding = tokenizer(\n",
        "            text,\n",
        "            max_length=max_len,\n",
        "            truncation=True,\n",
        "            padding='max_length',\n",
        "            return_tensors='pt'\n",
        "        )\n",
        "        input_ids = encoding['input_ids'].to(device)\n",
        "        attention_mask = encoding['attention_mask'].to(device)\n",
        "\n",
        "        # Get predictions\n",
        "        output = model(input_ids=input_ids, attention_mask=attention_mask)\n",
        "        probabilities = output.cpu().numpy()[0]\n",
        "        predicted_labels = [i for i, prob in enumerate(probabilities) if prob > threshold]\n",
        "\n",
        "    return predicted_labels, probabilities\n",
        "\n",
        "# Example Usage\n",
        "texts = [\"mixer\", \"line\"]\n",
        "for text in texts:\n",
        "  thresholds = threshold_list\n",
        "  for threshold in thresholds:\n",
        "    predicted_labels, probabilities = predict_single_text(model, tokenizer, text, device, threshold=threshold)\n",
        "    print(f\"Threshold: {threshold}, Predicted Labels: {[label_names[i] for i in predicted_labels]}, Probabilities: {probabilities}\")\n",
        "    #print(getResponse(predicted_labels, threshold))\n"
      ],
      "metadata": {
        "colab": {
          "base_uri": "https://localhost:8080/"
        },
        "id": "ikWlY-0DYay4",
        "outputId": "c33e82df-cb91-45ed-c79f-01f2d7da24d6"
      },
      "execution_count": 85,
      "outputs": [
        {
          "output_type": "stream",
          "name": "stdout",
          "text": [
            "Threshold: 0.5, Predicted Labels: ['B5'], Probabilities: [0.43467605 0.61438626]\n",
            "Threshold: 0.7, Predicted Labels: [], Probabilities: [0.43467605 0.61438626]\n",
            "Threshold: 0.9, Predicted Labels: [], Probabilities: [0.43467605 0.61438626]\n",
            "Threshold: 0.5, Predicted Labels: ['B5'], Probabilities: [0.44697267 0.5863239 ]\n",
            "Threshold: 0.7, Predicted Labels: [], Probabilities: [0.44697267 0.5863239 ]\n",
            "Threshold: 0.9, Predicted Labels: [], Probabilities: [0.44697267 0.5863239 ]\n"
          ]
        }
      ]
    }
  ]
}