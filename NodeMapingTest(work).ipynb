{
  "nbformat": 4,
  "nbformat_minor": 0,
  "metadata": {
    "colab": {
      "provenance": [],
      "authorship_tag": "ABX9TyOBXjOu1v83RQhETmc3fbMH",
      "include_colab_link": true
    },
    "kernelspec": {
      "name": "python3",
      "display_name": "Python 3"
    },
    "language_info": {
      "name": "python"
    }
  },
  "cells": [
    {
      "cell_type": "markdown",
      "metadata": {
        "id": "view-in-github",
        "colab_type": "text"
      },
      "source": [
        "<a href=\"https://colab.research.google.com/github/GaborVxxx/ml_notes/blob/main/NodeMapingTest(work).ipynb\" target=\"_parent\"><img src=\"https://colab.research.google.com/assets/colab-badge.svg\" alt=\"Open In Colab\"/></a>"
      ]
    },
    {
      "cell_type": "code",
      "source": [
        "import numpy as np\n",
        "import pandas as pd\n",
        "from sklearn.feature_extraction.text import CountVectorizer\n",
        "from sklearn.naive_bayes import MultinomialNB\n",
        "from sklearn.model_selection import train_test_split\n",
        "from sklearn.metrics import accuracy_score, classification_report"
      ],
      "metadata": {
        "id": "bbdwdTpR0V80"
      },
      "execution_count": 118,
      "outputs": []
    },
    {
      "cell_type": "code",
      "source": [
        "from nltk.stem import WordNetLemmatizer\n",
        "from nltk.tokenize import word_tokenize\n",
        "import nltk\n",
        "from nltk.corpus import wordnet\n",
        "\n",
        "nltk.download('punkt')\n",
        "nltk.download('punkt_tab')\n",
        "nltk.download('wordnet')\n",
        "nltk.download('averaged_perceptron_tagger')\n",
        "nltk.download('averaged_perceptron_tagger_eng')"
      ],
      "metadata": {
        "colab": {
          "base_uri": "https://localhost:8080/"
        },
        "id": "SaKhDLzvqHin",
        "outputId": "2f3c2548-8c30-487e-f0d6-6dd3e33a3686"
      },
      "execution_count": 119,
      "outputs": [
        {
          "output_type": "stream",
          "name": "stderr",
          "text": [
            "[nltk_data] Downloading package punkt to /root/nltk_data...\n",
            "[nltk_data]   Package punkt is already up-to-date!\n",
            "[nltk_data] Downloading package punkt_tab to /root/nltk_data...\n",
            "[nltk_data]   Package punkt_tab is already up-to-date!\n",
            "[nltk_data] Downloading package wordnet to /root/nltk_data...\n",
            "[nltk_data]   Package wordnet is already up-to-date!\n",
            "[nltk_data] Downloading package averaged_perceptron_tagger to\n",
            "[nltk_data]     /root/nltk_data...\n",
            "[nltk_data]   Package averaged_perceptron_tagger is already up-to-\n",
            "[nltk_data]       date!\n",
            "[nltk_data] Downloading package averaged_perceptron_tagger_eng to\n",
            "[nltk_data]     /root/nltk_data...\n",
            "[nltk_data]   Package averaged_perceptron_tagger_eng is already up-to-\n",
            "[nltk_data]       date!\n"
          ]
        },
        {
          "output_type": "execute_result",
          "data": {
            "text/plain": [
              "True"
            ]
          },
          "metadata": {},
          "execution_count": 119
        }
      ]
    },
    {
      "cell_type": "code",
      "source": [
        "text_examples = [\n",
        "    {\"text\": \"I like to start a mixer\"},\n",
        "    {\"text\": \"I like to change my chart to a mixer chart\"},\n",
        "    {\"text\": \"Mixer\"},\n",
        "    {\"text\": \"I don't want a simple chart\"},\n",
        "    {\"text\": \"I like to have multiple chart together in one\"},\n",
        "    {\"text\": \"I like to combine multiple charts\"},\n",
        "    {\"text\": \"I like to have a gauge\"},\n",
        "    {\"text\": \"I need a gauge\"},\n",
        "    {\"text\": \"Gauge.\"},\n",
        "    {\"text\": \"Progress line\"},\n",
        "    {\"text\": \"Progress bar\"},\n",
        "    {\"text\": \"line\"},\n",
        "    {\"text\": \"I like to have a line\"},\n",
        "    {\"text\": \"Could you please generate the monthly sales report for me?\"},\n",
        "    {\"text\": \"Would you mind sharing the weekly activity report for our team?\"},\n",
        "    {\"text\": \"Can you prepare a report comparing last quarter's earnings with this quarter?\"},\n",
        "    {\"text\": \"I’m looking for a summary report of all completed tasks for this week.\"},\n",
        "    {\"text\": \"Can you create a report detailing the expenses for this financial year?\"},\n",
        "    {\"text\": \"I’d like a report showing the top-performing employees in the past six months.\"},\n",
        "    {\"text\": \"Can you provide a report analyzing the website traffic trends over the last 30 days?\"},\n",
        "    {\"text\": \"Could you generate a sales report with bar charts showing monthly revenue growth?\"},\n",
        "    {\"text\": \"Can I get a progress line tracking the completion of tasks over the past quarter?\"},\n",
        "    {\"text\": \"Could you prepare a chart summarizing sales for this month?\"},\n",
        "    {\"text\": \"Can you share a report with area charts for weekly task completion rates?\"},\n",
        "    {\"text\": \"I need a detailed report with line charts showing the sales trend this year.\"},\n",
        "    {\"text\": \"Please create a dashboard with gauges to show current sales performance.\"},\n",
        "    {\"text\": \"Could you provide a bar chart to see this year's sales.\"},\n",
        "    {\"text\": \"Can you include a line chart illustrating the progression of tasks over time?\"},\n",
        "    {\"text\": \"I need a report with a progress line for milestones achieved this quarter.\"},\n",
        "    {\"text\": \"I need a report with a progress line or gauge for milestones achieved this week.\"},\n",
        "    {\"text\": \"Could you share a report with gauges to visualize sales targets versus actuals?\"},\n",
        "    {\"text\": \"Can you add an area chart to highlight the revenue for this year?\"},\n",
        "    {\"text\": \"I’d like a report summarizing sales using bar or line charts for easy comparison.\"},\n",
        "    {\"text\": \"Please create a report with line charts showing task progress week by week.\"},\n",
        "    {\"text\": \"Could you prepare a summary report using charts to analyze task trends?\"},\n",
        "    {\"text\": \"Can you generate a chart that shows sales broken down by product categories?\"},\n",
        "    {\"text\": \"Include an area chart in the report to show monthly revenue accumulations.\"},\n",
        "    {\"text\": \"Could you provide a progress line chart for the completion status of ongoing tasks?\"},\n",
        "    {\"text\": \"Create a chart showing task completion rates.\"},\n",
        "    {\"text\": \"Can you add a report with a line chart showing the team's productivity trends?\"},\n",
        "    {\"text\": \"I’d like a bar chart in the report comparing weekly sales for the past three months.\"},\n",
        "    {\"text\": \"Please include gauges in the report to reflect sales goals and current achievements.\"},\n",
        "    {\"text\": \"Can you share a report with a line chart tracking monthly customer sales?\"},\n",
        "    {\"text\": \"Add an area chart summarizing overall task growth and backlog reduction.\"},\n",
        "    {\"text\": \"Could you create a mixed report with bar charts?\"},\n",
        "    {\"text\": \"Provide a dashboard report with line chart tracking team performance metrics.\"},\n",
        "    {\"text\": \"Can you include a bar chart showing sales by department in the final report?\"},\n",
        "    {\"text\": \"Prepare a report with chart showing tasks in progress.\"},\n",
        "    {\"text\": \"Include a bar chart to compare this month's sales against last month's sales.\"},\n",
        "    {\"text\": \"I need an area chart showing cumulative growth in task completions over time.\"},\n",
        "    {\"text\": \"I need a chart to show me the highest sale this week.\"},\n",
        "    {\"text\": \"Need a chart to show me the highest sale this month.\"},\n",
        "    {\"text\": \"I want a chart to show me the highest sale this year.\"},\n",
        "    {\"text\": \"I like a chart to show me the highest sale last year.\"},\n",
        "    {\"text\": \"I need a chart to show me the highest sale last week.\"},\n",
        "    {\"text\": \"I need a chart to show me the highest sale last month.\"},\n",
        "    {\"text\": \"I need a chart to show me the highest today.\"},\n",
        "    {\"text\": \"I need a chart to show me the highest sale yesterday.\"},\n",
        "    {\"text\": \"Can you add a line chart in the report to reflect quarterly sales trends?\"},\n",
        "    {\"text\": \"Could you include a gauge to show the percentage of tasks completed for the week?\"},\n",
        "    {\"text\": \"Could you include a gauge to show the percentage of tasks completed for the month?\"},\n",
        "    {\"text\": \"Add an area chart to illustrate overall task distributions.\"},\n",
        "    {\"text\": \"Could you prepare a summary report with gauges for individual team performances?\"},\n",
        "    {\"text\": \"I need a progress line in the report to track sales on company settings.\"},\n",
        "    {\"text\": \"Provide a chart showing weekly revenue growth.\"},\n",
        "    {\"text\": \"I need a chart to show me the overdue task for all users.\"},\n",
        "    {\"text\": \"I need a chart to show me the overdue task for all team.\"},\n",
        "    {\"text\": \"I like to track a sales of my team.\"},\n",
        "    {\"text\": \"I like to track my sales\"},\n",
        "    {\"text\": \"Could you generate a bar chart showing the breakdown of completed tasks by team?\"},\n",
        "    {\"text\": \"Can you prepare a report with a line chart to show year-over-year sales growth?\"},\n",
        "    {\"text\": \"Include a line chart tracking the progress of tasks across different departments.\"},\n",
        "    {\"text\": \"Can you create a report summarizing recent task progress?\"},\n",
        "    {\"text\": \"Could you provide a visual report on weekly sales trends?\"},\n",
        "    {\"text\": \"I need a summary of completed tasks for the quarter.\"},\n",
        "    {\"text\": \"Can you generate a report showing key sales metrics for this month?\"},\n",
        "    {\"text\": \"Could you prepare a report that highlights task completion patterns?\"},\n",
        "    {\"text\": \"Provide a visual overview of sales performance for the year.\"},\n",
        "    {\"text\": \"Can you create a progress report covering all recent tasks?\"},\n",
        "    {\"text\": \"I’d like a report with insights into quarterly sales growth.\"},\n",
        "    {\"text\": \"Could you share a report on tasks delayed over the past month?\"},\n",
        "    {\"text\": \"Can you prepare a visual breakdown of daily sales activity?\"},\n",
        "    {\"text\": \"Please create a report covering monthly task trends.\"},\n",
        "    {\"text\": \"Could you generate a summary of weekly completed tasks?\"},\n",
        "    {\"text\": \"I need a report analyzing sales activity over the past year.\"},\n",
        "    {\"text\": \"Can you share an overview of task completion rates this week?\"},\n",
        "    {\"text\": \"Provide a report summarizing key metrics for last quarter's sales.\"},\n",
        "    {\"text\": \"Could you compile a list of tasks accomplished in recent months?\"},\n",
        "    {\"text\": \"I’d like a high-level view of task progress for this month.\"},\n",
        "    {\"text\": \"Can you provide a year-to-date overview of sales performance?\"},\n",
        "    {\"text\": \"Please generate a report summarizing ongoing tasks this week.\"},\n",
        "    {\"text\": \"Could you create a report on recent changes in sales numbers?\"},\n",
        "    {\"text\": \"I’d like to see a breakdown of completed tasks by week.\"},\n",
        "    {\"text\": \"Can you provide a historical overview of quarterly sales trends?\"},\n",
        "    {\"text\": \"Generate a report showing the daily progress of ongoing tasks.\"},\n",
        "    {\"text\": \"Could you prepare a summary of monthly sales performance?\"},\n",
        "    {\"text\": \"I’d like a detailed overview of sales trends for the current year.\"},\n",
        "    {\"text\": \"Can you create a weekly report showing task completion rates?\"},\n",
        "    {\"text\": \"Provide a summary of top-performing sales products this quarter.\"},\n",
        "    {\"text\": \"Could you create a report showing task delays over the past week?\"},\n",
        "    {\"text\": \"I’d like an overview of monthly sales performance by department.\"},\n",
        "    {\"text\": \"Can you prepare a summary of this year’s task milestones?\"},\n",
        "    {\"text\": \"Generate a visual summary of sales trends over the last 30 days.\"},\n",
        "    {\"text\": \"Please compile a weekly progress report for current tasks.\"},\n",
        "    {\"text\": \"Can you provide an overview of annual sales growth?\"},\n",
        "    {\"text\": \"Could you share a breakdown of overdue tasks for this month?\"},\n",
        "    {\"text\": \"I’d like a detailed report covering quarterly sales performance.\"},\n",
        "    {\"text\": \"Can you generate a summary of daily task achievements?\"},\n",
        "    {\"text\": \"Provide a monthly report showing changes in sales numbers.\"},\n",
        "    {\"text\": \"Could you create a task progress report for the current sprint?\"},\n",
        "    {\"text\": \"I need an overview of sales activities across all regions this week.\"},\n",
        "    {\"text\": \"Can you share a breakdown of completed tasks from last quarter?\"},\n",
        "    {\"text\": \"Please create a summary report showing monthly task trends.\"},\n",
        "    {\"text\": \"Generate a visual overview of sales growth over the past quarter.\"},\n",
        "    {\"text\": \"Could you prepare a report on task backlog trends for the past month?\"},\n",
        "    {\"text\": \"I’d like an overview of weekly sales activity by category.\"},\n",
        "    {\"text\": \"Can you provide a quarterly summary of task progress by team?\"},\n",
        "    {\"text\": \"Please compile a report covering monthly sales by product line.\"},\n",
        "    {\"text\": \"Could you prepare a visual summary of sales trends over time?\"},\n",
        "    {\"text\": \"I need a high-level summary of quarterly task completion metrics.\"},\n",
        "    {\"text\": \"closed opportunity's report\"},\n",
        "    {\"text\": \"I like to have a dynamic chart\"},\n",
        "]"
      ],
      "metadata": {
        "id": "5tb5S6m5bzu_"
      },
      "execution_count": 120,
      "outputs": []
    },
    {
      "cell_type": "code",
      "source": [
        "nodes = [\n",
        "    {\n",
        "        \"name\": \"R0\", \"labels\":[\"mixer\", \"new\", \"restart\", \"start\"]\n",
        "    },\n",
        "    {\n",
        "        \"name\": \"B5\", \"labels\":[\"gauge\", \"progress\"]\n",
        "    },\n",
        "    {\n",
        "        \"name\": \"B8\", \"labels\":[\"line\", \"heat\", \"pie\", \"area\", \"bar\"]\n",
        "    },\n",
        "    {\n",
        "        \"name\": \"P1\", \"labels\":[\"user\", \"team\", \"company\"]\n",
        "    },\n",
        "    {\n",
        "        \"name\": \"P2\", \"labels\":[\"task\", \"sale\"]\n",
        "    },\n",
        "    {\n",
        "        \"name\": \"P3\", \"labels\":[\"daily\", \"weekly\", \"monthly\", \"yearly\", \"queterly\"]\n",
        "    },\n",
        "    {\n",
        "        \"name\": \"Y23\", \"labels\":[\"all\", \"between\", \"range\"]\n",
        "    },\n",
        "    {\n",
        "        \"name\": \"Y26\", \"labels\":[\"day\", \"current\", \"previous\", \"week\", \"month\", \"year\", \"quarter\"]\n",
        "    },\n",
        "    {\n",
        "        \"name\": \"Y27\", \"labels\":[\"paid\", \"pending\", \"cancelled\", \"refunded\", \"partial\"]\n",
        "    },\n",
        "    {\n",
        "        \"name\": \"Y28\", \"labels\":[\"avarage\", \"sum\", \"min\", \"max\", \"count\", \"total\"]\n",
        "    },\n",
        "    {\n",
        "        \"name\": \"Y29\", \"labels\":[\"dynamic\", \"scalling\"]\n",
        "    },\n",
        "    {\n",
        "        \"name\": \"P15\", \"labels\":[\"organisation\", \"team\", \"product\", \"course\", \"customer\", \"source\", \"user\", \"opportunity\"]\n",
        "    },\n",
        "    {\n",
        "        \"name\": \"Y24\", \"labels\":[\"paid\", \"pending\", \"cancelled\", \"refunded\", \"partial\"]\n",
        "    },\n",
        "    {\n",
        "        \"name\": \"Y25\", \"labels\":[\"avarage\", \"sum\", \"min\", \"max\", \"count\", \"total\"]\n",
        "    },\n",
        "    {\n",
        "        \"name\": \"P13\", \"labels\":[\"organisation\", \"team\", \"product\", \"course\", \"customer\", \"source\", \"user\", \"opportunity\"]\n",
        "    },\n",
        "\n",
        "]"
      ],
      "metadata": {
        "id": "WnzbsxG_cXHS"
      },
      "execution_count": 121,
      "outputs": []
    },
    {
      "cell_type": "code",
      "source": [
        "node_paths = [\n",
        "    [\"R0\", \"B5\", \"P1\", \"P2\", \"P3\"],\n",
        "    [\"R0\", \"B8\", \"Y23\", \"Y26\", \"Y27\", \"Y28\",],\n",
        "    [\"R0\", \"B8\", \"Y23\", \"Y26\", \"Y27\", \"Y28\", \"Y29\"],\n",
        "    [\"R0\", \"B8\", \"Y23\", \"Y26\", \"Y27\", \"Y28\", \"P15\"],\n",
        "    [\"R0\", \"B8\", \"Y23\", \"Y24\", \"Y25\"],\n",
        "    [\"R0\", \"B8\", \"Y23\", \"Y24\", \"Y25\", \"P13\"]\n",
        "]"
      ],
      "metadata": {
        "id": "FVZLJrMbmadT"
      },
      "execution_count": 122,
      "outputs": []
    },
    {
      "cell_type": "code",
      "source": [
        "# Define a mapping from NLTK POS tags to WordNet POS\n",
        "def get_wordnet_pos(treebank_tag):\n",
        "    #print(f\"Tag: {treebank_tag}\")\n",
        "    if treebank_tag.startswith('J'):\n",
        "        return wordnet.ADJ\n",
        "    elif treebank_tag.startswith('V'):\n",
        "        return wordnet.VERB\n",
        "    elif treebank_tag.startswith('N'):\n",
        "        return wordnet.NOUN\n",
        "    elif treebank_tag.startswith('R'):\n",
        "        return wordnet.ADV\n",
        "    else:\n",
        "        return wordnet.NOUN  # Default to noun if tag is not found"
      ],
      "metadata": {
        "id": "wuhd-_GTqtLk"
      },
      "execution_count": 123,
      "outputs": []
    },
    {
      "cell_type": "code",
      "source": [
        "# next we use Lemmatizer, as an external library to augment the data down to its root words.\n",
        "class LemmaTokenizer:\n",
        "  def __init__(self):\n",
        "    self.wnl = WordNetLemmatizer()\n",
        "  def __call__(self, doc):\n",
        "    tokens = word_tokenize(doc)\n",
        "    words_and_tags = nltk.pos_tag(tokens)\n",
        "    return [self.wnl.lemmatize(word.lower(), pos=get_wordnet_pos(tag)) for word, tag in words_and_tags]"
      ],
      "metadata": {
        "id": "TbPq7usv0sFS"
      },
      "execution_count": 124,
      "outputs": []
    },
    {
      "cell_type": "code",
      "source": [
        "lemmatizer = WordNetLemmatizer()"
      ],
      "metadata": {
        "id": "4RgzKyba7cZM"
      },
      "execution_count": 127,
      "outputs": []
    },
    {
      "cell_type": "code",
      "source": [
        "vectorizer = CountVectorizer(tokenizer=LemmaTokenizer())"
      ],
      "metadata": {
        "id": "uIOcSi_q2kmW"
      },
      "execution_count": 125,
      "outputs": []
    },
    {
      "cell_type": "code",
      "source": [
        "# Lowercase, lemmatize, and tokenize labels\n",
        "for node in nodes:\n",
        "    words_and_tags = nltk.pos_tag(node[\"labels\"])\n",
        "    #print(words_and_tags)\n",
        "    node[\"labels\"] = [lemmatizer.lemmatize(word.lower(), pos=get_wordnet_pos(tag)) for word, tag in words_and_tags]\n",
        "\n",
        "nodes[:2]"
      ],
      "metadata": {
        "colab": {
          "base_uri": "https://localhost:8080/"
        },
        "id": "M35bSwGgrXCd",
        "outputId": "af09c0f8-45b3-4bf3-b02f-f28fe6eff659"
      },
      "execution_count": 128,
      "outputs": [
        {
          "output_type": "execute_result",
          "data": {
            "text/plain": [
              "[{'name': 'R0', 'labels': ['mixer', 'new', 'restart', 'start']},\n",
              " {'name': 'B5', 'labels': ['gauge', 'progress']}]"
            ]
          },
          "metadata": {},
          "execution_count": 128
        }
      ]
    },
    {
      "cell_type": "code",
      "source": [
        "# split data\n",
        "split = int(len(text_examples) * 0.8)\n",
        "train_examples = text_examples[:split]\n",
        "test_examples = text_examples[split:]\n",
        "len(train_examples), len(test_examples)"
      ],
      "metadata": {
        "colab": {
          "base_uri": "https://localhost:8080/"
        },
        "id": "F6e9nfq_2l2E",
        "outputId": "fde6fe9e-c3a7-4436-88e1-2c2d53210435"
      },
      "execution_count": 129,
      "outputs": [
        {
          "output_type": "execute_result",
          "data": {
            "text/plain": [
              "(97, 25)"
            ]
          },
          "metadata": {},
          "execution_count": 129
        }
      ]
    },
    {
      "cell_type": "code",
      "source": [
        "# Lemmatize the data set\n",
        "#for example in text_examples:\n",
        "#    words_and_tags = nltk.pos_tag(word_tokenize(example[\"text\"]))\n",
        "#    example[\"text\"] = [lemmatizer.lemmatize(word.lower(), pos=get_wordnet_pos(tag)) for word, tag in words_and_tags]\n",
        "\n",
        "#text_examples[:2]\n"
      ],
      "metadata": {
        "id": "L_fWR8xQxfNE"
      },
      "execution_count": null,
      "outputs": []
    }
  ]
}