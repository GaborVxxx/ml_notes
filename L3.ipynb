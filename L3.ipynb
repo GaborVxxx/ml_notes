{
  "nbformat": 4,
  "nbformat_minor": 0,
  "metadata": {
    "colab": {
      "provenance": [],
      "gpuType": "T4",
      "include_colab_link": true
    },
    "kernelspec": {
      "name": "python3",
      "display_name": "Python 3"
    },
    "language_info": {
      "name": "python"
    },
    "accelerator": "GPU"
  },
  "cells": [
    {
      "cell_type": "markdown",
      "metadata": {
        "id": "view-in-github",
        "colab_type": "text"
      },
      "source": [
        "<a href=\"https://colab.research.google.com/github/GaborVxxx/ml_notes/blob/main/L3.ipynb\" target=\"_parent\"><img src=\"https://colab.research.google.com/assets/colab-badge.svg\" alt=\"Open In Colab\"/></a>"
      ]
    },
    {
      "cell_type": "markdown",
      "source": [
        "# Neural Networks classification with PyTorch\n",
        "\n",
        "Classification is a problem of predicting whether someting is one thing or another (there can be multiple things as the options)"
      ],
      "metadata": {
        "id": "6UAaZ5mRuvfU"
      }
    },
    {
      "cell_type": "markdown",
      "source": [
        "# 1. Make classification data and get it ready"
      ],
      "metadata": {
        "id": "EW84kLf5vjEa"
      }
    },
    {
      "cell_type": "code",
      "source": [
        "import sklearn"
      ],
      "metadata": {
        "id": "3LgzqCKovsV8"
      },
      "execution_count": 1,
      "outputs": []
    },
    {
      "cell_type": "code",
      "source": [
        "from sklearn.datasets import make_circles\n",
        "\n",
        "# Make 1000 samples\n",
        "n_samples = 1000\n",
        "\n",
        "# Create circles\n",
        "X, y = make_circles(n_samples,\n",
        "                    noise=0.03,  # add some noise to improve the versatility\n",
        "                    random_state=42) # set a random seed"
      ],
      "metadata": {
        "id": "v2Mqnseev2qX"
      },
      "execution_count": 2,
      "outputs": []
    },
    {
      "cell_type": "code",
      "source": [
        "print(f\"First 5 sample of X: \\n {X[:5]}\")\n",
        "print(f\"First 5 sample of y: \\n {y[:5]}\")"
      ],
      "metadata": {
        "colab": {
          "base_uri": "https://localhost:8080/"
        },
        "id": "vrqqHsGiwhEu",
        "outputId": "aa10dbfe-41e0-407c-cfd4-9864b3448db6"
      },
      "execution_count": 3,
      "outputs": [
        {
          "output_type": "stream",
          "name": "stdout",
          "text": [
            "First 5 sample of X: \n",
            " [[ 0.75424625  0.23148074]\n",
            " [-0.75615888  0.15325888]\n",
            " [-0.81539193  0.17328203]\n",
            " [-0.39373073  0.69288277]\n",
            " [ 0.44220765 -0.89672343]]\n",
            "First 5 sample of y: \n",
            " [1 1 1 1 0]\n"
          ]
        }
      ]
    },
    {
      "cell_type": "code",
      "source": [
        "# Make DataFrame of circle data\n",
        "import pandas as pd\n",
        "circles = pd.DataFrame({\"X0\": X[:, 0],\n",
        "                        \"X1\": X[:, 1],\n",
        "                        \"label\": y})\n",
        "\n",
        "circles.head(10)"
      ],
      "metadata": {
        "colab": {
          "base_uri": "https://localhost:8080/",
          "height": 363
        },
        "id": "KH_FnDCHyWnC",
        "outputId": "47fe5187-5642-469c-e8ca-144714fe49a3"
      },
      "execution_count": 4,
      "outputs": [
        {
          "output_type": "execute_result",
          "data": {
            "text/plain": [
              "         X0        X1  label\n",
              "0  0.754246  0.231481      1\n",
              "1 -0.756159  0.153259      1\n",
              "2 -0.815392  0.173282      1\n",
              "3 -0.393731  0.692883      1\n",
              "4  0.442208 -0.896723      0\n",
              "5 -0.479646  0.676435      1\n",
              "6 -0.013648  0.803349      1\n",
              "7  0.771513  0.147760      1\n",
              "8 -0.169322 -0.793456      1\n",
              "9 -0.121486  1.021509      0"
            ],
            "text/html": [
              "\n",
              "  <div id=\"df-71ab3540-1f9d-44c1-b19a-1330bad20682\" class=\"colab-df-container\">\n",
              "    <div>\n",
              "<style scoped>\n",
              "    .dataframe tbody tr th:only-of-type {\n",
              "        vertical-align: middle;\n",
              "    }\n",
              "\n",
              "    .dataframe tbody tr th {\n",
              "        vertical-align: top;\n",
              "    }\n",
              "\n",
              "    .dataframe thead th {\n",
              "        text-align: right;\n",
              "    }\n",
              "</style>\n",
              "<table border=\"1\" class=\"dataframe\">\n",
              "  <thead>\n",
              "    <tr style=\"text-align: right;\">\n",
              "      <th></th>\n",
              "      <th>X0</th>\n",
              "      <th>X1</th>\n",
              "      <th>label</th>\n",
              "    </tr>\n",
              "  </thead>\n",
              "  <tbody>\n",
              "    <tr>\n",
              "      <th>0</th>\n",
              "      <td>0.754246</td>\n",
              "      <td>0.231481</td>\n",
              "      <td>1</td>\n",
              "    </tr>\n",
              "    <tr>\n",
              "      <th>1</th>\n",
              "      <td>-0.756159</td>\n",
              "      <td>0.153259</td>\n",
              "      <td>1</td>\n",
              "    </tr>\n",
              "    <tr>\n",
              "      <th>2</th>\n",
              "      <td>-0.815392</td>\n",
              "      <td>0.173282</td>\n",
              "      <td>1</td>\n",
              "    </tr>\n",
              "    <tr>\n",
              "      <th>3</th>\n",
              "      <td>-0.393731</td>\n",
              "      <td>0.692883</td>\n",
              "      <td>1</td>\n",
              "    </tr>\n",
              "    <tr>\n",
              "      <th>4</th>\n",
              "      <td>0.442208</td>\n",
              "      <td>-0.896723</td>\n",
              "      <td>0</td>\n",
              "    </tr>\n",
              "    <tr>\n",
              "      <th>5</th>\n",
              "      <td>-0.479646</td>\n",
              "      <td>0.676435</td>\n",
              "      <td>1</td>\n",
              "    </tr>\n",
              "    <tr>\n",
              "      <th>6</th>\n",
              "      <td>-0.013648</td>\n",
              "      <td>0.803349</td>\n",
              "      <td>1</td>\n",
              "    </tr>\n",
              "    <tr>\n",
              "      <th>7</th>\n",
              "      <td>0.771513</td>\n",
              "      <td>0.147760</td>\n",
              "      <td>1</td>\n",
              "    </tr>\n",
              "    <tr>\n",
              "      <th>8</th>\n",
              "      <td>-0.169322</td>\n",
              "      <td>-0.793456</td>\n",
              "      <td>1</td>\n",
              "    </tr>\n",
              "    <tr>\n",
              "      <th>9</th>\n",
              "      <td>-0.121486</td>\n",
              "      <td>1.021509</td>\n",
              "      <td>0</td>\n",
              "    </tr>\n",
              "  </tbody>\n",
              "</table>\n",
              "</div>\n",
              "    <div class=\"colab-df-buttons\">\n",
              "\n",
              "  <div class=\"colab-df-container\">\n",
              "    <button class=\"colab-df-convert\" onclick=\"convertToInteractive('df-71ab3540-1f9d-44c1-b19a-1330bad20682')\"\n",
              "            title=\"Convert this dataframe to an interactive table.\"\n",
              "            style=\"display:none;\">\n",
              "\n",
              "  <svg xmlns=\"http://www.w3.org/2000/svg\" height=\"24px\" viewBox=\"0 -960 960 960\">\n",
              "    <path d=\"M120-120v-720h720v720H120Zm60-500h600v-160H180v160Zm220 220h160v-160H400v160Zm0 220h160v-160H400v160ZM180-400h160v-160H180v160Zm440 0h160v-160H620v160ZM180-180h160v-160H180v160Zm440 0h160v-160H620v160Z\"/>\n",
              "  </svg>\n",
              "    </button>\n",
              "\n",
              "  <style>\n",
              "    .colab-df-container {\n",
              "      display:flex;\n",
              "      gap: 12px;\n",
              "    }\n",
              "\n",
              "    .colab-df-convert {\n",
              "      background-color: #E8F0FE;\n",
              "      border: none;\n",
              "      border-radius: 50%;\n",
              "      cursor: pointer;\n",
              "      display: none;\n",
              "      fill: #1967D2;\n",
              "      height: 32px;\n",
              "      padding: 0 0 0 0;\n",
              "      width: 32px;\n",
              "    }\n",
              "\n",
              "    .colab-df-convert:hover {\n",
              "      background-color: #E2EBFA;\n",
              "      box-shadow: 0px 1px 2px rgba(60, 64, 67, 0.3), 0px 1px 3px 1px rgba(60, 64, 67, 0.15);\n",
              "      fill: #174EA6;\n",
              "    }\n",
              "\n",
              "    .colab-df-buttons div {\n",
              "      margin-bottom: 4px;\n",
              "    }\n",
              "\n",
              "    [theme=dark] .colab-df-convert {\n",
              "      background-color: #3B4455;\n",
              "      fill: #D2E3FC;\n",
              "    }\n",
              "\n",
              "    [theme=dark] .colab-df-convert:hover {\n",
              "      background-color: #434B5C;\n",
              "      box-shadow: 0px 1px 3px 1px rgba(0, 0, 0, 0.15);\n",
              "      filter: drop-shadow(0px 1px 2px rgba(0, 0, 0, 0.3));\n",
              "      fill: #FFFFFF;\n",
              "    }\n",
              "  </style>\n",
              "\n",
              "    <script>\n",
              "      const buttonEl =\n",
              "        document.querySelector('#df-71ab3540-1f9d-44c1-b19a-1330bad20682 button.colab-df-convert');\n",
              "      buttonEl.style.display =\n",
              "        google.colab.kernel.accessAllowed ? 'block' : 'none';\n",
              "\n",
              "      async function convertToInteractive(key) {\n",
              "        const element = document.querySelector('#df-71ab3540-1f9d-44c1-b19a-1330bad20682');\n",
              "        const dataTable =\n",
              "          await google.colab.kernel.invokeFunction('convertToInteractive',\n",
              "                                                    [key], {});\n",
              "        if (!dataTable) return;\n",
              "\n",
              "        const docLinkHtml = 'Like what you see? Visit the ' +\n",
              "          '<a target=\"_blank\" href=https://colab.research.google.com/notebooks/data_table.ipynb>data table notebook</a>'\n",
              "          + ' to learn more about interactive tables.';\n",
              "        element.innerHTML = '';\n",
              "        dataTable['output_type'] = 'display_data';\n",
              "        await google.colab.output.renderOutput(dataTable, element);\n",
              "        const docLink = document.createElement('div');\n",
              "        docLink.innerHTML = docLinkHtml;\n",
              "        element.appendChild(docLink);\n",
              "      }\n",
              "    </script>\n",
              "  </div>\n",
              "\n",
              "\n",
              "<div id=\"df-3767b49b-3688-4997-b3c0-fb470e9649a5\">\n",
              "  <button class=\"colab-df-quickchart\" onclick=\"quickchart('df-3767b49b-3688-4997-b3c0-fb470e9649a5')\"\n",
              "            title=\"Suggest charts\"\n",
              "            style=\"display:none;\">\n",
              "\n",
              "<svg xmlns=\"http://www.w3.org/2000/svg\" height=\"24px\"viewBox=\"0 0 24 24\"\n",
              "     width=\"24px\">\n",
              "    <g>\n",
              "        <path d=\"M19 3H5c-1.1 0-2 .9-2 2v14c0 1.1.9 2 2 2h14c1.1 0 2-.9 2-2V5c0-1.1-.9-2-2-2zM9 17H7v-7h2v7zm4 0h-2V7h2v10zm4 0h-2v-4h2v4z\"/>\n",
              "    </g>\n",
              "</svg>\n",
              "  </button>\n",
              "\n",
              "<style>\n",
              "  .colab-df-quickchart {\n",
              "      --bg-color: #E8F0FE;\n",
              "      --fill-color: #1967D2;\n",
              "      --hover-bg-color: #E2EBFA;\n",
              "      --hover-fill-color: #174EA6;\n",
              "      --disabled-fill-color: #AAA;\n",
              "      --disabled-bg-color: #DDD;\n",
              "  }\n",
              "\n",
              "  [theme=dark] .colab-df-quickchart {\n",
              "      --bg-color: #3B4455;\n",
              "      --fill-color: #D2E3FC;\n",
              "      --hover-bg-color: #434B5C;\n",
              "      --hover-fill-color: #FFFFFF;\n",
              "      --disabled-bg-color: #3B4455;\n",
              "      --disabled-fill-color: #666;\n",
              "  }\n",
              "\n",
              "  .colab-df-quickchart {\n",
              "    background-color: var(--bg-color);\n",
              "    border: none;\n",
              "    border-radius: 50%;\n",
              "    cursor: pointer;\n",
              "    display: none;\n",
              "    fill: var(--fill-color);\n",
              "    height: 32px;\n",
              "    padding: 0;\n",
              "    width: 32px;\n",
              "  }\n",
              "\n",
              "  .colab-df-quickchart:hover {\n",
              "    background-color: var(--hover-bg-color);\n",
              "    box-shadow: 0 1px 2px rgba(60, 64, 67, 0.3), 0 1px 3px 1px rgba(60, 64, 67, 0.15);\n",
              "    fill: var(--button-hover-fill-color);\n",
              "  }\n",
              "\n",
              "  .colab-df-quickchart-complete:disabled,\n",
              "  .colab-df-quickchart-complete:disabled:hover {\n",
              "    background-color: var(--disabled-bg-color);\n",
              "    fill: var(--disabled-fill-color);\n",
              "    box-shadow: none;\n",
              "  }\n",
              "\n",
              "  .colab-df-spinner {\n",
              "    border: 2px solid var(--fill-color);\n",
              "    border-color: transparent;\n",
              "    border-bottom-color: var(--fill-color);\n",
              "    animation:\n",
              "      spin 1s steps(1) infinite;\n",
              "  }\n",
              "\n",
              "  @keyframes spin {\n",
              "    0% {\n",
              "      border-color: transparent;\n",
              "      border-bottom-color: var(--fill-color);\n",
              "      border-left-color: var(--fill-color);\n",
              "    }\n",
              "    20% {\n",
              "      border-color: transparent;\n",
              "      border-left-color: var(--fill-color);\n",
              "      border-top-color: var(--fill-color);\n",
              "    }\n",
              "    30% {\n",
              "      border-color: transparent;\n",
              "      border-left-color: var(--fill-color);\n",
              "      border-top-color: var(--fill-color);\n",
              "      border-right-color: var(--fill-color);\n",
              "    }\n",
              "    40% {\n",
              "      border-color: transparent;\n",
              "      border-right-color: var(--fill-color);\n",
              "      border-top-color: var(--fill-color);\n",
              "    }\n",
              "    60% {\n",
              "      border-color: transparent;\n",
              "      border-right-color: var(--fill-color);\n",
              "    }\n",
              "    80% {\n",
              "      border-color: transparent;\n",
              "      border-right-color: var(--fill-color);\n",
              "      border-bottom-color: var(--fill-color);\n",
              "    }\n",
              "    90% {\n",
              "      border-color: transparent;\n",
              "      border-bottom-color: var(--fill-color);\n",
              "    }\n",
              "  }\n",
              "</style>\n",
              "\n",
              "  <script>\n",
              "    async function quickchart(key) {\n",
              "      const quickchartButtonEl =\n",
              "        document.querySelector('#' + key + ' button');\n",
              "      quickchartButtonEl.disabled = true;  // To prevent multiple clicks.\n",
              "      quickchartButtonEl.classList.add('colab-df-spinner');\n",
              "      try {\n",
              "        const charts = await google.colab.kernel.invokeFunction(\n",
              "            'suggestCharts', [key], {});\n",
              "      } catch (error) {\n",
              "        console.error('Error during call to suggestCharts:', error);\n",
              "      }\n",
              "      quickchartButtonEl.classList.remove('colab-df-spinner');\n",
              "      quickchartButtonEl.classList.add('colab-df-quickchart-complete');\n",
              "    }\n",
              "    (() => {\n",
              "      let quickchartButtonEl =\n",
              "        document.querySelector('#df-3767b49b-3688-4997-b3c0-fb470e9649a5 button');\n",
              "      quickchartButtonEl.style.display =\n",
              "        google.colab.kernel.accessAllowed ? 'block' : 'none';\n",
              "    })();\n",
              "  </script>\n",
              "</div>\n",
              "\n",
              "    </div>\n",
              "  </div>\n"
            ],
            "application/vnd.google.colaboratory.intrinsic+json": {
              "type": "dataframe",
              "variable_name": "circles",
              "summary": "{\n  \"name\": \"circles\",\n  \"rows\": 1000,\n  \"fields\": [\n    {\n      \"column\": \"X0\",\n      \"properties\": {\n        \"dtype\": \"number\",\n        \"std\": 0.6398365674574611,\n        \"min\": -1.0595024599098635,\n        \"max\": 1.0337117525463373,\n        \"num_unique_values\": 1000,\n        \"samples\": [\n          -0.3751930206933384,\n          0.015380346701456493,\n          -0.7027835978832848\n        ],\n        \"semantic_type\": \"\",\n        \"description\": \"\"\n      }\n    },\n    {\n      \"column\": \"X1\",\n      \"properties\": {\n        \"dtype\": \"number\",\n        \"std\": 0.6411559581015379,\n        \"min\": -1.0677683182718436,\n        \"max\": 1.0360036756154805,\n        \"num_unique_values\": 1000,\n        \"samples\": [\n          0.6826597225888621,\n          0.9600260220697324,\n          -0.3147169925147762\n        ],\n        \"semantic_type\": \"\",\n        \"description\": \"\"\n      }\n    },\n    {\n      \"column\": \"label\",\n      \"properties\": {\n        \"dtype\": \"number\",\n        \"std\": 0,\n        \"min\": 0,\n        \"max\": 1,\n        \"num_unique_values\": 2,\n        \"samples\": [\n          0,\n          1\n        ],\n        \"semantic_type\": \"\",\n        \"description\": \"\"\n      }\n    }\n  ]\n}"
            }
          },
          "metadata": {},
          "execution_count": 4
        }
      ]
    },
    {
      "cell_type": "code",
      "source": [
        "# Plot it\n",
        "import matplotlib.pyplot as plt\n",
        "\n",
        "plt.scatter(x=X[:, 0],\n",
        "            y=X[:, 1],\n",
        "            c=y,\n",
        "            cmap=plt.cm.RdYlBu)\n",
        "\n",
        "plt.show()"
      ],
      "metadata": {
        "colab": {
          "base_uri": "https://localhost:8080/",
          "height": 430
        },
        "id": "BsZFvRVQzUBU",
        "outputId": "dde99966-f0e9-47dc-d887-c48893b92513"
      },
      "execution_count": 5,
      "outputs": [
        {
          "output_type": "display_data",
          "data": {
            "text/plain": [
              "<Figure size 640x480 with 1 Axes>"
            ],
            "image/png": "[encoded data removed]"
          },
          "metadata": {}
        }
      ]
    },
    {
      "cell_type": "markdown",
      "source": [
        "**NOTE:** The data we're working with is often referred to as a toy dataset, a dataset that is small enough to eperiment but still sizeable enough to practice the fundamentals."
      ],
      "metadata": {
        "id": "xPFI6PRb0YkF"
      }
    },
    {
      "cell_type": "markdown",
      "source": [
        "## 1.1 Check the input and output shapes"
      ],
      "metadata": {
        "id": "ZBePJ9Pf2__Y"
      }
    },
    {
      "cell_type": "code",
      "source": [
        "X.shape, y.shape # X is representing the features of a thing... and y represent the label agents that feature set."
      ],
      "metadata": {
        "colab": {
          "base_uri": "https://localhost:8080/"
        },
        "id": "WWT5U03q3PL-",
        "outputId": "c6db9678-3ec1-4fda-c964-a0ad4d4e7a7a"
      },
      "execution_count": 6,
      "outputs": [
        {
          "output_type": "execute_result",
          "data": {
            "text/plain": [
              "((1000, 2), (1000,))"
            ]
          },
          "metadata": {},
          "execution_count": 6
        }
      ]
    },
    {
      "cell_type": "code",
      "source": [
        "from os import XATTR_SIZE_MAX\n",
        "# View the first exemple of features and labels\n",
        "X_sample = X[0]\n",
        "y_sample = y[0]\n",
        "print(f\"Sample of X: {X_sample}, shape:{X_sample.shape}\")\n",
        "print(f\"Sample of y: {y_sample}, shape:{y_sample.shape}\")"
      ],
      "metadata": {
        "colab": {
          "base_uri": "https://localhost:8080/"
        },
        "id": "Jpu2aCva36F3",
        "outputId": "2a8cc6c4-4c1c-4bdc-f076-e9db9ab62ab4"
      },
      "execution_count": 7,
      "outputs": [
        {
          "output_type": "stream",
          "name": "stdout",
          "text": [
            "Sample of X: [0.75424625 0.23148074], shape:(2,)\n",
            "Sample of y: 1, shape:()\n"
          ]
        }
      ]
    },
    {
      "cell_type": "markdown",
      "source": [
        "# Turn data into tensors and create a train and test splits"
      ],
      "metadata": {
        "id": "PgcUN3R8iESC"
      }
    },
    {
      "cell_type": "code",
      "source": [
        "# Turn data into tensors\n",
        "\n",
        "import torch\n",
        "X = torch.from_numpy(X).type(torch.float)\n",
        "y = torch.from_numpy(y).type(torch.float)\n",
        "print(f\"X dtype: {X.dtype}\")\n",
        "print(f\"y dtype: {y.dtype}\")"
      ],
      "metadata": {
        "colab": {
          "base_uri": "https://localhost:8080/"
        },
        "id": "rnJ1ZG9RiOXU",
        "outputId": "1a2a0426-961b-41fa-ac48-14a617442794"
      },
      "execution_count": 8,
      "outputs": [
        {
          "output_type": "stream",
          "name": "stdout",
          "text": [
            "X dtype: torch.float32\n",
            "y dtype: torch.float32\n"
          ]
        }
      ]
    },
    {
      "cell_type": "code",
      "source": [
        "# Make a random split with sklearn\n",
        "from sklearn.model_selection import train_test_split\n",
        "\n",
        "X_train, X_test, y_train, y_test = train_test_split(X, y, test_size=0.2, random_state=42)"
      ],
      "metadata": {
        "id": "Vg0Qs84bi_zE"
      },
      "execution_count": 9,
      "outputs": []
    },
    {
      "cell_type": "code",
      "source": [
        "len(X_train), len(X_test)"
      ],
      "metadata": {
        "colab": {
          "base_uri": "https://localhost:8080/"
        },
        "id": "eR-Fr8hHkNsv",
        "outputId": "6c7030d8-dc79-41f6-fdf4-2f1f790ddd53"
      },
      "execution_count": 10,
      "outputs": [
        {
          "output_type": "execute_result",
          "data": {
            "text/plain": [
              "(800, 200)"
            ]
          },
          "metadata": {},
          "execution_count": 10
        }
      ]
    },
    {
      "cell_type": "markdown",
      "source": [
        "# Build a model\n",
        "\n",
        "Let's build a model to classify our blue and red dots.\n",
        "\n",
        "To do so, we want to:\n",
        "1. Setup device agnostic code so our code will run on an accelerator (GPU) if there is one\n",
        "2. Construct a model (by subclassing nn.Module)\n",
        "3. Define a loss function and optimizer\n",
        "4. Create a training and test loop"
      ],
      "metadata": {
        "id": "HL41l0olh4ll"
      }
    },
    {
      "cell_type": "code",
      "source": [
        "# Import PyTorc and nn\n",
        "import torch\n",
        "from torch import nn\n",
        "\n",
        "# Make device agnostic code\n",
        "device = \"cuda\" if torch.cuda.is_available() else \"cpu\"\n",
        "device"
      ],
      "metadata": {
        "colab": {
          "base_uri": "https://localhost:8080/",
          "height": 35
        },
        "id": "8MyJVHX8ivwm",
        "outputId": "cb7ff0d9-4a2b-43b0-b921-caaaa1b9889f"
      },
      "execution_count": 11,
      "outputs": [
        {
          "output_type": "execute_result",
          "data": {
            "text/plain": [
              "'cuda'"
            ],
            "application/vnd.google.colaboratory.intrinsic+json": {
              "type": "string"
            }
          },
          "metadata": {},
          "execution_count": 11
        }
      ]
    },
    {
      "cell_type": "markdown",
      "source": [
        "Lets build a model.\n",
        "\n",
        "1. Subclass `nn.Module`\n",
        "2. Create 2 `nn.Linear()` layer that are capable of handeling the shapes ot the data\n",
        "3. Define a `forward()` that outlines the forward pass (or forward computation) or the model\n",
        "4. Make an istance and send it to the target `device`"
      ],
      "metadata": {
        "id": "26-WTSY6j5IG"
      }
    },
    {
      "cell_type": "code",
      "source": [
        "# Build a class\n",
        "class CircleModelV0(nn.Module):\n",
        "    def __init__(self):\n",
        "        super().__init__()\n",
        "        # Create the 2 linear layer\n",
        "        self.layer_1 = nn.Linear(in_features=2, out_features=5) # input features is 2. Becouse the shape of the traing data is 2, output features is made up number\n",
        "        self.layer_2 = nn.Linear(in_features=5, out_features=1) # input is the same as the output of previous layer, the output is one as this is binary classification and value is either 0 or 1\n",
        "\n",
        "    # Create the forward method\n",
        "    def forward(self, x):\n",
        "      return self.layer_2(self.layer_1(x))  # nested structure... layer 2 take layer 1 that take the data.\n",
        "\n",
        "# Make an instance\n",
        "model_0 = CircleModelV0().to(device)  # + send it to device\n",
        "model_0.state_dict()\n"
      ],
      "metadata": {
        "colab": {
          "base_uri": "https://localhost:8080/"
        },
        "id": "sIiq_kHMk_GP",
        "outputId": "12e8e834-e14d-493e-efc8-4abca41302c9"
      },
      "execution_count": 12,
      "outputs": [
        {
          "output_type": "execute_result",
          "data": {
            "text/plain": [
              "OrderedDict([('layer_1.weight',\n",
              "              tensor([[-0.4375, -0.1307],\n",
              "                      [ 0.6281,  0.2232],\n",
              "                      [-0.1555,  0.5070],\n",
              "                      [ 0.6961, -0.5237],\n",
              "                      [-0.4573, -0.3470]], device='cuda:0')),\n",
              "             ('layer_1.bias',\n",
              "              tensor([ 0.6736, -0.2802,  0.4925, -0.1792, -0.6893], device='cuda:0')),\n",
              "             ('layer_2.weight',\n",
              "              tensor([[ 0.0251,  0.3388,  0.0121, -0.3568,  0.3565]], device='cuda:0')),\n",
              "             ('layer_2.bias', tensor([0.1183], device='cuda:0'))])"
            ]
          },
          "metadata": {},
          "execution_count": 12
        }
      ]
    },
    {
      "cell_type": "markdown",
      "source": [
        "https://playground.tensorflow.org/#activation=linear&batchSize=10&dataset=circle&regDataset=reg-plane&learningRate=0.1&regularizationRate=0&noise=0&networkShape=5,1&seed=0.03172&showTestData=false&discretize=false&percTrainData=50&x=true&y=true&xTimesY=false&xSquared=false&ySquared=false&cosX=false&sinX=false&cosY=false&sinY=false&collectStats=false&problem=classification&initZero=false&hideText=false"
      ],
      "metadata": {
        "id": "xfOhvV8dq5H0"
      }
    },
    {
      "cell_type": "code",
      "source": [
        "# Let's replicate the model above using nn.Sequential()\n",
        "\n",
        "model_1 = nn.Sequential(\n",
        "    nn.Linear(in_features=2, out_features=5),\n",
        "    nn.Linear(in_features=5, out_features=1)\n",
        ").to(device)\n",
        "\n",
        "model_1.state_dict()"
      ],
      "metadata": {
        "colab": {
          "base_uri": "https://localhost:8080/"
        },
        "id": "Djvhkj1Yq7MF",
        "outputId": "a9b94876-0dd4-49f8-9b2b-4ec9c868921f"
      },
      "execution_count": 13,
      "outputs": [
        {
          "output_type": "execute_result",
          "data": {
            "text/plain": [
              "OrderedDict([('0.weight',\n",
              "              tensor([[-0.4060, -0.2834],\n",
              "                      [ 0.6114,  0.1852],\n",
              "                      [-0.2392,  0.5996],\n",
              "                      [-0.1667, -0.3317],\n",
              "                      [ 0.4463, -0.5578]], device='cuda:0')),\n",
              "             ('0.bias',\n",
              "              tensor([-0.0419,  0.5279,  0.4389,  0.3037, -0.4866], device='cuda:0')),\n",
              "             ('1.weight',\n",
              "              tensor([[-0.0219,  0.1282,  0.0962, -0.4154,  0.1757]], device='cuda:0')),\n",
              "             ('1.bias', tensor([-0.0705], device='cuda:0'))])"
            ]
          },
          "metadata": {},
          "execution_count": 13
        }
      ]
    },
    {
      "cell_type": "code",
      "source": [
        "# Make predictions\n",
        "\n",
        "with torch.inference_mode():\n",
        "  untrained_preds = model_1(X_test.to(device))\n",
        "print(f\"Length of predictions: {len(untrained_preds)}\")\n",
        "print(f\"Shape of predictions: {untrained_preds.shape}\")\n",
        "print(f\"Predictions: {untrained_preds[:10]}\")\n",
        "print(f\"Labels: {y_test[:10]}\")"
      ],
      "metadata": {
        "colab": {
          "base_uri": "https://localhost:8080/"
        },
        "id": "zLOXGUwqsvQH",
        "outputId": "b1450cda-c1a8-406a-aa94-c69cc58df238"
      },
      "execution_count": 14,
      "outputs": [
        {
          "output_type": "stream",
          "name": "stdout",
          "text": [
            "Length of predictions: 200\n",
            "Shape of predictions: torch.Size([200, 1])\n",
            "Predictions: tensor([[-0.1639],\n",
            "        [-0.0458],\n",
            "        [-0.3604],\n",
            "        [-0.1087],\n",
            "        [-0.1808],\n",
            "        [-0.1101],\n",
            "        [ 0.0802],\n",
            "        [ 0.0656],\n",
            "        [-0.3677],\n",
            "        [-0.0359]], device='cuda:0')\n",
            "Labels: tensor([1., 0., 1., 0., 1., 1., 0., 0., 1., 0.])\n"
          ]
        }
      ]
    },
    {
      "cell_type": "markdown",
      "source": [
        "# Setup loss function and optimizer\n",
        "\n",
        "Which loss function or optimizer should we use?\n",
        "\n",
        "Again... this is problem specific.\n",
        "\n",
        "For example for regression you might want MAE or MSE (mean absolute error or mean squared error)\n",
        "\n",
        "For classification you might want binary class entropy or categorical cross entropy (cross entropy)\n",
        "\n",
        "As a reminder, the loss function measures how wrong your models predictions are.\n",
        "\n",
        "And for optimizers, two of the most common and useful are SGD and Adam, however PyTorch has build-in options."
      ],
      "metadata": {
        "id": "OU98g6CuvMQU"
      }
    },
    {
      "cell_type": "code",
      "source": [
        "# Setup the loss function\n",
        "# OR nn.BCELoss()\n",
        "loss_fn = nn.BCEWithLogitsLoss() # This hase the sigmoid activation function built-in\n",
        "\n",
        "optimizer = torch.optim.SGD(params=model_0.parameters(), lr=0.1)"
      ],
      "metadata": {
        "id": "-awr2RomxvVp"
      },
      "execution_count": 15,
      "outputs": []
    },
    {
      "cell_type": "code",
      "source": [
        "# Calculate accuracy - out of 100 exemples, what percentage does the model get right?\n",
        "\n",
        "def accuracy_fn(y_true, y_pred):\n",
        "  correct = torch.eq(y_true, y_pred).sum().item()\n",
        "  acc = (correct / len(y_pred)) * 100\n",
        "  return acc"
      ],
      "metadata": {
        "id": "PEn4B3-TzLZh"
      },
      "execution_count": 16,
      "outputs": []
    },
    {
      "cell_type": "markdown",
      "source": [],
      "metadata": {
        "id": "tVVDgVACYyYl"
      }
    },
    {
      "cell_type": "markdown",
      "source": [
        "# Train model\n",
        "\n",
        "To train the model, we need to build a training loop:\n",
        "\n",
        "1. Forward pass\n",
        "2. Calculate the loss\n",
        "3. Optimizer zero grad\n",
        "4. Loss backward (backpropagation)\n",
        "5. Optimizer step (gradinet descent)"
      ],
      "metadata": {
        "id": "uvdQiPvbYyaP"
      }
    },
    {
      "cell_type": "markdown",
      "source": [],
      "metadata": {
        "id": "2o2UwwexauJQ"
      }
    },
    {
      "cell_type": "markdown",
      "source": [
        "# Going from raw logits -> prediction probabilities -> prediction labels\n",
        "\n",
        "The raw output of the model is **logits**!\n",
        "\n",
        "We can convert these **logits** into **prediction probabilities** by passing them to some kind of activation function (e.g **sigmoid** for binary classification and **softmax** for multiclass classification)\n",
        "\n",
        "Then we can convert our model's prediction probabilities to **prediction labels** by either rounding them or taking the `argmax()`"
      ],
      "metadata": {
        "id": "ISTYeC9BauK5"
      }
    },
    {
      "cell_type": "code",
      "source": [
        "# View the first 5 outputs of the forward pass on the test data\n",
        "model_0.eval()\n",
        "with torch.inference_mode():\n",
        "  y_logits = model_0(X_test.to(device))[:5]\n",
        "y_logits"
      ],
      "metadata": {
        "colab": {
          "base_uri": "https://localhost:8080/"
        },
        "id": "XrUy9G_PdC0e",
        "outputId": "93380220-201e-42fb-b9a3-5a0e7381930a"
      },
      "execution_count": 17,
      "outputs": [
        {
          "output_type": "execute_result",
          "data": {
            "text/plain": [
              "tensor([[ 0.0404],\n",
              "        [-0.0029],\n",
              "        [-0.0315],\n",
              "        [ 0.0616],\n",
              "        [-0.3260]], device='cuda:0')"
            ]
          },
          "metadata": {},
          "execution_count": 17
        }
      ]
    },
    {
      "cell_type": "code",
      "source": [
        "y_test[:5]"
      ],
      "metadata": {
        "colab": {
          "base_uri": "https://localhost:8080/"
        },
        "id": "UCJ5zjTJd4w_",
        "outputId": "e27a0a5d-bf9f-4821-b8ba-8be356b6d5b3"
      },
      "execution_count": 18,
      "outputs": [
        {
          "output_type": "execute_result",
          "data": {
            "text/plain": [
              "tensor([1., 0., 1., 0., 1.])"
            ]
          },
          "metadata": {},
          "execution_count": 18
        }
      ]
    },
    {
      "cell_type": "code",
      "source": [
        "# Use the sigmoid activition function to transfer the logits to labels (sigmoid function is for binary classification)\n",
        "y_pred_probs = torch.sigmoid(y_logits)\n",
        "y_pred_probs"
      ],
      "metadata": {
        "colab": {
          "base_uri": "https://localhost:8080/"
        },
        "id": "j54c3Hp8eCDg",
        "outputId": "4c761ffa-b70f-481b-80e7-ea168d6a8900"
      },
      "execution_count": 19,
      "outputs": [
        {
          "output_type": "execute_result",
          "data": {
            "text/plain": [
              "tensor([[0.5101],\n",
              "        [0.4993],\n",
              "        [0.4921],\n",
              "        [0.5154],\n",
              "        [0.4192]], device='cuda:0')"
            ]
          },
          "metadata": {},
          "execution_count": 19
        }
      ]
    },
    {
      "cell_type": "code",
      "source": [
        "# Round it (and with that we cast it to 0 or 1 based on how fare of we are from 0.5)\n",
        "y_preds = torch.round(y_pred_probs)\n",
        "y_preds"
      ],
      "metadata": {
        "colab": {
          "base_uri": "https://localhost:8080/"
        },
        "id": "Cl14uBLEepZO",
        "outputId": "b24076e4-3624-4a29-80fc-20c7ab1891d0"
      },
      "execution_count": 20,
      "outputs": [
        {
          "output_type": "execute_result",
          "data": {
            "text/plain": [
              "tensor([[1.],\n",
              "        [0.],\n",
              "        [0.],\n",
              "        [1.],\n",
              "        [0.]], device='cuda:0')"
            ]
          },
          "metadata": {},
          "execution_count": 20
        }
      ]
    },
    {
      "cell_type": "markdown",
      "source": [],
      "metadata": {
        "id": "eIGAFrghfSrA"
      }
    },
    {
      "cell_type": "markdown",
      "source": [
        "For our prediction probability values, we need to perform a range-style rounding on them:\n",
        "* `y_pred_probs` >= 0.5, `y=1`\n",
        "* `y_pred_probs` < 0.5, `y=0`"
      ],
      "metadata": {
        "id": "vA4WV4LlfSsZ"
      }
    },
    {
      "cell_type": "code",
      "source": [
        "# Find the predicted labels\n",
        "y_preds = torch.round(y_pred_probs)\n",
        "\n",
        "# In full\n",
        "y_pred_labels = torch.round(torch.sigmoid(model_0(X_test.to(device))[:5]))\n",
        "\n",
        "# Check for equality\n",
        "print(torch.eq(y_preds.squeeze(), y_pred_labels.squeeze()))\n",
        "print(f\"y_preds == y_pred_labels: {y_preds == y_pred_labels}\")\n",
        "y_preds.squeeze()\n"
      ],
      "metadata": {
        "colab": {
          "base_uri": "https://localhost:8080/"
        },
        "id": "EoqdZdfcgZbw",
        "outputId": "aeb70b4c-4b4b-4630-a2c1-52a6e9d19250"
      },
      "execution_count": 21,
      "outputs": [
        {
          "output_type": "stream",
          "name": "stdout",
          "text": [
            "tensor([True, True, True, True, True], device='cuda:0')\n",
            "y_preds == y_pred_labels: tensor([[True],\n",
            "        [True],\n",
            "        [True],\n",
            "        [True],\n",
            "        [True]], device='cuda:0')\n"
          ]
        },
        {
          "output_type": "execute_result",
          "data": {
            "text/plain": [
              "tensor([1., 0., 0., 1., 0.], device='cuda:0')"
            ]
          },
          "metadata": {},
          "execution_count": 21
        }
      ]
    },
    {
      "cell_type": "code",
      "source": [
        "print(X_train.shape)\n",
        "print(y_test.shape)"
      ],
      "metadata": {
        "colab": {
          "base_uri": "https://localhost:8080/"
        },
        "id": "1Pfs0bfcBlex",
        "outputId": "71e12be8-669d-4a8c-8c34-d75a96e12644"
      },
      "execution_count": 22,
      "outputs": [
        {
          "output_type": "stream",
          "name": "stdout",
          "text": [
            "torch.Size([800, 2])\n",
            "torch.Size([200])\n"
          ]
        }
      ]
    },
    {
      "cell_type": "markdown",
      "source": [
        "# Building a training and test loop"
      ],
      "metadata": {
        "id": "X8b3BznCikEF"
      }
    },
    {
      "cell_type": "code",
      "source": [
        "torch.manual_seed(42)\n",
        "torch.cuda.manual_seed(42)\n",
        "\n",
        "epochs = 100\n",
        "\n",
        "for epoch in range(epochs):\n",
        "\n",
        "  model_0.train()\n",
        "\n",
        "  y_logits = model_0(X_train.to(device))\n",
        "\n",
        "  y_pred = torch.round(torch.sigmoid(y_logits))\n",
        "\n",
        "  loss = loss_fn(y_logits, y_train.to(device).unsqueeze(1))\n",
        "\n",
        "  acc = accuracy_fn(y_true=y_train.to(device), y_pred=y_pred.to(device).squeeze())\n",
        "\n",
        "  optimizer.zero_grad()\n",
        "\n",
        "  loss.backward()\n",
        "\n",
        "  optimizer.step()\n",
        "\n",
        "  model_0.eval()\n",
        "  with torch.inference_mode():\n",
        "    test_logits = model_0(X_test.to(device))\n",
        "    test_pred = torch.round(torch.sigmoid(test_logits))\n",
        "    test_loss = loss_fn(test_logits, y_test.to(device).unsqueeze(1))\n",
        "    acc_t = accuracy_fn(y_true=y_test.to(device), y_pred=test_pred.to(device).squeeze())\n",
        "  if epoch % 10 == 0:\n",
        "    print(f\"Epoch: {epoch}, loss: {loss}, testloss: {test_loss}, acc: {acc:.2f}%, test_acc: {acc_t:.2f}%\")"
      ],
      "metadata": {
        "colab": {
          "base_uri": "https://localhost:8080/"
        },
        "id": "jqUIHwDTipV2",
        "outputId": "260eb71e-d622-4765-a94e-2069f1fefe6e"
      },
      "execution_count": 23,
      "outputs": [
        {
          "output_type": "stream",
          "name": "stdout",
          "text": [
            "Epoch: 0, loss: 0.6986092329025269, testloss: 0.6987062096595764, acc: 48.12%, test_acc: 44.50%\n",
            "Epoch: 10, loss: 0.6963769197463989, testloss: 0.6971807479858398, acc: 49.50%, test_acc: 46.50%\n",
            "Epoch: 20, loss: 0.6953093409538269, testloss: 0.6965264678001404, acc: 49.38%, test_acc: 49.50%\n",
            "Epoch: 30, loss: 0.694668173789978, testloss: 0.6961555480957031, acc: 48.75%, test_acc: 51.00%\n",
            "Epoch: 40, loss: 0.6942327618598938, testloss: 0.695907711982727, acc: 49.12%, test_acc: 52.50%\n",
            "Epoch: 50, loss: 0.6939204335212708, testloss: 0.6957294940948486, acc: 48.75%, test_acc: 52.00%\n",
            "Epoch: 60, loss: 0.6936909556388855, testloss: 0.6955966949462891, acc: 49.62%, test_acc: 50.00%\n",
            "Epoch: 70, loss: 0.6935204863548279, testloss: 0.6954954266548157, acc: 49.75%, test_acc: 50.00%\n",
            "Epoch: 80, loss: 0.6933927536010742, testloss: 0.6954163908958435, acc: 50.00%, test_acc: 48.00%\n",
            "Epoch: 90, loss: 0.6932967305183411, testloss: 0.695353090763092, acc: 50.12%, test_acc: 49.00%\n"
          ]
        }
      ]
    },
    {
      "cell_type": "markdown",
      "source": [
        "# Make predictions and evaluate the model\n",
        "\n",
        "From the metrics it look like the model is not really lerning anything...\n",
        "\n",
        "So, to inspect it let's make some predictions and make some visuals"
      ],
      "metadata": {
        "id": "KX78FCA5o6c6"
      }
    },
    {
      "cell_type": "code",
      "source": [
        "import torch\n",
        "import matplotlib.pyplot as plt\n",
        "import numpy as np\n",
        "\n",
        "def plot_decision_boundary(model: torch.nn.Module, X: torch.Tensor, y: torch.Tensor):\n",
        "    \"\"\"Plots decision boundaries of model predicting on X in comparison to y.\n",
        "\n",
        "    Source - https://madewithml.com/courses/foundations/neural-networks/ (with modifications)\n",
        "    \"\"\"\n",
        "    # Put everything to CPU (works better with NumPy + Matplotlib)\n",
        "    model.to(\"cpu\")\n",
        "    X, y = X.to(\"cpu\"), y.to(\"cpu\")\n",
        "\n",
        "    # Setup prediction boundaries and grid\n",
        "    x_min, x_max = X[:, 0].min() - 0.1, X[:, 0].max() + 0.1\n",
        "    y_min, y_max = X[:, 1].min() - 0.1, X[:, 1].max() + 0.1\n",
        "    xx, yy = np.meshgrid(np.linspace(x_min, x_max, 101), np.linspace(y_min, y_max, 101))\n",
        "\n",
        "    # Make features\n",
        "    X_to_pred_on = torch.from_numpy(np.column_stack((xx.ravel(), yy.ravel()))).float()\n",
        "\n",
        "    # Make predictions\n",
        "    model.eval()\n",
        "    with torch.inference_mode():\n",
        "        y_logits = model(X_to_pred_on)\n",
        "\n",
        "    # Test for multi-class or binary and adjust logits to prediction labels\n",
        "    if len(torch.unique(y)) > 2:\n",
        "        y_pred = torch.softmax(y_logits, dim=1).argmax(dim=1)  # mutli-class\n",
        "    else:\n",
        "        y_pred = torch.round(torch.sigmoid(y_logits))  # binary\n",
        "\n",
        "    # Reshape preds and plot\n",
        "    y_pred = y_pred.reshape(xx.shape).detach().numpy()\n",
        "    plt.contourf(xx, yy, y_pred, cmap=plt.cm.RdYlBu, alpha=0.7)\n",
        "    plt.scatter(X[:, 0], X[:, 1], c=y, s=40, cmap=plt.cm.RdYlBu)\n",
        "    plt.xlim(xx.min(), xx.max())\n",
        "    plt.ylim(yy.min(), yy.max())"
      ],
      "metadata": {
        "id": "wj6xK_Hbr7eI"
      },
      "execution_count": 26,
      "outputs": []
    },
    {
      "cell_type": "code",
      "source": [
        "plot_decision_boundary(model=model_0, X=X_test, y=y_test)"
      ],
      "metadata": {
        "id": "JfWvRqPgsvMd",
        "outputId": "b8c49328-7072-4e3c-f08f-f932ae3f2bb7",
        "colab": {
          "base_uri": "https://localhost:8080/",
          "height": 430
        }
      },
      "execution_count": 27,
      "outputs": [
        {
          "output_type": "display_data",
          "data": {
            "text/plain": [
              "<Figure size 640x480 with 1 Axes>"
            ],
            "image/png": "[encoded data removed]"
          },
          "metadata": {}
        }
      ]
    }
  ]
}