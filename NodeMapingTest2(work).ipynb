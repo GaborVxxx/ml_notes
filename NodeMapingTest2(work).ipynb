{
  "nbformat": 4,
  "nbformat_minor": 0,
  "metadata": {
    "colab": {
      "provenance": [],
      "authorship_tag": "ABX9TyPmAVtQFWS3s7JKYmVUwkTf",
      "include_colab_link": true
    },
    "kernelspec": {
      "name": "python3",
      "display_name": "Python 3"
    },
    "language_info": {
      "name": "python"
    }
  },
  "cells": [
    {
      "cell_type": "markdown",
      "metadata": {
        "id": "view-in-github",
        "colab_type": "text"
      },
      "source": [
        "<a href=\"https://colab.research.google.com/github/GaborVxxx/ml_notes/blob/main/NodeMapingTest2(work).ipynb\" target=\"_parent\"><img src=\"https://colab.research.google.com/assets/colab-badge.svg\" alt=\"Open In Colab\"/></a>"
      ]
    },
    {
      "cell_type": "markdown",
      "source": [
        "# This is one potentioal puzzle pice for the solution."
      ],
      "metadata": {
        "id": "i7lVv6K6jHvI"
      }
    },
    {
      "cell_type": "code",
      "execution_count": 39,
      "metadata": {
        "colab": {
          "base_uri": "https://localhost:8080/"
        },
        "id": "ip2uxBJLeMdP",
        "outputId": "2c80fa89-5539-402e-a26f-ff6acf71e9a9"
      },
      "outputs": [
        {
          "output_type": "stream",
          "name": "stderr",
          "text": [
            "[nltk_data] Downloading package wordnet to /root/nltk_data...\n",
            "[nltk_data]   Package wordnet is already up-to-date!\n",
            "[nltk_data] Downloading package punkt_tab to /root/nltk_data...\n",
            "[nltk_data]   Package punkt_tab is already up-to-date!\n",
            "[nltk_data] Downloading package averaged_perceptron_tagger_eng to\n",
            "[nltk_data]     /root/nltk_data...\n",
            "[nltk_data]   Package averaged_perceptron_tagger_eng is already up-to-\n",
            "[nltk_data]       date!\n"
          ]
        },
        {
          "output_type": "execute_result",
          "data": {
            "text/plain": [
              "True"
            ]
          },
          "metadata": {},
          "execution_count": 39
        }
      ],
      "source": [
        "import numpy as np\n",
        "import pandas as pd\n",
        "from nltk import word_tokenize\n",
        "import matplotlib.pyplot as plt\n",
        "from sklearn.metrics.pairwise import cosine_similarity\n",
        "from sklearn.feature_extraction.text import TfidfVectorizer\n",
        "import nltk\n",
        "from nltk.stem import WordNetLemmatizer\n",
        "from nltk.corpus import stopwords\n",
        "from nltk.corpus import wordnet\n",
        "import spacy\n",
        "\n",
        "nltk.download('wordnet')\n",
        "nltk.download('punkt_tab')\n",
        "nltk.download('averaged_perceptron_tagger_eng')"
      ]
    },
    {
      "cell_type": "code",
      "source": [
        "text_examples = [\n",
        "    {\"text\": \"I like to start a mixer\"},\n",
        "    {\"text\": \"I like to change my chart to a mixer chart\"},\n",
        "    {\"text\": \"Mixer\"},\n",
        "    {\"text\": \"I don't want a simple chart\"},\n",
        "    {\"text\": \"I like to have multiple chart together in one\"},\n",
        "    {\"text\": \"I like to combine multiple charts\"},\n",
        "    {\"text\": \"I like to have a gauge\"},\n",
        "    {\"text\": \"I need a gauge\"},\n",
        "    {\"text\": \"Gauge.\"},\n",
        "    {\"text\": \"Progress line\"},\n",
        "    {\"text\": \"Progress bar\"},\n",
        "    {\"text\": \"line\"},\n",
        "    {\"text\": \"I like to have a line\"},\n",
        "    {\"text\": \"Could you please generate the monthly sales report for me?\"},\n",
        "    {\"text\": \"Would you mind sharing the weekly activity report for our team?\"},\n",
        "    {\"text\": \"Can you prepare a report comparing last quarter's earnings with this quarter?\"},\n",
        "    {\"text\": \"I’m looking for a summary report of all completed tasks for this week.\"},\n",
        "    {\"text\": \"Can you create a report detailing the expenses for this financial year?\"},\n",
        "    {\"text\": \"I’d like a report showing the top-performing employees in the past six months.\"},\n",
        "    {\"text\": \"Can you provide a report analyzing the website traffic trends over the last 30 days?\"},\n",
        "    {\"text\": \"Could you generate a sales report with bar charts showing monthly revenue growth?\"},\n",
        "    {\"text\": \"Can I get a progress line tracking the completion of tasks over the past quarter?\"},\n",
        "    {\"text\": \"Could you prepare a chart summarizing sales for this month?\"},\n",
        "    {\"text\": \"Can you share a report with area charts for weekly task completion rates?\"},\n",
        "    {\"text\": \"I need a detailed report with line charts showing the sales trend this year.\"},\n",
        "    {\"text\": \"Please create a dashboard with gauges to show current sales performance.\"},\n",
        "    {\"text\": \"Could you provide a bar chart to see this year's sales.\"},\n",
        "    {\"text\": \"Can you include a line chart illustrating the progression of tasks over time?\"},\n",
        "    {\"text\": \"I need a report with a progress line for milestones achieved this quarter.\"},\n",
        "    {\"text\": \"I need a report with a progress line or gauge for milestones achieved this week.\"},\n",
        "    {\"text\": \"Could you share a report with gauges to visualize sales targets versus actuals?\"},\n",
        "    {\"text\": \"Can you add an area chart to highlight the revenue for this year?\"},\n",
        "    {\"text\": \"I’d like a report summarizing sales using bar or line charts for easy comparison.\"},\n",
        "    {\"text\": \"Please create a report with line charts showing task progress week by week.\"},\n",
        "    {\"text\": \"Could you prepare a summary report using charts to analyze task trends?\"},\n",
        "    {\"text\": \"Can you generate a chart that shows sales broken down by product categories?\"},\n",
        "    {\"text\": \"Include an area chart in the report to show monthly revenue accumulations.\"},\n",
        "    {\"text\": \"Could you provide a progress line chart for the completion status of ongoing tasks?\"},\n",
        "    {\"text\": \"Create a chart showing task completion rates.\"},\n",
        "    {\"text\": \"Can you add a report with a line chart showing the team's productivity trends?\"},\n",
        "    {\"text\": \"I’d like a bar chart in the report comparing weekly sales for the past three months.\"},\n",
        "    {\"text\": \"Please include gauges in the report to reflect sales goals and current achievements.\"},\n",
        "    {\"text\": \"Can you share a report with a line chart tracking monthly customer sales?\"},\n",
        "    {\"text\": \"Add an area chart summarizing overall task growth and backlog reduction.\"},\n",
        "    {\"text\": \"Could you create a mixed report with bar charts?\"},\n",
        "    {\"text\": \"Provide a dashboard report with line chart tracking team performance metrics.\"},\n",
        "    {\"text\": \"Can you include a bar chart showing sales by department in the final report?\"},\n",
        "    {\"text\": \"Prepare a report with chart showing tasks in progress.\"},\n",
        "    {\"text\": \"Include a bar chart to compare this month's sales against last month's sales.\"},\n",
        "    {\"text\": \"I need an area chart showing cumulative growth in task completions over time.\"},\n",
        "    {\"text\": \"I need a chart to show me the highest sale this week.\"},\n",
        "    {\"text\": \"Need a chart to show me the highest sale this month.\"},\n",
        "    {\"text\": \"I want a chart to show me the highest sale this year.\"},\n",
        "    {\"text\": \"I like a chart to show me the highest sale last year.\"},\n",
        "    {\"text\": \"I need a chart to show me the highest sale last week.\"},\n",
        "    {\"text\": \"I need a chart to show me the highest sale last month.\"},\n",
        "    {\"text\": \"I need a chart to show me the highest today.\"},\n",
        "    {\"text\": \"I need a chart to show me the highest sale yesterday.\"},\n",
        "    {\"text\": \"Can you add a line chart in the report to reflect quarterly sales trends?\"},\n",
        "    {\"text\": \"Could you include a gauge to show the percentage of tasks completed for the week?\"},\n",
        "    {\"text\": \"Could you include a gauge to show the percentage of tasks completed for the month?\"},\n",
        "    {\"text\": \"Add an area chart to illustrate overall task distributions.\"},\n",
        "    {\"text\": \"Could you prepare a summary report with gauges for individual team performances?\"},\n",
        "    {\"text\": \"I need a progress line in the report to track sales on company settings.\"},\n",
        "    {\"text\": \"Provide a chart showing weekly revenue growth.\"},\n",
        "    {\"text\": \"I need a chart to show me the overdue task for all users.\"},\n",
        "    {\"text\": \"I need a chart to show me the overdue task for all team.\"},\n",
        "    {\"text\": \"I like to track a sales of my team.\"},\n",
        "    {\"text\": \"I like to track my sales\"},\n",
        "    {\"text\": \"Could you generate a bar chart showing the breakdown of completed tasks by team?\"},\n",
        "    {\"text\": \"Can you prepare a report with a line chart to show year-over-year sales growth?\"},\n",
        "    {\"text\": \"Include a line chart tracking the progress of tasks across different departments.\"},\n",
        "    {\"text\": \"Can you create a report summarizing recent task progress?\"},\n",
        "    {\"text\": \"Could you provide a visual report on weekly sales trends?\"},\n",
        "    {\"text\": \"I need a summary of completed tasks for the quarter.\"},\n",
        "    {\"text\": \"Can you generate a report showing key sales metrics for this month?\"},\n",
        "    {\"text\": \"Could you prepare a report that highlights task completion patterns?\"},\n",
        "    {\"text\": \"Provide a visual overview of sales performance for the year.\"},\n",
        "    {\"text\": \"Can you create a progress report covering all recent tasks?\"},\n",
        "    {\"text\": \"I’d like a report with insights into quarterly sales growth.\"},\n",
        "    {\"text\": \"Could you share a report on tasks delayed over the past month?\"},\n",
        "    {\"text\": \"Can you prepare a visual breakdown of daily sales activity?\"},\n",
        "    {\"text\": \"Please create a report covering monthly task trends.\"},\n",
        "    {\"text\": \"Could you generate a summary of weekly completed tasks?\"},\n",
        "    {\"text\": \"I need a report analyzing sales activity over the past year.\"},\n",
        "    {\"text\": \"Can you share an overview of task completion rates this week?\"},\n",
        "    {\"text\": \"Provide a report summarizing key metrics for last quarter's sales.\"},\n",
        "    {\"text\": \"Could you compile a list of tasks accomplished in recent months?\"},\n",
        "    {\"text\": \"I’d like a high-level view of task progress for this month.\"},\n",
        "    {\"text\": \"Can you provide a year-to-date overview of sales performance?\"},\n",
        "    {\"text\": \"Please generate a report summarizing ongoing tasks this week.\"},\n",
        "    {\"text\": \"Could you create a report on recent changes in sales numbers?\"},\n",
        "    {\"text\": \"I’d like to see a breakdown of completed tasks by week.\"},\n",
        "    {\"text\": \"Can you provide a historical overview of quarterly sales trends?\"},\n",
        "    {\"text\": \"Generate a report showing the daily progress of ongoing tasks.\"},\n",
        "    {\"text\": \"Could you prepare a summary of monthly sales performance?\"},\n",
        "    {\"text\": \"I’d like a detailed overview of sales trends for the current year.\"},\n",
        "    {\"text\": \"Can you create a weekly report showing task completion rates?\"},\n",
        "    {\"text\": \"Provide a summary of top-performing sales products this quarter.\"},\n",
        "    {\"text\": \"Could you create a report showing task delays over the past week?\"},\n",
        "    {\"text\": \"I’d like an overview of monthly sales performance by department.\"},\n",
        "    {\"text\": \"Can you prepare a summary of this year’s task milestones?\"},\n",
        "    {\"text\": \"Generate a visual summary of sales trends over the last 30 days.\"},\n",
        "    {\"text\": \"Please compile a weekly progress report for current tasks.\"},\n",
        "    {\"text\": \"Can you provide an overview of annual sales growth?\"},\n",
        "    {\"text\": \"Could you share a breakdown of overdue tasks for this month?\"},\n",
        "    {\"text\": \"I’d like a detailed report covering quarterly sales performance.\"},\n",
        "    {\"text\": \"Can you generate a summary of daily task achievements?\"},\n",
        "    {\"text\": \"Provide a monthly report showing changes in sales numbers.\"},\n",
        "    {\"text\": \"Could you create a task progress report for the current sprint?\"},\n",
        "    {\"text\": \"I need an overview of sales activities across all regions this week.\"},\n",
        "    {\"text\": \"Can you share a breakdown of completed tasks from last quarter?\"},\n",
        "    {\"text\": \"Please create a summary report showing monthly task trends.\"},\n",
        "    {\"text\": \"Generate a visual overview of sales growth over the past quarter.\"},\n",
        "    {\"text\": \"Could you prepare a report on task backlog trends for the past month?\"},\n",
        "    {\"text\": \"I’d like an overview of weekly sales activity by category.\"},\n",
        "    {\"text\": \"Can you provide a quarterly summary of task progress by team?\"},\n",
        "    {\"text\": \"Please compile a report covering monthly sales by product line.\"},\n",
        "    {\"text\": \"Could you prepare a visual summary of sales trends over time?\"},\n",
        "    {\"text\": \"I need a high-level summary of quarterly task completion metrics.\"},\n",
        "    {\"text\": \"closed opportunity's report\"},\n",
        "    {\"text\": \"I like to have a dynamic chart\"},\n",
        "]"
      ],
      "metadata": {
        "id": "H7HGJ0cOeW_g"
      },
      "execution_count": 40,
      "outputs": []
    },
    {
      "cell_type": "code",
      "source": [
        "nodes = [\n",
        "    {\n",
        "        \"name\": \"R0\", \"labels\":[\"mixer\", \"new\", \"restart\", \"start\"]\n",
        "    },\n",
        "    {\n",
        "        \"name\": \"B5\", \"labels\":[\"gauge\", \"progress\"]\n",
        "    },\n",
        "    {\n",
        "        \"name\": \"B8\", \"labels\":[\"line\", \"heat\", \"pie\", \"area\", \"bar\"]\n",
        "    },\n",
        "    {\n",
        "        \"name\": \"P1\", \"labels\":[\"user\", \"team\", \"company\"]\n",
        "    },\n",
        "    {\n",
        "        \"name\": \"P2\", \"labels\":[\"task\", \"sale\"]\n",
        "    },\n",
        "    {\n",
        "        \"name\": \"P3\", \"labels\":[\"daily\", \"weekly\", \"monthly\", \"yearly\", \"queterly\"]\n",
        "    },\n",
        "    {\n",
        "        \"name\": \"Y23\", \"labels\":[\"all\", \"between\", \"range\"]\n",
        "    },\n",
        "    {\n",
        "        \"name\": \"Y26\", \"labels\":[\"day\", \"current\", \"previous\", \"week\", \"month\", \"year\", \"quarter\"]\n",
        "    },\n",
        "    {\n",
        "        \"name\": \"Y27\", \"labels\":[\"paid\", \"pending\", \"cancelled\", \"refunded\", \"partial\"]\n",
        "    },\n",
        "    {\n",
        "        \"name\": \"Y28\", \"labels\":[\"avarage\", \"sum\", \"min\", \"max\", \"count\", \"total\", \"minimum\", \"maximum\"]\n",
        "    },\n",
        "    {\n",
        "        \"name\": \"Y29\", \"labels\":[\"dynamic\", \"scalling\"]\n",
        "    },\n",
        "    {\n",
        "        \"name\": \"P15\", \"labels\":[\"organisation\", \"team\", \"product\", \"course\", \"customer\", \"source\", \"user\", \"opportunity\"]\n",
        "    },\n",
        "    {\n",
        "        \"name\": \"Y24\", \"labels\":[\"paid\", \"pending\", \"cancelled\", \"refunded\", \"partial\"]\n",
        "    },\n",
        "    {\n",
        "        \"name\": \"Y25\", \"labels\":[\"avarage\", \"sum\", \"min\", \"max\", \"count\", \"total\", \"minimum\", \"maximum\"]\n",
        "    },\n",
        "    {\n",
        "        \"name\": \"P13\", \"labels\":[\"organisation\", \"team\", \"product\", \"course\", \"customer\", \"source\", \"user\", \"opportunity\"]\n",
        "    },\n",
        "\n",
        "]"
      ],
      "metadata": {
        "id": "66m1zCafealb"
      },
      "execution_count": 41,
      "outputs": []
    },
    {
      "cell_type": "code",
      "source": [
        "node_paths = [\n",
        "    [\"R0\", \"B5\", \"P1\", \"P2\", \"P3\"],\n",
        "    [\"R0\", \"B8\", \"Y23\", \"Y26\", \"Y27\", \"Y28\",],\n",
        "    [\"R0\", \"B8\", \"Y23\", \"Y26\", \"Y27\", \"Y28\", \"Y29\"],\n",
        "    [\"R0\", \"B8\", \"Y23\", \"Y26\", \"Y27\", \"Y28\", \"P15\"],\n",
        "    [\"R0\", \"B8\", \"Y23\", \"Y24\", \"Y25\"],\n",
        "    [\"R0\", \"B8\", \"Y23\", \"Y24\", \"Y25\", \"P13\"]\n",
        "]"
      ],
      "metadata": {
        "id": "y2V_bAQAedL4"
      },
      "execution_count": 42,
      "outputs": []
    },
    {
      "cell_type": "code",
      "source": [
        "# TODO: lemmatize labels and text too\n",
        "def get_wordnet_pos(treebank_tag):\n",
        "    if treebank_tag.startswith('J'):\n",
        "        return wordnet.ADJ\n",
        "    elif treebank_tag.startswith('V'):\n",
        "        return wordnet.VERB\n",
        "    elif treebank_tag.startswith('N'):\n",
        "        return wordnet.NOUN\n",
        "    elif treebank_tag.startswith('R'):\n",
        "        return wordnet.ADV\n",
        "    else:\n",
        "        return wordnet.NOUN  # Default to noun if tag is not found"
      ],
      "metadata": {
        "id": "RY-uTgSGW0AJ"
      },
      "execution_count": 43,
      "outputs": []
    },
    {
      "cell_type": "code",
      "source": [
        "# next we use Lemmatizer, as an external library to augment the data down to its root words.\n",
        "class LemmaTokenizer:\n",
        "  def __init__(self):\n",
        "    self.wnl = WordNetLemmatizer()\n",
        "  def __call__(self, doc):\n",
        "    tokens = word_tokenize(doc)\n",
        "    words_and_tags = nltk.pos_tag(tokens)\n",
        "    return [self.wnl.lemmatize(word, pos=get_wordnet_pos(tag)) for word, tag in words_and_tags]"
      ],
      "metadata": {
        "id": "ScObjXVnYWqN"
      },
      "execution_count": 44,
      "outputs": []
    },
    {
      "cell_type": "code",
      "source": [
        "TRASHOLD = 0.8"
      ],
      "metadata": {
        "id": "byVCvvikepOa"
      },
      "execution_count": 45,
      "outputs": []
    },
    {
      "cell_type": "code",
      "source": [
        "# create a tf-idf vectorizer object\n",
        "tfidf = TfidfVectorizer(\n",
        "    max_features=3000,\n",
        "    tokenizer=LemmaTokenizer(),\n",
        "    stop_words='english',\n",
        "    lowercase=True,\n",
        "    ngram_range=(1, 2)\n",
        "    )"
      ],
      "metadata": {
        "id": "e-ZTxVdIeuFq"
      },
      "execution_count": 46,
      "outputs": []
    },
    {
      "cell_type": "code",
      "source": [
        "# turn all nodes labels to data matrix\n",
        "# all_lables_together\n",
        "all_lables_together = []\n",
        "for node in nodes:\n",
        "    labels = node[\"labels\"]\n",
        "    for label in labels:\n",
        "        all_lables_together.append(label)\n",
        "\n",
        "print(list(set(all_lables_together))) # remove duplication\n",
        "all_unique_lables = list(set(all_lables_together)) # remove duplication\n",
        "\n",
        "X = tfidf.fit_transform(all_unique_lables)\n",
        "print(X.shape)"
      ],
      "metadata": {
        "colab": {
          "base_uri": "https://localhost:8080/"
        },
        "id": "vWgc9cDBey6e",
        "outputId": "1ba8b82b-18e7-43dc-a25b-48e83cfa13c0"
      },
      "execution_count": 47,
      "outputs": [
        {
          "output_type": "stream",
          "name": "stdout",
          "text": [
            "['restart', 'minimum', 'month', 'dynamic', 'all', 'between', 'sum', 'product', 'heat', 'daily', 'team', 'task', 'new', 'course', 'weekly', 'sale', 'start', 'monthly', 'max', 'maximum', 'user', 'yearly', 'opportunity', 'mixer', 'pending', 'customer', 'previous', 'source', 'range', 'gauge', 'paid', 'bar', 'area', 'min', 'quarter', 'organisation', 'year', 'queterly', 'cancelled', 'partial', 'progress', 'week', 'avarage', 'scalling', 'count', 'refunded', 'company', 'pie', 'day', 'line', 'total', 'current']\n",
            "(52, 50)\n"
          ]
        },
        {
          "output_type": "stream",
          "name": "stderr",
          "text": [
            "/usr/local/lib/python3.10/dist-packages/sklearn/feature_extraction/text.py:517: UserWarning: The parameter 'token_pattern' will not be used since 'tokenizer' is not None'\n",
            "  warnings.warn(\n",
            "/usr/local/lib/python3.10/dist-packages/sklearn/feature_extraction/text.py:402: UserWarning: Your stop_words may be inconsistent with your preprocessing. Tokenizing the stop words generated tokens ['far', 'make', 'u'] not in stop_words.\n",
            "  warnings.warn(\n"
          ]
        }
      ]
    },
    {
      "cell_type": "code",
      "source": [
        "idx = 0\n",
        "word2idx = {}\n",
        "tokenized_doc = []\n",
        "for doc in text_examples:\n",
        "    text = doc[\"text\"]\n",
        "    words = word_tokenize(text.lower())\n",
        "    doc_as_int = []\n",
        "    for word in words:\n",
        "      if word not in word2idx:\n",
        "        word2idx[word] = idx\n",
        "        idx += 1\n",
        "      doc_as_int.append(word2idx[word])\n",
        "    tokenized_doc.append(doc_as_int)\n",
        "\n",
        "print(word2idx)\n",
        "print(tokenized_doc)"
      ],
      "metadata": {
        "colab": {
          "base_uri": "https://localhost:8080/"
        },
        "id": "SmB4VGTafjHG",
        "outputId": "81a5f9b8-8325-4190-d17c-1255a9a8fa4c"
      },
      "execution_count": 48,
      "outputs": [
        {
          "output_type": "stream",
          "name": "stdout",
          "text": [
            "{'i': 0, 'like': 1, 'to': 2, 'start': 3, 'a': 4, 'mixer': 5, 'change': 6, 'my': 7, 'chart': 8, 'do': 9, \"n't\": 10, 'want': 11, 'simple': 12, 'have': 13, 'multiple': 14, 'together': 15, 'in': 16, 'one': 17, 'combine': 18, 'charts': 19, 'gauge': 20, 'need': 21, '.': 22, 'progress': 23, 'line': 24, 'bar': 25, 'could': 26, 'you': 27, 'please': 28, 'generate': 29, 'the': 30, 'monthly': 31, 'sales': 32, 'report': 33, 'for': 34, 'me': 35, '?': 36, 'would': 37, 'mind': 38, 'sharing': 39, 'weekly': 40, 'activity': 41, 'our': 42, 'team': 43, 'can': 44, 'prepare': 45, 'comparing': 46, 'last': 47, 'quarter': 48, \"'s\": 49, 'earnings': 50, 'with': 51, 'this': 52, '’': 53, 'm': 54, 'looking': 55, 'summary': 56, 'of': 57, 'all': 58, 'completed': 59, 'tasks': 60, 'week': 61, 'create': 62, 'detailing': 63, 'expenses': 64, 'financial': 65, 'year': 66, 'd': 67, 'showing': 68, 'top-performing': 69, 'employees': 70, 'past': 71, 'six': 72, 'months': 73, 'provide': 74, 'analyzing': 75, 'website': 76, 'traffic': 77, 'trends': 78, 'over': 79, '30': 80, 'days': 81, 'revenue': 82, 'growth': 83, 'get': 84, 'tracking': 85, 'completion': 86, 'summarizing': 87, 'month': 88, 'share': 89, 'area': 90, 'task': 91, 'rates': 92, 'detailed': 93, 'trend': 94, 'dashboard': 95, 'gauges': 96, 'show': 97, 'current': 98, 'performance': 99, 'see': 100, 'include': 101, 'illustrating': 102, 'progression': 103, 'time': 104, 'milestones': 105, 'achieved': 106, 'or': 107, 'visualize': 108, 'targets': 109, 'versus': 110, 'actuals': 111, 'add': 112, 'an': 113, 'highlight': 114, 'using': 115, 'easy': 116, 'comparison': 117, 'by': 118, 'analyze': 119, 'that': 120, 'shows': 121, 'broken': 122, 'down': 123, 'product': 124, 'categories': 125, 'accumulations': 126, 'status': 127, 'ongoing': 128, 'productivity': 129, 'three': 130, 'reflect': 131, 'goals': 132, 'and': 133, 'achievements': 134, 'customer': 135, 'overall': 136, 'backlog': 137, 'reduction': 138, 'mixed': 139, 'metrics': 140, 'department': 141, 'final': 142, 'compare': 143, 'against': 144, 'cumulative': 145, 'completions': 146, 'highest': 147, 'sale': 148, 'today': 149, 'yesterday': 150, 'quarterly': 151, 'percentage': 152, 'illustrate': 153, 'distributions': 154, 'individual': 155, 'performances': 156, 'track': 157, 'on': 158, 'company': 159, 'settings': 160, 'overdue': 161, 'users': 162, 'breakdown': 163, 'year-over-year': 164, 'across': 165, 'different': 166, 'departments': 167, 'recent': 168, 'visual': 169, 'key': 170, 'highlights': 171, 'patterns': 172, 'overview': 173, 'covering': 174, 'insights': 175, 'into': 176, 'delayed': 177, 'daily': 178, 'compile': 179, 'list': 180, 'accomplished': 181, 'high-level': 182, 'view': 183, 'year-to-date': 184, 'changes': 185, 'numbers': 186, 'historical': 187, 'products': 188, 'delays': 189, 's': 190, 'annual': 191, 'sprint': 192, 'activities': 193, 'regions': 194, 'from': 195, 'category': 196, 'closed': 197, 'opportunity': 198, 'dynamic': 199}\n",
            "[[0, 1, 2, 3, 4, 5], [0, 1, 2, 6, 7, 8, 2, 4, 5, 8], [5], [0, 9, 10, 11, 4, 12, 8], [0, 1, 2, 13, 14, 8, 15, 16, 17], [0, 1, 2, 18, 14, 19], [0, 1, 2, 13, 4, 20], [0, 21, 4, 20], [20, 22], [23, 24], [23, 25], [24], [0, 1, 2, 13, 4, 24], [26, 27, 28, 29, 30, 31, 32, 33, 34, 35, 36], [37, 27, 38, 39, 30, 40, 41, 33, 34, 42, 43, 36], [44, 27, 45, 4, 33, 46, 47, 48, 49, 50, 51, 52, 48, 36], [0, 53, 54, 55, 34, 4, 56, 33, 57, 58, 59, 60, 34, 52, 61, 22], [44, 27, 62, 4, 33, 63, 30, 64, 34, 52, 65, 66, 36], [0, 53, 67, 1, 4, 33, 68, 30, 69, 70, 16, 30, 71, 72, 73, 22], [44, 27, 74, 4, 33, 75, 30, 76, 77, 78, 79, 30, 47, 80, 81, 36], [26, 27, 29, 4, 32, 33, 51, 25, 19, 68, 31, 82, 83, 36], [44, 0, 84, 4, 23, 24, 85, 30, 86, 57, 60, 79, 30, 71, 48, 36], [26, 27, 45, 4, 8, 87, 32, 34, 52, 88, 36], [44, 27, 89, 4, 33, 51, 90, 19, 34, 40, 91, 86, 92, 36], [0, 21, 4, 93, 33, 51, 24, 19, 68, 30, 32, 94, 52, 66, 22], [28, 62, 4, 95, 51, 96, 2, 97, 98, 32, 99, 22], [26, 27, 74, 4, 25, 8, 2, 100, 52, 66, 49, 32, 22], [44, 27, 101, 4, 24, 8, 102, 30, 103, 57, 60, 79, 104, 36], [0, 21, 4, 33, 51, 4, 23, 24, 34, 105, 106, 52, 48, 22], [0, 21, 4, 33, 51, 4, 23, 24, 107, 20, 34, 105, 106, 52, 61, 22], [26, 27, 89, 4, 33, 51, 96, 2, 108, 32, 109, 110, 111, 36], [44, 27, 112, 113, 90, 8, 2, 114, 30, 82, 34, 52, 66, 36], [0, 53, 67, 1, 4, 33, 87, 32, 115, 25, 107, 24, 19, 34, 116, 117, 22], [28, 62, 4, 33, 51, 24, 19, 68, 91, 23, 61, 118, 61, 22], [26, 27, 45, 4, 56, 33, 115, 19, 2, 119, 91, 78, 36], [44, 27, 29, 4, 8, 120, 121, 32, 122, 123, 118, 124, 125, 36], [101, 113, 90, 8, 16, 30, 33, 2, 97, 31, 82, 126, 22], [26, 27, 74, 4, 23, 24, 8, 34, 30, 86, 127, 57, 128, 60, 36], [62, 4, 8, 68, 91, 86, 92, 22], [44, 27, 112, 4, 33, 51, 4, 24, 8, 68, 30, 43, 49, 129, 78, 36], [0, 53, 67, 1, 4, 25, 8, 16, 30, 33, 46, 40, 32, 34, 30, 71, 130, 73, 22], [28, 101, 96, 16, 30, 33, 2, 131, 32, 132, 133, 98, 134, 22], [44, 27, 89, 4, 33, 51, 4, 24, 8, 85, 31, 135, 32, 36], [112, 113, 90, 8, 87, 136, 91, 83, 133, 137, 138, 22], [26, 27, 62, 4, 139, 33, 51, 25, 19, 36], [74, 4, 95, 33, 51, 24, 8, 85, 43, 99, 140, 22], [44, 27, 101, 4, 25, 8, 68, 32, 118, 141, 16, 30, 142, 33, 36], [45, 4, 33, 51, 8, 68, 60, 16, 23, 22], [101, 4, 25, 8, 2, 143, 52, 88, 49, 32, 144, 47, 88, 49, 32, 22], [0, 21, 113, 90, 8, 68, 145, 83, 16, 91, 146, 79, 104, 22], [0, 21, 4, 8, 2, 97, 35, 30, 147, 148, 52, 61, 22], [21, 4, 8, 2, 97, 35, 30, 147, 148, 52, 88, 22], [0, 11, 4, 8, 2, 97, 35, 30, 147, 148, 52, 66, 22], [0, 1, 4, 8, 2, 97, 35, 30, 147, 148, 47, 66, 22], [0, 21, 4, 8, 2, 97, 35, 30, 147, 148, 47, 61, 22], [0, 21, 4, 8, 2, 97, 35, 30, 147, 148, 47, 88, 22], [0, 21, 4, 8, 2, 97, 35, 30, 147, 149, 22], [0, 21, 4, 8, 2, 97, 35, 30, 147, 148, 150, 22], [44, 27, 112, 4, 24, 8, 16, 30, 33, 2, 131, 151, 32, 78, 36], [26, 27, 101, 4, 20, 2, 97, 30, 152, 57, 60, 59, 34, 30, 61, 36], [26, 27, 101, 4, 20, 2, 97, 30, 152, 57, 60, 59, 34, 30, 88, 36], [112, 113, 90, 8, 2, 153, 136, 91, 154, 22], [26, 27, 45, 4, 56, 33, 51, 96, 34, 155, 43, 156, 36], [0, 21, 4, 23, 24, 16, 30, 33, 2, 157, 32, 158, 159, 160, 22], [74, 4, 8, 68, 40, 82, 83, 22], [0, 21, 4, 8, 2, 97, 35, 30, 161, 91, 34, 58, 162, 22], [0, 21, 4, 8, 2, 97, 35, 30, 161, 91, 34, 58, 43, 22], [0, 1, 2, 157, 4, 32, 57, 7, 43, 22], [0, 1, 2, 157, 7, 32], [26, 27, 29, 4, 25, 8, 68, 30, 163, 57, 59, 60, 118, 43, 36], [44, 27, 45, 4, 33, 51, 4, 24, 8, 2, 97, 164, 32, 83, 36], [101, 4, 24, 8, 85, 30, 23, 57, 60, 165, 166, 167, 22], [44, 27, 62, 4, 33, 87, 168, 91, 23, 36], [26, 27, 74, 4, 169, 33, 158, 40, 32, 78, 36], [0, 21, 4, 56, 57, 59, 60, 34, 30, 48, 22], [44, 27, 29, 4, 33, 68, 170, 32, 140, 34, 52, 88, 36], [26, 27, 45, 4, 33, 120, 171, 91, 86, 172, 36], [74, 4, 169, 173, 57, 32, 99, 34, 30, 66, 22], [44, 27, 62, 4, 23, 33, 174, 58, 168, 60, 36], [0, 53, 67, 1, 4, 33, 51, 175, 176, 151, 32, 83, 22], [26, 27, 89, 4, 33, 158, 60, 177, 79, 30, 71, 88, 36], [44, 27, 45, 4, 169, 163, 57, 178, 32, 41, 36], [28, 62, 4, 33, 174, 31, 91, 78, 22], [26, 27, 29, 4, 56, 57, 40, 59, 60, 36], [0, 21, 4, 33, 75, 32, 41, 79, 30, 71, 66, 22], [44, 27, 89, 113, 173, 57, 91, 86, 92, 52, 61, 36], [74, 4, 33, 87, 170, 140, 34, 47, 48, 49, 32, 22], [26, 27, 179, 4, 180, 57, 60, 181, 16, 168, 73, 36], [0, 53, 67, 1, 4, 182, 183, 57, 91, 23, 34, 52, 88, 22], [44, 27, 74, 4, 184, 173, 57, 32, 99, 36], [28, 29, 4, 33, 87, 128, 60, 52, 61, 22], [26, 27, 62, 4, 33, 158, 168, 185, 16, 32, 186, 36], [0, 53, 67, 1, 2, 100, 4, 163, 57, 59, 60, 118, 61, 22], [44, 27, 74, 4, 187, 173, 57, 151, 32, 78, 36], [29, 4, 33, 68, 30, 178, 23, 57, 128, 60, 22], [26, 27, 45, 4, 56, 57, 31, 32, 99, 36], [0, 53, 67, 1, 4, 93, 173, 57, 32, 78, 34, 30, 98, 66, 22], [44, 27, 62, 4, 40, 33, 68, 91, 86, 92, 36], [74, 4, 56, 57, 69, 32, 188, 52, 48, 22], [26, 27, 62, 4, 33, 68, 91, 189, 79, 30, 71, 61, 36], [0, 53, 67, 1, 113, 173, 57, 31, 32, 99, 118, 141, 22], [44, 27, 45, 4, 56, 57, 52, 66, 53, 190, 91, 105, 36], [29, 4, 169, 56, 57, 32, 78, 79, 30, 47, 80, 81, 22], [28, 179, 4, 40, 23, 33, 34, 98, 60, 22], [44, 27, 74, 113, 173, 57, 191, 32, 83, 36], [26, 27, 89, 4, 163, 57, 161, 60, 34, 52, 88, 36], [0, 53, 67, 1, 4, 93, 33, 174, 151, 32, 99, 22], [44, 27, 29, 4, 56, 57, 178, 91, 134, 36], [74, 4, 31, 33, 68, 185, 16, 32, 186, 22], [26, 27, 62, 4, 91, 23, 33, 34, 30, 98, 192, 36], [0, 21, 113, 173, 57, 32, 193, 165, 58, 194, 52, 61, 22], [44, 27, 89, 4, 163, 57, 59, 60, 195, 47, 48, 36], [28, 62, 4, 56, 33, 68, 31, 91, 78, 22], [29, 4, 169, 173, 57, 32, 83, 79, 30, 71, 48, 22], [26, 27, 45, 4, 33, 158, 91, 137, 78, 34, 30, 71, 88, 36], [0, 53, 67, 1, 113, 173, 57, 40, 32, 41, 118, 196, 22], [44, 27, 74, 4, 151, 56, 57, 91, 23, 118, 43, 36], [28, 179, 4, 33, 174, 31, 32, 118, 124, 24, 22], [26, 27, 45, 4, 169, 56, 57, 32, 78, 79, 104, 36], [0, 21, 4, 182, 56, 57, 151, 91, 86, 140, 22], [197, 198, 49, 33], [0, 1, 2, 13, 4, 199, 8]]\n"
          ]
        }
      ]
    },
    {
      "cell_type": "code",
      "source": [
        "# turn the selected_words to data matrix too\n",
        "# number of documents\n",
        "N = len(tokenized_doc)\n",
        "print(N)\n",
        "\n",
        "i = np.random.choice(N)\n",
        "row = text_examples[i]\n",
        "\n",
        "print(f'Text @ index:{i} -->', row['text'].split('\\n', 1)[0])\n",
        "words = []\n",
        "for word in row[\"text\"].split():\n",
        "    words.append(word)\n",
        "\n",
        "print(words)\n",
        "\n",
        "Y = tfidf.transform(words)\n",
        "print(Y.shape)"
      ],
      "metadata": {
        "colab": {
          "base_uri": "https://localhost:8080/"
        },
        "id": "eYjVyQsDe2Vg",
        "outputId": "b8b34b8e-e242-4b85-8b6a-07a4d2cfbbda"
      },
      "execution_count": 49,
      "outputs": [
        {
          "output_type": "stream",
          "name": "stdout",
          "text": [
            "122\n",
            "Text @ index:24 --> I need a detailed report with line charts showing the sales trend this year.\n",
            "['I', 'need', 'a', 'detailed', 'report', 'with', 'line', 'charts', 'showing', 'the', 'sales', 'trend', 'this', 'year.']\n",
            "(14, 50)\n"
          ]
        }
      ]
    },
    {
      "cell_type": "code",
      "source": [
        "# compute similarity between query and avery vector in X\n",
        "scores = cosine_similarity(Y, X)\n",
        "print(scores.shape)\n",
        "scores_flat = scores.flatten()"
      ],
      "metadata": {
        "colab": {
          "base_uri": "https://localhost:8080/"
        },
        "id": "piiJhVI3e66d",
        "outputId": "6e0fb640-cd84-4ce6-8757-82b7bf5970ef"
      },
      "execution_count": 50,
      "outputs": [
        {
          "output_type": "stream",
          "name": "stdout",
          "text": [
            "(14, 52)\n"
          ]
        }
      ]
    },
    {
      "cell_type": "code",
      "source": [
        "plt.plot(scores_flat)\n",
        "plt.xlabel(\"all node lables\")\n",
        "plt.ylabel(\"cosine similarity\")"
      ],
      "metadata": {
        "colab": {
          "base_uri": "https://localhost:8080/",
          "height": 466
        },
        "id": "rjDqxfqHe_84",
        "outputId": "f03f48d5-8661-4d37-c412-376d37a40465"
      },
      "execution_count": 51,
      "outputs": [
        {
          "output_type": "execute_result",
          "data": {
            "text/plain": [
              "Text(0, 0.5, 'cosine similarity')"
            ]
          },
          "metadata": {},
          "execution_count": 51
        },
        {
          "output_type": "display_data",
          "data": {
            "text/plain": [
              "<Figure size 640x480 with 1 Axes>"
            ],
            "image/png": "[encoded data removed]"
          },
          "metadata": {}
        }
      ]
    },
    {
      "cell_type": "code",
      "source": [
        "# scores is an array of probability numbers for each word. I like to have an array of labels that is corespond to any word with higher than 0.8% probability\n",
        "# Get the shape of the scores matrix\n",
        "num_words, num_labels = scores.shape\n",
        "print(num_words, num_labels)\n",
        "\n",
        "high_score_words = [] # this will be a matrix\n",
        "\n",
        "for i in range(num_words):\n",
        "    is_it_over_trashold = scores[i].sum() > TRASHOLD\n",
        "    if is_it_over_trashold:\n",
        "        high_score_words.append(scores[i])\n",
        "\n",
        "print(high_score_words)\n",
        "\n",
        "# now loop over the \"high_score_words\" and find all the labesl based on the probability array values, where the probablility is higher then the trashold\n",
        "high_score_labels = []\n",
        "\n",
        "for i in range(len(high_score_words)):\n",
        "    for j in range(len(high_score_words[i])):\n",
        "        if high_score_words[i][j] > TRASHOLD:\n",
        "            high_score_labels.append(all_unique_lables[j]) # select the label based on the position in array\n",
        "\n",
        "print(high_score_labels)\n"
      ],
      "metadata": {
        "colab": {
          "base_uri": "https://localhost:8080/"
        },
        "id": "uM8konqofFBn",
        "outputId": "40870fd5-677e-4abb-ef6e-b96a83d809e9"
      },
      "execution_count": 52,
      "outputs": [
        {
          "output_type": "stream",
          "name": "stdout",
          "text": [
            "14 52\n",
            "[array([0., 0., 0., 0., 0., 0., 0., 0., 0., 0., 0., 0., 0., 0., 0., 0., 0.,\n",
            "       0., 0., 0., 0., 0., 0., 0., 0., 0., 0., 0., 0., 0., 0., 0., 0., 0.,\n",
            "       0., 0., 0., 0., 0., 0., 0., 0., 0., 0., 0., 0., 0., 0., 0., 1., 0.,\n",
            "       0.]), array([0., 0., 0., 0., 0., 0., 0., 0., 0., 0., 0., 0., 0., 0., 0., 1., 0.,\n",
            "       0., 0., 0., 0., 0., 0., 0., 0., 0., 0., 0., 0., 0., 0., 0., 0., 0.,\n",
            "       0., 0., 0., 0., 0., 0., 0., 0., 0., 0., 0., 0., 0., 0., 0., 0., 0.,\n",
            "       0.]), array([0., 0., 0., 0., 0., 0., 0., 0., 0., 0., 0., 0., 0., 0., 0., 0., 0.,\n",
            "       0., 0., 0., 0., 0., 0., 0., 0., 0., 0., 0., 0., 0., 0., 0., 0., 0.,\n",
            "       0., 0., 1., 0., 0., 0., 0., 0., 0., 0., 0., 0., 0., 0., 0., 0., 0.,\n",
            "       0.])]\n",
            "['line', 'sale', 'year']\n"
          ]
        }
      ]
    },
    {
      "cell_type": "code",
      "source": [
        "# from lables -> from there find the right node names for the lable\n",
        "\n",
        "all_posible_nodes = []\n",
        "\n",
        "for node in nodes:\n",
        "    labels = node[\"labels\"]\n",
        "    if any(item in labels for item in high_score_labels):\n",
        "        all_posible_nodes.append(node[\"name\"])\n",
        "\n",
        "print(all_posible_nodes)"
      ],
      "metadata": {
        "colab": {
          "base_uri": "https://localhost:8080/"
        },
        "id": "kyeyLGZyfInS",
        "outputId": "5ca2d952-6d27-41f9-b6d9-4ae42f1dc12c"
      },
      "execution_count": 53,
      "outputs": [
        {
          "output_type": "stream",
          "name": "stdout",
          "text": [
            "['B8', 'P2', 'Y26']\n"
          ]
        }
      ]
    }
  ]
}