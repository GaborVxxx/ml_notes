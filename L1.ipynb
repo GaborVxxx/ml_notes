{
  "nbformat": 4,
  "nbformat_minor": 0,
  "metadata": {
    "colab": {
      "provenance": [],
      "gpuType": "T4",
      "authorship_tag": "ABX9TyN1EyHMNpUpA4iM8bXQh5bo",
      "include_colab_link": true
    },
    "kernelspec": {
      "name": "python3",
      "display_name": "Python 3"
    },
    "language_info": {
      "name": "python"
    },
    "accelerator": "GPU"
  },
  "cells": [
    {
      "cell_type": "markdown",
      "metadata": {
        "id": "view-in-github",
        "colab_type": "text"
      },
      "source": [
        "<a href=\"https://colab.research.google.com/github/GaborVxxx/ml_notes/blob/main/L1.ipynb\" target=\"_parent\"><img src=\"https://colab.research.google.com/assets/colab-badge.svg\" alt=\"Open In Colab\"/></a>"
      ]
    },
    {
      "cell_type": "markdown",
      "source": [
        "Lest give it a go"
      ],
      "metadata": {
        "id": "BEFfxSTUdLiW"
      }
    },
    {
      "cell_type": "code",
      "execution_count": 2,
      "metadata": {
        "colab": {
          "base_uri": "https://localhost:8080/"
        },
        "id": "F7v6f05Nb6qG",
        "outputId": "0396542e-645d-4f69-c709-4946580914d6"
      },
      "outputs": [
        {
          "output_type": "stream",
          "name": "stdout",
          "text": [
            "2.5.1+cu121\n"
          ]
        }
      ],
      "source": [
        "import torch\n",
        "import pandas as pd\n",
        "import numpy as np\n",
        "import matplotlib.pyplot as plt\n",
        "\n",
        "\n",
        "print(torch.__version__)"
      ]
    },
    {
      "cell_type": "markdown",
      "source": [
        "# Intro to Tensors\n"
      ],
      "metadata": {
        "id": "zajB2rQbjQuO"
      }
    },
    {
      "cell_type": "code",
      "source": [
        "# scalar\n",
        "scalar = torch.tensor(7)\n",
        "scalar"
      ],
      "metadata": {
        "colab": {
          "base_uri": "https://localhost:8080/"
        },
        "id": "KK6B7Yd4jWnT",
        "outputId": "cf5b5410-4f08-442a-dbe1-cbcd9271f4e3"
      },
      "execution_count": 3,
      "outputs": [
        {
          "output_type": "execute_result",
          "data": {
            "text/plain": [
              "tensor(7)"
            ]
          },
          "metadata": {},
          "execution_count": 3
        }
      ]
    },
    {
      "cell_type": "code",
      "source": [
        "scalar.ndim"
      ],
      "metadata": {
        "colab": {
          "base_uri": "https://localhost:8080/"
        },
        "id": "7FmHbnW-kNfc",
        "outputId": "482a75c2-c33f-4124-bfc3-4230beb3a112"
      },
      "execution_count": 4,
      "outputs": [
        {
          "output_type": "execute_result",
          "data": {
            "text/plain": [
              "0"
            ]
          },
          "metadata": {},
          "execution_count": 4
        }
      ]
    },
    {
      "cell_type": "code",
      "source": [
        "scalar.item()"
      ],
      "metadata": {
        "colab": {
          "base_uri": "https://localhost:8080/"
        },
        "id": "aph256GjkY_K",
        "outputId": "6a3d9236-516d-4b00-de97-89fce7b4ad57"
      },
      "execution_count": 5,
      "outputs": [
        {
          "output_type": "execute_result",
          "data": {
            "text/plain": [
              "7"
            ]
          },
          "metadata": {},
          "execution_count": 5
        }
      ]
    },
    {
      "cell_type": "code",
      "source": [
        "# Vector\n",
        "vector = torch.tensor([7, 7])\n",
        "vector"
      ],
      "metadata": {
        "colab": {
          "base_uri": "https://localhost:8080/"
        },
        "id": "MvYs5d0_ki5o",
        "outputId": "c7261561-f11e-43b7-ae19-51b6a83c9b55"
      },
      "execution_count": 6,
      "outputs": [
        {
          "output_type": "execute_result",
          "data": {
            "text/plain": [
              "tensor([7, 7])"
            ]
          },
          "metadata": {},
          "execution_count": 6
        }
      ]
    },
    {
      "cell_type": "code",
      "source": [
        "vector.ndim"
      ],
      "metadata": {
        "colab": {
          "base_uri": "https://localhost:8080/"
        },
        "id": "Aq4pCUk-ktsA",
        "outputId": "3750c4e1-5480-4af1-a6b5-b8f86fea8d39"
      },
      "execution_count": 7,
      "outputs": [
        {
          "output_type": "execute_result",
          "data": {
            "text/plain": [
              "1"
            ]
          },
          "metadata": {},
          "execution_count": 7
        }
      ]
    },
    {
      "cell_type": "code",
      "source": [
        "vector.shape"
      ],
      "metadata": {
        "colab": {
          "base_uri": "https://localhost:8080/"
        },
        "id": "0sLhH-AZlUnX",
        "outputId": "24e921a0-cf9e-45e2-9dcd-0c03f3fadf13"
      },
      "execution_count": 8,
      "outputs": [
        {
          "output_type": "execute_result",
          "data": {
            "text/plain": [
              "torch.Size([2])"
            ]
          },
          "metadata": {},
          "execution_count": 8
        }
      ]
    },
    {
      "cell_type": "code",
      "source": [
        "# Matrix\n",
        "MATRIX = torch.tensor([[7, 8], [9, 10]])\n",
        "MATRIX"
      ],
      "metadata": {
        "colab": {
          "base_uri": "https://localhost:8080/"
        },
        "id": "v2zbB9Fel2uu",
        "outputId": "9d0086b6-8e71-4cae-97df-81048cd85dc7"
      },
      "execution_count": 9,
      "outputs": [
        {
          "output_type": "execute_result",
          "data": {
            "text/plain": [
              "tensor([[ 7,  8],\n",
              "        [ 9, 10]])"
            ]
          },
          "metadata": {},
          "execution_count": 9
        }
      ]
    },
    {
      "cell_type": "code",
      "source": [
        "MATRIX.ndim"
      ],
      "metadata": {
        "colab": {
          "base_uri": "https://localhost:8080/"
        },
        "id": "V888fVhNmPA3",
        "outputId": "d2ea09b4-5e03-402a-c641-cb4ce2d2f0f3"
      },
      "execution_count": 10,
      "outputs": [
        {
          "output_type": "execute_result",
          "data": {
            "text/plain": [
              "2"
            ]
          },
          "metadata": {},
          "execution_count": 10
        }
      ]
    },
    {
      "cell_type": "code",
      "source": [
        "MATRIX.shape"
      ],
      "metadata": {
        "colab": {
          "base_uri": "https://localhost:8080/"
        },
        "id": "lIHzIIcpmYV_",
        "outputId": "b91118ea-327f-4da6-85ce-2d7a1b4a3c87"
      },
      "execution_count": 11,
      "outputs": [
        {
          "output_type": "execute_result",
          "data": {
            "text/plain": [
              "torch.Size([2, 2])"
            ]
          },
          "metadata": {},
          "execution_count": 11
        }
      ]
    },
    {
      "cell_type": "code",
      "source": [
        "# TENSOR\n",
        "TENSOR = torch.tensor([[[7, 8, 6], [9, 10, 9], [6, 6, 6]]])\n",
        "TENSOR"
      ],
      "metadata": {
        "colab": {
          "base_uri": "https://localhost:8080/"
        },
        "id": "lrQqpeMmm7gz",
        "outputId": "d52792b8-c1ac-469f-8884-b67dd0160408"
      },
      "execution_count": 12,
      "outputs": [
        {
          "output_type": "execute_result",
          "data": {
            "text/plain": [
              "tensor([[[ 7,  8,  6],\n",
              "         [ 9, 10,  9],\n",
              "         [ 6,  6,  6]]])"
            ]
          },
          "metadata": {},
          "execution_count": 12
        }
      ]
    },
    {
      "cell_type": "code",
      "source": [
        "TENSOR.ndim"
      ],
      "metadata": {
        "colab": {
          "base_uri": "https://localhost:8080/"
        },
        "id": "C6ndHTO_nPv1",
        "outputId": "bc4b33e8-e93d-4d62-dfe2-33d9f5cc7171"
      },
      "execution_count": 13,
      "outputs": [
        {
          "output_type": "execute_result",
          "data": {
            "text/plain": [
              "3"
            ]
          },
          "metadata": {},
          "execution_count": 13
        }
      ]
    },
    {
      "cell_type": "code",
      "source": [
        "TENSOR.shape"
      ],
      "metadata": {
        "colab": {
          "base_uri": "https://localhost:8080/"
        },
        "id": "-yypIsOInrhr",
        "outputId": "e64bbc60-e5fd-427d-93b4-504d998628da"
      },
      "execution_count": 14,
      "outputs": [
        {
          "output_type": "execute_result",
          "data": {
            "text/plain": [
              "torch.Size([1, 3, 3])"
            ]
          },
          "metadata": {},
          "execution_count": 14
        }
      ]
    },
    {
      "cell_type": "markdown",
      "source": [],
      "metadata": {
        "id": "RUhkrr1Q0gxf"
      }
    },
    {
      "cell_type": "markdown",
      "source": [
        "# Random **tesnsors**\n",
        "\n",
        "This a starting point for displaying the data, later on we change it to better represent the correct data.\n",
        "\n",
        "`Start random -> look at data -> update random numbers -> look at data -> update random numbers`"
      ],
      "metadata": {
        "id": "HhSPJAEl0gy_"
      }
    },
    {
      "cell_type": "code",
      "source": [
        "# Creata the initial random tensor\n",
        "\n",
        "# MATRIX (2D)\n",
        "\n",
        "random_tensor = torch.rand(3, 4)\n",
        "random_tensor"
      ],
      "metadata": {
        "colab": {
          "base_uri": "https://localhost:8080/"
        },
        "id": "quooRZxS1I_I",
        "outputId": "97452f5f-b524-445f-ff7b-d8223197d810"
      },
      "execution_count": 15,
      "outputs": [
        {
          "output_type": "execute_result",
          "data": {
            "text/plain": [
              "tensor([[0.2886, 0.8051, 0.9252, 0.9369],\n",
              "        [0.7046, 0.7731, 0.9036, 0.3963],\n",
              "        [0.2535, 0.8286, 0.5800, 0.4397]])"
            ]
          },
          "metadata": {},
          "execution_count": 15
        }
      ]
    },
    {
      "cell_type": "code",
      "source": [
        "random_tensor.ndim"
      ],
      "metadata": {
        "colab": {
          "base_uri": "https://localhost:8080/"
        },
        "id": "X2BDNHN52kW6",
        "outputId": "0f6e1d26-06d0-4bdf-af97-1c56651526e6"
      },
      "execution_count": 16,
      "outputs": [
        {
          "output_type": "execute_result",
          "data": {
            "text/plain": [
              "2"
            ]
          },
          "metadata": {},
          "execution_count": 16
        }
      ]
    },
    {
      "cell_type": "code",
      "source": [
        "# Creata the initial random tensor\n",
        "\n",
        "# TENSOR (3D)\n",
        "\n",
        "random_tensor = torch.rand(1, 3, 4)\n",
        "random_tensor"
      ],
      "metadata": {
        "colab": {
          "base_uri": "https://localhost:8080/"
        },
        "id": "W2FS_6zA61zx",
        "outputId": "d669c4a1-9a5b-4a49-c637-9ffefcbb356f"
      },
      "execution_count": 17,
      "outputs": [
        {
          "output_type": "execute_result",
          "data": {
            "text/plain": [
              "tensor([[[0.5764, 0.5118, 0.1843, 0.1886],\n",
              "         [0.8339, 0.6234, 0.6278, 0.8483],\n",
              "         [0.3176, 0.5088, 0.8429, 0.9707]]])"
            ]
          },
          "metadata": {},
          "execution_count": 17
        }
      ]
    },
    {
      "cell_type": "code",
      "source": [
        "random_tensor.ndim"
      ],
      "metadata": {
        "colab": {
          "base_uri": "https://localhost:8080/"
        },
        "id": "k0xQnOoX7C61",
        "outputId": "52ac44aa-0f80-4372-839f-2f44933c9480"
      },
      "execution_count": 18,
      "outputs": [
        {
          "output_type": "execute_result",
          "data": {
            "text/plain": [
              "3"
            ]
          },
          "metadata": {},
          "execution_count": 18
        }
      ]
    },
    {
      "cell_type": "markdown",
      "source": [
        "# Create a new tensor with a shape of an image"
      ],
      "metadata": {
        "id": "Ub7KYOW_7psn"
      }
    },
    {
      "cell_type": "code",
      "source": [
        "# Image is 224 * 224 pixel and 3 color chanel\n",
        "\n",
        "random_image_size_tensor = torch.rand(size=(224, 224, 3))\n",
        "random_image_size_tensor.shape, random_image_size_tensor.ndim"
      ],
      "metadata": {
        "colab": {
          "base_uri": "https://localhost:8080/"
        },
        "id": "_jE3Ql7471dP",
        "outputId": "b74b8a00-6657-4992-8c79-f44bff1b11e0"
      },
      "execution_count": 19,
      "outputs": [
        {
          "output_type": "execute_result",
          "data": {
            "text/plain": [
              "(torch.Size([224, 224, 3]), 3)"
            ]
          },
          "metadata": {},
          "execution_count": 19
        }
      ]
    },
    {
      "cell_type": "markdown",
      "source": [
        "# Zeros and ones\n"
      ],
      "metadata": {
        "id": "7a4V9No6EtPy"
      }
    },
    {
      "cell_type": "code",
      "source": [
        "# Create a tensor of all zeros\n",
        "\n",
        "zeros = torch.zeros(size=(3, 4))\n",
        "zeros"
      ],
      "metadata": {
        "colab": {
          "base_uri": "https://localhost:8080/"
        },
        "id": "nAyPZmVDEyAf",
        "outputId": "1c5c275d-1010-4388-b161-4dd4be32b607"
      },
      "execution_count": 20,
      "outputs": [
        {
          "output_type": "execute_result",
          "data": {
            "text/plain": [
              "tensor([[0., 0., 0., 0.],\n",
              "        [0., 0., 0., 0.],\n",
              "        [0., 0., 0., 0.]])"
            ]
          },
          "metadata": {},
          "execution_count": 20
        }
      ]
    },
    {
      "cell_type": "code",
      "source": [
        "zeros * random_tensor"
      ],
      "metadata": {
        "colab": {
          "base_uri": "https://localhost:8080/"
        },
        "id": "0Cd59sqvFNG6",
        "outputId": "464bd7d0-974a-4449-9ea2-8f7f3698408d"
      },
      "execution_count": 21,
      "outputs": [
        {
          "output_type": "execute_result",
          "data": {
            "text/plain": [
              "tensor([[[0., 0., 0., 0.],\n",
              "         [0., 0., 0., 0.],\n",
              "         [0., 0., 0., 0.]]])"
            ]
          },
          "metadata": {},
          "execution_count": 21
        }
      ]
    },
    {
      "cell_type": "code",
      "source": [
        "# Create a tensor of all ones\n",
        "\n",
        "ones = torch.ones(size=(3, 4))\n",
        "ones"
      ],
      "metadata": {
        "colab": {
          "base_uri": "https://localhost:8080/"
        },
        "id": "m-Rqqh9RFZos",
        "outputId": "2a086d9d-99d4-4ca5-d0ef-4c3ce561341c"
      },
      "execution_count": 22,
      "outputs": [
        {
          "output_type": "execute_result",
          "data": {
            "text/plain": [
              "tensor([[1., 1., 1., 1.],\n",
              "        [1., 1., 1., 1.],\n",
              "        [1., 1., 1., 1.]])"
            ]
          },
          "metadata": {},
          "execution_count": 22
        }
      ]
    },
    {
      "cell_type": "code",
      "source": [
        "ones.dtype"
      ],
      "metadata": {
        "colab": {
          "base_uri": "https://localhost:8080/"
        },
        "id": "CE_Is_QzFlGR",
        "outputId": "59f1e392-48dc-4283-9d9c-7828d464d278"
      },
      "execution_count": 23,
      "outputs": [
        {
          "output_type": "execute_result",
          "data": {
            "text/plain": [
              "torch.float32"
            ]
          },
          "metadata": {},
          "execution_count": 23
        }
      ]
    },
    {
      "cell_type": "markdown",
      "source": [
        "# Crateing a range of tensors and tensors-like"
      ],
      "metadata": {
        "id": "cAboQDGUHAFv"
      }
    },
    {
      "cell_type": "code",
      "source": [
        "# Use torch.arange()/range()\n",
        "\n",
        "one_to_ten = torch.arange(start=1, end=11, step=1)\n",
        "one_to_ten"
      ],
      "metadata": {
        "colab": {
          "base_uri": "https://localhost:8080/"
        },
        "id": "t5VsS5B4HJCs",
        "outputId": "34b01878-54e3-489a-817f-afaedfeebb1f"
      },
      "execution_count": 24,
      "outputs": [
        {
          "output_type": "execute_result",
          "data": {
            "text/plain": [
              "tensor([ 1,  2,  3,  4,  5,  6,  7,  8,  9, 10])"
            ]
          },
          "metadata": {},
          "execution_count": 24
        }
      ]
    },
    {
      "cell_type": "code",
      "source": [
        "# Create a tensors like (replicate a shape)\n",
        "\n",
        "ten_zeros = torch.zeros_like(input=one_to_ten)\n",
        "ten_zeros"
      ],
      "metadata": {
        "colab": {
          "base_uri": "https://localhost:8080/"
        },
        "id": "X0eSxCULIG8E",
        "outputId": "22fe4e69-67aa-40bc-bc39-6d053c88327e"
      },
      "execution_count": 25,
      "outputs": [
        {
          "output_type": "execute_result",
          "data": {
            "text/plain": [
              "tensor([0, 0, 0, 0, 0, 0, 0, 0, 0, 0])"
            ]
          },
          "metadata": {},
          "execution_count": 25
        }
      ]
    },
    {
      "cell_type": "markdown",
      "source": [
        "# Tensor datatypes\n",
        "\n",
        "Note: There are 3 main point where we can run in to errors.\n",
        "\n",
        "\n",
        "*   Tensor not right datatype\n",
        "*   Tensor not right sahpe\n",
        "*   Tensor not on the right device\n",
        "\n"
      ],
      "metadata": {
        "id": "Kf6cQWMIIxqO"
      }
    },
    {
      "cell_type": "code",
      "source": [
        "# Float 32 tensor\n",
        "\n",
        "float_32_tensor = torch.tensor([3.0, 6.0, 9.0],\n",
        "                               dtype=None, # common float32 = single precision and 16 = half precision 64 = double precion\n",
        "                               device=None, # default is \"cpu\" options like: \"cuda\", the point is keep this consistence where the tensor is in memory\n",
        "                               requires_grad=False # to track the gradiant changes ...\n",
        "                               )\n",
        "float_32_tensor"
      ],
      "metadata": {
        "colab": {
          "base_uri": "https://localhost:8080/"
        },
        "id": "FvKTBwW5I2Rx",
        "outputId": "480a06a7-f3e4-4d06-f7e3-462e6550e370"
      },
      "execution_count": 26,
      "outputs": [
        {
          "output_type": "execute_result",
          "data": {
            "text/plain": [
              "tensor([3., 6., 9.])"
            ]
          },
          "metadata": {},
          "execution_count": 26
        }
      ]
    },
    {
      "cell_type": "code",
      "source": [
        "float_32_tensor.dtype"
      ],
      "metadata": {
        "colab": {
          "base_uri": "https://localhost:8080/"
        },
        "id": "i0qjlKiVJxIa",
        "outputId": "d99fa6dd-fd7f-41fa-8ab0-777e2882e3a4"
      },
      "execution_count": 27,
      "outputs": [
        {
          "output_type": "execute_result",
          "data": {
            "text/plain": [
              "torch.float32"
            ]
          },
          "metadata": {},
          "execution_count": 27
        }
      ]
    },
    {
      "cell_type": "code",
      "source": [
        "# Convert the 32 bit to 16 bit (half)\n",
        "\n",
        "float_16_tensor = float_32_tensor.type(torch.float16)\n",
        "float_16_tensor"
      ],
      "metadata": {
        "colab": {
          "base_uri": "https://localhost:8080/"
        },
        "id": "O0PHWnU6L8kb",
        "outputId": "e1e58028-83e7-4def-a177-1e21433a8c20"
      },
      "execution_count": 28,
      "outputs": [
        {
          "output_type": "execute_result",
          "data": {
            "text/plain": [
              "tensor([3., 6., 9.], dtype=torch.float16)"
            ]
          },
          "metadata": {},
          "execution_count": 28
        }
      ]
    },
    {
      "cell_type": "markdown",
      "source": [
        "# Tensor datatypes check method\n",
        "\n",
        "Note: There are 3 main point where we can run in to errors.\n",
        "\n",
        "\n",
        "*   Tensor not right datatype <-- tensor.dtype\n",
        "*   Tensor not right sahpe <-- tensor.shape || size()\n",
        "*   Tensor not on the right device <-- tensor.device"
      ],
      "metadata": {
        "id": "3cu8ybGuNYIk"
      }
    },
    {
      "cell_type": "markdown",
      "source": [
        "# Manipulate Tensors (tensor operations)\n",
        "\n",
        "* Addition\n",
        "* Subtraction\n",
        "* Multiplication\n",
        "* Devision\n",
        "* matrix multiplication"
      ],
      "metadata": {
        "id": "0EbR7k3qPQP8"
      }
    },
    {
      "cell_type": "code",
      "source": [
        "# Addition\n",
        "\n",
        "tensor = torch.tensor([1,2,3])\n",
        "tensor + 10"
      ],
      "metadata": {
        "colab": {
          "base_uri": "https://localhost:8080/"
        },
        "id": "uWHDkHc-Pvtg",
        "outputId": "85ca72d7-f5c0-4703-b3d9-ec5c8143c65e"
      },
      "execution_count": 29,
      "outputs": [
        {
          "output_type": "execute_result",
          "data": {
            "text/plain": [
              "tensor([11, 12, 13])"
            ]
          },
          "metadata": {},
          "execution_count": 29
        }
      ]
    },
    {
      "cell_type": "code",
      "source": [
        "# Multiply\n",
        "\n",
        "tensor * 10"
      ],
      "metadata": {
        "colab": {
          "base_uri": "https://localhost:8080/"
        },
        "id": "07K5x0p7QSO6",
        "outputId": "1a42f6b1-7f3b-4131-f386-e062af99e422"
      },
      "execution_count": 30,
      "outputs": [
        {
          "output_type": "execute_result",
          "data": {
            "text/plain": [
              "tensor([10, 20, 30])"
            ]
          },
          "metadata": {},
          "execution_count": 30
        }
      ]
    },
    {
      "cell_type": "code",
      "source": [
        "# Substact\n",
        "\n",
        "tensor - 1"
      ],
      "metadata": {
        "colab": {
          "base_uri": "https://localhost:8080/"
        },
        "id": "GeS0AWvWQmbl",
        "outputId": "255ee442-05a5-4af1-abce-1359255b5316"
      },
      "execution_count": 31,
      "outputs": [
        {
          "output_type": "execute_result",
          "data": {
            "text/plain": [
              "tensor([0, 1, 2])"
            ]
          },
          "metadata": {},
          "execution_count": 31
        }
      ]
    },
    {
      "cell_type": "markdown",
      "source": [
        "# There are build in functionns for this in PyTorch\n",
        "\n",
        "\n",
        "\n",
        "*   torch.add()\n",
        "*   torch.mul()\n",
        "... etc\n",
        "\n"
      ],
      "metadata": {
        "id": "JqqhUjl5Q6Bf"
      }
    },
    {
      "cell_type": "markdown",
      "source": [
        "# Matrix multiplication\n",
        "\n",
        "Two ways to perform multiplication in neural networks\n",
        "\n",
        "1. Element-wise\n",
        "2. Matrix multiplication (dot product)\n",
        "\n",
        "ref: https://www.mathsisfun.com/algebra/matrix-multiplying.html"
      ],
      "metadata": {
        "id": "w67nBVTAShp2"
      }
    },
    {
      "cell_type": "code",
      "source": [
        "# Element wise\n",
        "print(tensor, \"*\", tensor)\n",
        "print(f\"Equals: {tensor * tensor}\")"
      ],
      "metadata": {
        "colab": {
          "base_uri": "https://localhost:8080/"
        },
        "id": "9lddNOChTwYi",
        "outputId": "cd11fbb1-7cfb-4579-9067-79567e590190"
      },
      "execution_count": 32,
      "outputs": [
        {
          "output_type": "stream",
          "name": "stdout",
          "text": [
            "tensor([1, 2, 3]) * tensor([1, 2, 3])\n",
            "Equals: tensor([1, 4, 9])\n"
          ]
        }
      ]
    },
    {
      "cell_type": "code",
      "source": [
        "# Matrix multiplication symbol -> @ OR torch.matmul()\n",
        "torch.matmul(tensor, tensor)\n",
        "tensor @ tensor"
      ],
      "metadata": {
        "colab": {
          "base_uri": "https://localhost:8080/"
        },
        "id": "kWEbnkFIUJu6",
        "outputId": "48829d58-830b-493a-d043-1845a9dbdb09"
      },
      "execution_count": 33,
      "outputs": [
        {
          "output_type": "execute_result",
          "data": {
            "text/plain": [
              "tensor(14)"
            ]
          },
          "metadata": {},
          "execution_count": 33
        }
      ]
    },
    {
      "cell_type": "markdown",
      "source": [
        "There are two main rules for performing matrix multiplication.\n",
        "\n",
        "1. The **inner dimensions** must match: more like **inner match outher**\n",
        "* `(3, 2) @ (3, 2)` won't work\n",
        "* `(2, 3) @ (3, 2)` will work\n",
        "* `(3, 2) @ (2, 3)` will work\n",
        "\n",
        "`(2, 3) @ (3, 2)` -> [[1, 2, 3], [4, 5, 6]] * [[1, 2], [3, 4], [5, 6]]\n",
        "\n",
        "2. The resulting matrix has the shape of the **outher dimensions**\n",
        "\n",
        "`(2, 3) @ (3, 2)` -> shape of (2, 2) -> [[22, 28], [49, 64]]\n",
        "\n"
      ],
      "metadata": {
        "id": "xiLNOqzwXIi8"
      }
    },
    {
      "cell_type": "markdown",
      "source": [
        "# Most common error in deep learning is: **shape error**\n",
        "\n"
      ],
      "metadata": {
        "id": "be3o71tphgPf"
      }
    },
    {
      "cell_type": "code",
      "source": [
        "# Shape for matrix multiplication\n",
        "\n",
        "tensor_A = torch.tensor([[1, 2],\n",
        "                         [3, 4],\n",
        "                         [5, 6]])\n",
        "\n",
        "tensor_B = torch.tensor([[7, 10],\n",
        "                         [8, 11],\n",
        "                         [9, 12]])\n",
        "\n",
        "torch.mm(tensor_A, tensor_B) # || matmul || @"
      ],
      "metadata": {
        "id": "9DkDEMdXhsCN",
        "colab": {
          "base_uri": "https://localhost:8080/",
          "height": 176
        },
        "outputId": "cd539e25-64d3-467a-f6dd-5df0d058da7b"
      },
      "execution_count": 34,
      "outputs": [
        {
          "output_type": "error",
          "ename": "RuntimeError",
          "evalue": "mat1 and mat2 shapes cannot be multiplied (3x2 and 3x2)",
          "traceback": [
            "\u001b[0;31m---------------------------------------------------------------------------\u001b[0m",
            "\u001b[0;31mRuntimeError\u001b[0m                              Traceback (most recent call last)",
            "\u001b[0;32m<ipython-input-34-1ca2341bb215>\u001b[0m in \u001b[0;36m<cell line: 11>\u001b[0;34m()\u001b[0m\n\u001b[1;32m      9\u001b[0m                          [9, 12]])\n\u001b[1;32m     10\u001b[0m \u001b[0;34m\u001b[0m\u001b[0m\n\u001b[0;32m---> 11\u001b[0;31m \u001b[0mtorch\u001b[0m\u001b[0;34m.\u001b[0m\u001b[0mmm\u001b[0m\u001b[0;34m(\u001b[0m\u001b[0mtensor_A\u001b[0m\u001b[0;34m,\u001b[0m \u001b[0mtensor_B\u001b[0m\u001b[0;34m)\u001b[0m \u001b[0;31m# || matmul || @\u001b[0m\u001b[0;34m\u001b[0m\u001b[0;34m\u001b[0m\u001b[0m\n\u001b[0m",
            "\u001b[0;31mRuntimeError\u001b[0m: mat1 and mat2 shapes cannot be multiplied (3x2 and 3x2)"
          ]
        }
      ]
    },
    {
      "cell_type": "code",
      "source": [
        "# We can fix it by transposing one of the matrix to make the inner dimention match AKA turning the grid\n",
        "\n",
        "print(tensor_B)\n",
        "print(tensor_B.T)\n",
        "\n",
        "torch.mm(tensor_A, tensor_B.T) # || matmul || @"
      ],
      "metadata": {
        "id": "209RfRfufPoV",
        "colab": {
          "base_uri": "https://localhost:8080/"
        },
        "outputId": "6bcf931b-554d-42b2-e08f-6c8bc963f315"
      },
      "execution_count": 35,
      "outputs": [
        {
          "output_type": "stream",
          "name": "stdout",
          "text": [
            "tensor([[ 7, 10],\n",
            "        [ 8, 11],\n",
            "        [ 9, 12]])\n",
            "tensor([[ 7,  8,  9],\n",
            "        [10, 11, 12]])\n"
          ]
        },
        {
          "output_type": "execute_result",
          "data": {
            "text/plain": [
              "tensor([[ 27,  30,  33],\n",
              "        [ 61,  68,  75],\n",
              "        [ 95, 106, 117]])"
            ]
          },
          "metadata": {},
          "execution_count": 35
        }
      ]
    },
    {
      "cell_type": "markdown",
      "source": [
        "# Tensor Aggregation\n",
        "\n",
        "Finding the Min, Max, Mean and Sum of Tensors"
      ],
      "metadata": {
        "id": "7ClSh_vKhvvh"
      }
    },
    {
      "cell_type": "code",
      "source": [
        "# Create a tensor\n",
        "\n",
        "x = torch.arange(0, 100, 10)\n",
        "print(x)\n",
        "print(x.dtype) # This will lead to problem when try to find mean"
      ],
      "metadata": {
        "colab": {
          "base_uri": "https://localhost:8080/"
        },
        "id": "KNxqjYjEh9_d",
        "outputId": "1b54f39f-2dbb-40ae-8a35-8403191999a3"
      },
      "execution_count": 36,
      "outputs": [
        {
          "output_type": "stream",
          "name": "stdout",
          "text": [
            "tensor([ 0, 10, 20, 30, 40, 50, 60, 70, 80, 90])\n",
            "torch.int64\n"
          ]
        }
      ]
    },
    {
      "cell_type": "code",
      "source": [
        "# Find the min\n",
        "torch.min(x), x.min()"
      ],
      "metadata": {
        "colab": {
          "base_uri": "https://localhost:8080/"
        },
        "id": "STXvXCQXisp8",
        "outputId": "29e96c8c-2086-44c8-a0b7-208124708f60"
      },
      "execution_count": 37,
      "outputs": [
        {
          "output_type": "execute_result",
          "data": {
            "text/plain": [
              "(tensor(0), tensor(0))"
            ]
          },
          "metadata": {},
          "execution_count": 37
        }
      ]
    },
    {
      "cell_type": "code",
      "source": [
        "# Find the max\n",
        "torch.max(x), x.max()"
      ],
      "metadata": {
        "colab": {
          "base_uri": "https://localhost:8080/"
        },
        "id": "oZll4LQqi1ND",
        "outputId": "47bcb999-18b4-4a0f-ddd5-adc1e13d512f"
      },
      "execution_count": 38,
      "outputs": [
        {
          "output_type": "execute_result",
          "data": {
            "text/plain": [
              "(tensor(90), tensor(90))"
            ]
          },
          "metadata": {},
          "execution_count": 38
        }
      ]
    },
    {
      "cell_type": "code",
      "source": [
        "# The data type error on mean AKA this is becous the mean() take floating as arg not int\n",
        "torch.mean(x)"
      ],
      "metadata": {
        "colab": {
          "base_uri": "https://localhost:8080/",
          "height": 159
        },
        "id": "-JuWIKCtmHCO",
        "outputId": "0f4dd965-3286-4d01-cef0-1438ab19e282"
      },
      "execution_count": 39,
      "outputs": [
        {
          "output_type": "error",
          "ename": "RuntimeError",
          "evalue": "mean(): could not infer output dtype. Input dtype must be either a floating point or complex dtype. Got: Long",
          "traceback": [
            "\u001b[0;31m---------------------------------------------------------------------------\u001b[0m",
            "\u001b[0;31mRuntimeError\u001b[0m                              Traceback (most recent call last)",
            "\u001b[0;32m<ipython-input-39-07eb68c4e000>\u001b[0m in \u001b[0;36m<cell line: 2>\u001b[0;34m()\u001b[0m\n\u001b[1;32m      1\u001b[0m \u001b[0;31m# The data type error on mean AKA this is becous the mean() take floating as arg not int\u001b[0m\u001b[0;34m\u001b[0m\u001b[0;34m\u001b[0m\u001b[0m\n\u001b[0;32m----> 2\u001b[0;31m \u001b[0mtorch\u001b[0m\u001b[0;34m.\u001b[0m\u001b[0mmean\u001b[0m\u001b[0;34m(\u001b[0m\u001b[0mx\u001b[0m\u001b[0;34m)\u001b[0m\u001b[0;34m\u001b[0m\u001b[0;34m\u001b[0m\u001b[0m\n\u001b[0m",
            "\u001b[0;31mRuntimeError\u001b[0m: mean(): could not infer output dtype. Input dtype must be either a floating point or complex dtype. Got: Long"
          ]
        }
      ]
    },
    {
      "cell_type": "code",
      "source": [
        "# Find the mean\n",
        "print(x.dtype) # This will lead to problem when try to find mean\n",
        "print(x.type(torch.float32)) # So we change the elements in the array to floating point\n",
        "torch.mean(x.type(torch.float32)), x.type(torch.float32).mean() # in order to work with it we need to change the tyep to floatingpoint from long int"
      ],
      "metadata": {
        "colab": {
          "base_uri": "https://localhost:8080/"
        },
        "id": "0I6rYD9ji6if",
        "outputId": "99bd309f-c110-4346-bd1c-637ac82bba5a"
      },
      "execution_count": 40,
      "outputs": [
        {
          "output_type": "stream",
          "name": "stdout",
          "text": [
            "torch.int64\n",
            "tensor([ 0., 10., 20., 30., 40., 50., 60., 70., 80., 90.])\n"
          ]
        },
        {
          "output_type": "execute_result",
          "data": {
            "text/plain": [
              "(tensor(45.), tensor(45.))"
            ]
          },
          "metadata": {},
          "execution_count": 40
        }
      ]
    },
    {
      "cell_type": "code",
      "source": [
        "# Find the sum\n",
        "torch.sum(x), x.sum()"
      ],
      "metadata": {
        "colab": {
          "base_uri": "https://localhost:8080/"
        },
        "id": "D3xOvprIklwe",
        "outputId": "03304887-e498-4e12-e7a1-fc4fe2b7f153"
      },
      "execution_count": 41,
      "outputs": [
        {
          "output_type": "execute_result",
          "data": {
            "text/plain": [
              "(tensor(450), tensor(450))"
            ]
          },
          "metadata": {},
          "execution_count": 41
        }
      ]
    },
    {
      "cell_type": "code",
      "source": [
        "# Finding the positional min\n",
        "torch.argmin(x), x.argmin()"
      ],
      "metadata": {
        "colab": {
          "base_uri": "https://localhost:8080/"
        },
        "id": "MT34Lu0VlDjr",
        "outputId": "4d0ce07f-177a-417f-cd64-6302e029081d"
      },
      "execution_count": 42,
      "outputs": [
        {
          "output_type": "execute_result",
          "data": {
            "text/plain": [
              "(tensor(0), tensor(0))"
            ]
          },
          "metadata": {},
          "execution_count": 42
        }
      ]
    },
    {
      "cell_type": "code",
      "source": [
        "# Find the positional max\n",
        "torch.argmax(x), x.argmax()"
      ],
      "metadata": {
        "colab": {
          "base_uri": "https://localhost:8080/"
        },
        "id": "O9GXqxPvlTp4",
        "outputId": "e027f964-bb82-428f-b3c7-da94fba9f6a4"
      },
      "execution_count": 43,
      "outputs": [
        {
          "output_type": "execute_result",
          "data": {
            "text/plain": [
              "(tensor(9), tensor(9))"
            ]
          },
          "metadata": {},
          "execution_count": 43
        }
      ]
    },
    {
      "cell_type": "markdown",
      "source": [
        "# Reshaping, Viewing, Stacking, Squeezing, Unsqueezing and Permuting tensors\n",
        "\n",
        "* Resaping - reshape an input tensor to a defined shape note: the resahpe hase to be comatable with the size\n",
        "* View - return a view of an input tensor of certain shape but keep the same memory as the original tensor\n",
        "* Stacking - combine multiple tensors on top of each other (vstack) or side by side (hstack)\n",
        "* Squeezing - remove all `1` dimentions from a tensor\n",
        "* Unsqueezing - add a `1` dimention to a target tensor\n",
        "* Permuting - return a view of the input with dimentions permuted (swapped) in a certain way"
      ],
      "metadata": {
        "id": "uA3XK0FynE8m"
      }
    },
    {
      "cell_type": "code",
      "source": [
        "# Create a tensor\n",
        "\n",
        "x = torch.arange(1., 10.)\n",
        "x, x.shape"
      ],
      "metadata": {
        "colab": {
          "base_uri": "https://localhost:8080/"
        },
        "id": "-PT13BocnRtR",
        "outputId": "7555108b-54e1-4996-e540-6a5d847eb412"
      },
      "execution_count": 44,
      "outputs": [
        {
          "output_type": "execute_result",
          "data": {
            "text/plain": [
              "(tensor([1., 2., 3., 4., 5., 6., 7., 8., 9.]), torch.Size([9]))"
            ]
          },
          "metadata": {},
          "execution_count": 44
        }
      ]
    },
    {
      "cell_type": "code",
      "source": [
        "# Add an extra dimention (Reshape) we can manipulate the shape based on how we rearange the number of elements.\n",
        "\n",
        "x_reshape = x.reshape(3, 3)\n",
        "x_reshape, x_reshape.shape"
      ],
      "metadata": {
        "colab": {
          "base_uri": "https://localhost:8080/"
        },
        "id": "HrKJX2rSrhZQ",
        "outputId": "e2f2df5c-e73d-4230-d715-c23992121740"
      },
      "execution_count": 45,
      "outputs": [
        {
          "output_type": "execute_result",
          "data": {
            "text/plain": [
              "(tensor([[1., 2., 3.],\n",
              "         [4., 5., 6.],\n",
              "         [7., 8., 9.]]),\n",
              " torch.Size([3, 3]))"
            ]
          },
          "metadata": {},
          "execution_count": 45
        }
      ]
    },
    {
      "cell_type": "code",
      "source": [
        "# Change the view This is shate the same memory space just view it in different way\n",
        "\n",
        "z = x.view(3, 3)\n",
        "z, z.shape"
      ],
      "metadata": {
        "colab": {
          "base_uri": "https://localhost:8080/"
        },
        "id": "EX_WjmXKtDbN",
        "outputId": "8ba4e4fc-a775-482d-b7c8-fc23dedcac27"
      },
      "execution_count": 46,
      "outputs": [
        {
          "output_type": "execute_result",
          "data": {
            "text/plain": [
              "(tensor([[1., 2., 3.],\n",
              "         [4., 5., 6.],\n",
              "         [7., 8., 9.]]),\n",
              " torch.Size([3, 3]))"
            ]
          },
          "metadata": {},
          "execution_count": 46
        }
      ]
    },
    {
      "cell_type": "code",
      "source": [
        "# Changing z changes x (because a view of a tensor share the same memory) its like modification in place\n",
        "\n",
        "z[:, 0] = 5\n",
        "z, x"
      ],
      "metadata": {
        "colab": {
          "base_uri": "https://localhost:8080/"
        },
        "id": "N0qvqmdytstY",
        "outputId": "d0af6e41-d982-454c-fad8-63520a47d6c2"
      },
      "execution_count": 47,
      "outputs": [
        {
          "output_type": "execute_result",
          "data": {
            "text/plain": [
              "(tensor([[5., 2., 3.],\n",
              "         [5., 5., 6.],\n",
              "         [5., 8., 9.]]),\n",
              " tensor([5., 2., 3., 5., 5., 6., 5., 8., 9.]))"
            ]
          },
          "metadata": {},
          "execution_count": 47
        }
      ]
    },
    {
      "cell_type": "code",
      "source": [
        "# Stack tensors on top of each other\n",
        "\n",
        "x_stacked = torch.vstack([x, x, x, x])\n",
        "x_stacked, x_stacked.shape"
      ],
      "metadata": {
        "colab": {
          "base_uri": "https://localhost:8080/"
        },
        "id": "L6Obt9s4uRqu",
        "outputId": "0004f052-f61c-4888-9b40-1b1cc9576a40"
      },
      "execution_count": 48,
      "outputs": [
        {
          "output_type": "execute_result",
          "data": {
            "text/plain": [
              "(tensor([[5., 2., 3., 5., 5., 6., 5., 8., 9.],\n",
              "         [5., 2., 3., 5., 5., 6., 5., 8., 9.],\n",
              "         [5., 2., 3., 5., 5., 6., 5., 8., 9.],\n",
              "         [5., 2., 3., 5., 5., 6., 5., 8., 9.]]),\n",
              " torch.Size([4, 9]))"
            ]
          },
          "metadata": {},
          "execution_count": 48
        }
      ]
    },
    {
      "cell_type": "code",
      "source": [
        "# Stack tensors on top of each other\n",
        "\n",
        "x_stacked = torch.stack([x, x, x, x], dim=0)\n",
        "x_stacked, x_stacked.shape"
      ],
      "metadata": {
        "colab": {
          "base_uri": "https://localhost:8080/"
        },
        "id": "tFGSQSWWwFLZ",
        "outputId": "fe90f0b9-4494-425a-9962-8e66c713716e"
      },
      "execution_count": 49,
      "outputs": [
        {
          "output_type": "execute_result",
          "data": {
            "text/plain": [
              "(tensor([[5., 2., 3., 5., 5., 6., 5., 8., 9.],\n",
              "         [5., 2., 3., 5., 5., 6., 5., 8., 9.],\n",
              "         [5., 2., 3., 5., 5., 6., 5., 8., 9.],\n",
              "         [5., 2., 3., 5., 5., 6., 5., 8., 9.]]),\n",
              " torch.Size([4, 9]))"
            ]
          },
          "metadata": {},
          "execution_count": 49
        }
      ]
    },
    {
      "cell_type": "code",
      "source": [
        "# Stack tensors horizontaly\n",
        "\n",
        "x_stacked = torch.hstack([x, x, x, x])\n",
        "x_stacked, x_stacked.shape"
      ],
      "metadata": {
        "colab": {
          "base_uri": "https://localhost:8080/"
        },
        "id": "uKlaiRfVvizN",
        "outputId": "1ec37799-ab7f-4ab4-c751-b6dc264be176"
      },
      "execution_count": 50,
      "outputs": [
        {
          "output_type": "execute_result",
          "data": {
            "text/plain": [
              "(tensor([5., 2., 3., 5., 5., 6., 5., 8., 9., 5., 2., 3., 5., 5., 6., 5., 8., 9.,\n",
              "         5., 2., 3., 5., 5., 6., 5., 8., 9., 5., 2., 3., 5., 5., 6., 5., 8., 9.]),\n",
              " torch.Size([36]))"
            ]
          },
          "metadata": {},
          "execution_count": 50
        }
      ]
    },
    {
      "cell_type": "code",
      "source": [
        "# Satack experiment\n",
        "q = torch.randn(1, 3, 3)\n",
        "q"
      ],
      "metadata": {
        "colab": {
          "base_uri": "https://localhost:8080/"
        },
        "id": "QjtdA1yO02Z_",
        "outputId": "24659b04-866a-4e59-ffa1-9855a30a6d2f"
      },
      "execution_count": 51,
      "outputs": [
        {
          "output_type": "execute_result",
          "data": {
            "text/plain": [
              "tensor([[[-0.0435, -0.9802,  1.0306],\n",
              "         [-0.2352, -0.7521, -0.2447],\n",
              "         [-0.1182,  1.6069,  0.5561]]])"
            ]
          },
          "metadata": {},
          "execution_count": 51
        }
      ]
    },
    {
      "cell_type": "code",
      "source": [
        "torch.stack((q, q))"
      ],
      "metadata": {
        "colab": {
          "base_uri": "https://localhost:8080/"
        },
        "id": "i9KfMn2b1Kl2",
        "outputId": "e473d779-bbee-47a8-a4f7-41592e85f0c4"
      },
      "execution_count": 52,
      "outputs": [
        {
          "output_type": "execute_result",
          "data": {
            "text/plain": [
              "tensor([[[[-0.0435, -0.9802,  1.0306],\n",
              "          [-0.2352, -0.7521, -0.2447],\n",
              "          [-0.1182,  1.6069,  0.5561]]],\n",
              "\n",
              "\n",
              "        [[[-0.0435, -0.9802,  1.0306],\n",
              "          [-0.2352, -0.7521, -0.2447],\n",
              "          [-0.1182,  1.6069,  0.5561]]]])"
            ]
          },
          "metadata": {},
          "execution_count": 52
        }
      ]
    },
    {
      "cell_type": "code",
      "source": [
        "torch.stack((q, q)).size()"
      ],
      "metadata": {
        "colab": {
          "base_uri": "https://localhost:8080/"
        },
        "id": "Q9DRCAGF1VWx",
        "outputId": "3f298fe7-5fac-41cc-fdba-c58c6351bb4f"
      },
      "execution_count": 53,
      "outputs": [
        {
          "output_type": "execute_result",
          "data": {
            "text/plain": [
              "torch.Size([2, 1, 3, 3])"
            ]
          },
          "metadata": {},
          "execution_count": 53
        }
      ]
    },
    {
      "cell_type": "code",
      "source": [
        "torch.stack((q, q), dim=3)"
      ],
      "metadata": {
        "colab": {
          "base_uri": "https://localhost:8080/"
        },
        "id": "xpjEHCoT1fRG",
        "outputId": "80c228d0-5b4b-4ec6-e53c-928d483f3ea4"
      },
      "execution_count": 54,
      "outputs": [
        {
          "output_type": "execute_result",
          "data": {
            "text/plain": [
              "tensor([[[[-0.0435, -0.0435],\n",
              "          [-0.9802, -0.9802],\n",
              "          [ 1.0306,  1.0306]],\n",
              "\n",
              "         [[-0.2352, -0.2352],\n",
              "          [-0.7521, -0.7521],\n",
              "          [-0.2447, -0.2447]],\n",
              "\n",
              "         [[-0.1182, -0.1182],\n",
              "          [ 1.6069,  1.6069],\n",
              "          [ 0.5561,  0.5561]]]])"
            ]
          },
          "metadata": {},
          "execution_count": 54
        }
      ]
    },
    {
      "cell_type": "code",
      "source": [
        "# Squeeze NOTE: like an un wrapper, remove the nesting of lvl 1 from a nested array\n",
        "\n",
        "x = torch.zeros(2, 1, 2, 1, 2)\n",
        "print(x.size())\n",
        "y = torch.squeeze(x)\n",
        "print(y.size())\n",
        "y = torch.squeeze(x, 0)\n",
        "print(y.size())\n",
        "y = torch.squeeze(x, 1)\n",
        "print(y.size())\n",
        "y = torch.squeeze(x, (1, 2, 3))\n",
        "print(y.size())\n"
      ],
      "metadata": {
        "colab": {
          "base_uri": "https://localhost:8080/"
        },
        "id": "PzgAJhIB22T-",
        "outputId": "3cc0801c-d6aa-4068-aaf6-2705863d82eb"
      },
      "execution_count": 55,
      "outputs": [
        {
          "output_type": "stream",
          "name": "stdout",
          "text": [
            "torch.Size([2, 1, 2, 1, 2])\n",
            "torch.Size([2, 2, 2])\n",
            "torch.Size([2, 1, 2, 1, 2])\n",
            "torch.Size([2, 2, 1, 2])\n",
            "torch.Size([2, 2, 2])\n"
          ]
        }
      ]
    },
    {
      "cell_type": "code",
      "source": [
        "# Unsqueeze NOTE: like a wrapper add an extra layer of nesting to an array ay dimention\n",
        "\n",
        "x = torch.zeros(2, 2)\n",
        "print(x.size())\n",
        "y = torch.unsqueeze(x, 0)\n",
        "print(y.size())\n",
        "y = torch.unsqueeze(x, 1)\n",
        "y\n",
        "print(y.size())\n"
      ],
      "metadata": {
        "colab": {
          "base_uri": "https://localhost:8080/"
        },
        "id": "hFJJ_nNH9Gt7",
        "outputId": "2f852e1b-9571-4344-8f8a-786ebbf3ee9a"
      },
      "execution_count": 56,
      "outputs": [
        {
          "output_type": "stream",
          "name": "stdout",
          "text": [
            "torch.Size([2, 2])\n",
            "torch.Size([1, 2, 2])\n",
            "torch.Size([2, 1, 2])\n"
          ]
        }
      ]
    },
    {
      "cell_type": "code",
      "source": [
        "# Permute: rearanges tensor values in a specifed order re suffle the dimentions\n",
        "x = torch.randn(2, 3, 5)\n",
        "x.size()\n",
        "torch.Size([2, 3, 5])\n",
        "torch.permute(x, (2, 0, 1)).size()\n",
        "torch.Size([5, 2, 3])\n",
        "\n"
      ],
      "metadata": {
        "colab": {
          "base_uri": "https://localhost:8080/"
        },
        "id": "eRBq99X4AMR-",
        "outputId": "1664ca32-717c-472f-ced4-5915d5b17d07"
      },
      "execution_count": 57,
      "outputs": [
        {
          "output_type": "execute_result",
          "data": {
            "text/plain": [
              "torch.Size([5, 2, 3])"
            ]
          },
          "metadata": {},
          "execution_count": 57
        }
      ]
    },
    {
      "cell_type": "code",
      "source": [
        "p = torch.randn(2, 3, 5)\n",
        "p"
      ],
      "metadata": {
        "colab": {
          "base_uri": "https://localhost:8080/"
        },
        "id": "QfpSVlyfEY6Y",
        "outputId": "054fd6f3-1d65-4c75-bdb4-b70a212ab422"
      },
      "execution_count": 58,
      "outputs": [
        {
          "output_type": "execute_result",
          "data": {
            "text/plain": [
              "tensor([[[ 1.1876,  0.6164,  1.4547,  0.4888,  0.3526],\n",
              "         [-1.7473,  0.6400, -0.4248,  1.3388,  0.2180],\n",
              "         [ 0.6585, -2.6309, -0.6758,  1.0888,  0.1241]],\n",
              "\n",
              "        [[-0.6531,  1.4013,  1.3400,  0.8724, -0.5964],\n",
              "         [ 0.4843,  0.2726, -0.5159, -0.9512, -0.0812],\n",
              "         [-0.1184,  0.4930,  1.4130,  0.3677,  0.8620]]])"
            ]
          },
          "metadata": {},
          "execution_count": 58
        }
      ]
    },
    {
      "cell_type": "code",
      "source": [
        "w = p.permute(1, 0, 2) # 3, 2, 5\n",
        "w"
      ],
      "metadata": {
        "colab": {
          "base_uri": "https://localhost:8080/"
        },
        "id": "Zs9jggsZEv9p",
        "outputId": "cc7ce58e-ca81-461c-f65a-9103d8009fc4"
      },
      "execution_count": 59,
      "outputs": [
        {
          "output_type": "execute_result",
          "data": {
            "text/plain": [
              "tensor([[[ 1.1876,  0.6164,  1.4547,  0.4888,  0.3526],\n",
              "         [-0.6531,  1.4013,  1.3400,  0.8724, -0.5964]],\n",
              "\n",
              "        [[-1.7473,  0.6400, -0.4248,  1.3388,  0.2180],\n",
              "         [ 0.4843,  0.2726, -0.5159, -0.9512, -0.0812]],\n",
              "\n",
              "        [[ 0.6585, -2.6309, -0.6758,  1.0888,  0.1241],\n",
              "         [-0.1184,  0.4930,  1.4130,  0.3677,  0.8620]]])"
            ]
          },
          "metadata": {},
          "execution_count": 59
        }
      ]
    },
    {
      "cell_type": "markdown",
      "source": [
        "# Indexing array/tensors\n",
        "\n",
        "Indexing with PyTorch is similar to indexing with NumPy"
      ],
      "metadata": {
        "id": "giGOHizBiPU1"
      }
    },
    {
      "cell_type": "code",
      "source": [
        "# Create atensor\n",
        "\n",
        "x = torch.arange(1, 10).reshape(1, 3, 3)\n",
        "x, x.shape"
      ],
      "metadata": {
        "colab": {
          "base_uri": "https://localhost:8080/"
        },
        "id": "fa2T8MdAikj-",
        "outputId": "6dc2caec-1da8-46d1-92b1-441cda037e80"
      },
      "execution_count": 60,
      "outputs": [
        {
          "output_type": "execute_result",
          "data": {
            "text/plain": [
              "(tensor([[[1, 2, 3],\n",
              "          [4, 5, 6],\n",
              "          [7, 8, 9]]]),\n",
              " torch.Size([1, 3, 3]))"
            ]
          },
          "metadata": {},
          "execution_count": 60
        }
      ]
    },
    {
      "cell_type": "code",
      "source": [
        "# Lets index on first item\n",
        "\n",
        "x[0]"
      ],
      "metadata": {
        "colab": {
          "base_uri": "https://localhost:8080/"
        },
        "id": "eXGpEN8cj5gc",
        "outputId": "86c26d40-0c2a-46aa-8d12-a47a858645f0"
      },
      "execution_count": 61,
      "outputs": [
        {
          "output_type": "execute_result",
          "data": {
            "text/plain": [
              "tensor([[1, 2, 3],\n",
              "        [4, 5, 6],\n",
              "        [7, 8, 9]])"
            ]
          },
          "metadata": {},
          "execution_count": 61
        }
      ]
    },
    {
      "cell_type": "code",
      "source": [
        "# Index the dim=1\n",
        "\n",
        "x[0][0]"
      ],
      "metadata": {
        "colab": {
          "base_uri": "https://localhost:8080/"
        },
        "id": "5h_3rHZekbxp",
        "outputId": "690bb1c1-a3e6-4eb4-95d9-3762bd6a34fe"
      },
      "execution_count": 62,
      "outputs": [
        {
          "output_type": "execute_result",
          "data": {
            "text/plain": [
              "tensor([1, 2, 3])"
            ]
          },
          "metadata": {},
          "execution_count": 62
        }
      ]
    },
    {
      "cell_type": "code",
      "source": [
        "# Index in to the lat dimention\n",
        "\n",
        "x[0][0][0]"
      ],
      "metadata": {
        "colab": {
          "base_uri": "https://localhost:8080/"
        },
        "id": "-iHVeRTKk8bf",
        "outputId": "db51d78d-9a41-4c5f-9104-e990d1dc5d15"
      },
      "execution_count": 63,
      "outputs": [
        {
          "output_type": "execute_result",
          "data": {
            "text/plain": [
              "tensor(1)"
            ]
          },
          "metadata": {},
          "execution_count": 63
        }
      ]
    },
    {
      "cell_type": "code",
      "source": [
        "# Can use \":\" to select a target dimention\n",
        "\n",
        "# 1 \":\" give me the horizontal row\n",
        "# 2 \":\" give me the vertical row\n",
        "\n",
        "x[:, :, 2]"
      ],
      "metadata": {
        "colab": {
          "base_uri": "https://localhost:8080/"
        },
        "id": "-gNSd7j-leMr",
        "outputId": "e9669cca-890b-4ecf-c6e2-d53a339c8770"
      },
      "execution_count": 64,
      "outputs": [
        {
          "output_type": "execute_result",
          "data": {
            "text/plain": [
              "tensor([[3, 6, 9]])"
            ]
          },
          "metadata": {},
          "execution_count": 64
        }
      ]
    },
    {
      "cell_type": "markdown",
      "source": [
        "# PyTorch tensors and NumPy\n",
        "\n",
        "Numpy is a popular scientific Python numerical computing library\n",
        "PyTotch has functions to interact with it.\n",
        "\n",
        "* Data in NumPy, want in PyTorch tensor -> `torch.from_numpy(ndarray)`\n",
        "* PyTorch tensor -> NumPy -> `torch.Tensor.numpy()`\n",
        "\n",
        "\n",
        "NOTE: when we assigne a numpy array to a tensor its a copy! The tensor is not referencing the array, if we change the numpy array the tensor in not refelcting the cahnge.\n",
        "\n",
        "NOTE: when we go from tensor to numpy array the numpy array enherit the data type of the tensor AKA -> float32\n"
      ],
      "metadata": {
        "id": "f1GNEJ9Jpe7w"
      }
    },
    {
      "cell_type": "code",
      "source": [
        "# NumPy array to tensor\n",
        "import torch\n",
        "import numpy as np\n",
        "\n",
        "array = np.arange(1.0, 8.0)\n",
        "tensor = torch.from_numpy(array) # warning: when converting from numpy -> pytorch\n",
        "array, tensor"
      ],
      "metadata": {
        "colab": {
          "base_uri": "https://localhost:8080/"
        },
        "id": "Y5UEmcirqqpI",
        "outputId": "9e4c9b4f-32e4-4607-bfd5-76b073466dfc"
      },
      "execution_count": 65,
      "outputs": [
        {
          "output_type": "execute_result",
          "data": {
            "text/plain": [
              "(array([1., 2., 3., 4., 5., 6., 7.]),\n",
              " tensor([1., 2., 3., 4., 5., 6., 7.], dtype=torch.float64))"
            ]
          },
          "metadata": {},
          "execution_count": 65
        }
      ]
    },
    {
      "cell_type": "code",
      "source": [
        "# NOTE: the data type is different!!!!!!!!!!!\n",
        "\n",
        "z = torch.arange(1.0, 8.0)\n",
        "z.dtype, array.dtype"
      ],
      "metadata": {
        "colab": {
          "base_uri": "https://localhost:8080/"
        },
        "id": "jzcmG0BprZm5",
        "outputId": "987b032c-a92f-4113-d9dc-0526b8db7357"
      },
      "execution_count": 66,
      "outputs": [
        {
          "output_type": "execute_result",
          "data": {
            "text/plain": [
              "(torch.float32, dtype('float64'))"
            ]
          },
          "metadata": {},
          "execution_count": 66
        }
      ]
    },
    {
      "cell_type": "code",
      "source": [
        "# So to be consistante between numpy and tensor we need to transform the data type to be float 32 when transforming a numpy array to tensor\n",
        "\n",
        "array = np.arange(1.0, 8.0)\n",
        "tensor = torch.from_numpy(array).type(torch.float32)\n",
        "array.dtype, tensor.dtype\n"
      ],
      "metadata": {
        "colab": {
          "base_uri": "https://localhost:8080/"
        },
        "id": "W-CrnNV0sGDy",
        "outputId": "83aca8cc-d87d-47cc-b214-75e8e38e66c5"
      },
      "execution_count": 67,
      "outputs": [
        {
          "output_type": "execute_result",
          "data": {
            "text/plain": [
              "(dtype('float64'), torch.float32)"
            ]
          },
          "metadata": {},
          "execution_count": 67
        }
      ]
    },
    {
      "cell_type": "code",
      "source": [
        "# Tensor to NumPy\n",
        "\n",
        "tensor = torch.ones(7)\n",
        "numpy_tensor = tensor.numpy()\n",
        "tensor, numpy_tensor"
      ],
      "metadata": {
        "colab": {
          "base_uri": "https://localhost:8080/"
        },
        "id": "Lc-xWNP7tWhx",
        "outputId": "f7514ba7-2348-465f-f2f8-69537106e538"
      },
      "execution_count": 68,
      "outputs": [
        {
          "output_type": "execute_result",
          "data": {
            "text/plain": [
              "(tensor([1., 1., 1., 1., 1., 1., 1.]),\n",
              " array([1., 1., 1., 1., 1., 1., 1.], dtype=float32))"
            ]
          },
          "metadata": {},
          "execution_count": 68
        }
      ]
    },
    {
      "cell_type": "markdown",
      "source": [
        "# Random seeding\n",
        "\n",
        "Make the random reproducable by seting up a seed that produce the same random numbers."
      ],
      "metadata": {
        "id": "0yhHvpdk7ie3"
      }
    },
    {
      "cell_type": "code",
      "source": [
        "# Create two random tensor, but seed it and make it repruducable\n",
        "\n",
        "RANDOM_SEED = 42\n",
        "\n",
        "torch.manual_seed(RANDOM_SEED)\n",
        "random_tensor_A = torch.rand(3, 4)\n",
        "\n",
        "torch.manual_seed(RANDOM_SEED)\n",
        "random_tensor_B = torch.rand(3, 4)\n",
        "\n",
        "print(random_tensor_A)\n",
        "print(random_tensor_B)\n",
        "print(random_tensor_A == random_tensor_B)"
      ],
      "metadata": {
        "colab": {
          "base_uri": "https://localhost:8080/"
        },
        "id": "dqZvtaCk7yVr",
        "outputId": "9b3b466f-3d1a-4a6f-f741-6b1ffc856927"
      },
      "execution_count": 69,
      "outputs": [
        {
          "output_type": "stream",
          "name": "stdout",
          "text": [
            "tensor([[0.8823, 0.9150, 0.3829, 0.9593],\n",
            "        [0.3904, 0.6009, 0.2566, 0.7936],\n",
            "        [0.9408, 0.1332, 0.9346, 0.5936]])\n",
            "tensor([[0.8823, 0.9150, 0.3829, 0.9593],\n",
            "        [0.3904, 0.6009, 0.2566, 0.7936],\n",
            "        [0.9408, 0.1332, 0.9346, 0.5936]])\n",
            "tensor([[True, True, True, True],\n",
            "        [True, True, True, True],\n",
            "        [True, True, True, True]])\n"
          ]
        }
      ]
    },
    {
      "cell_type": "markdown",
      "source": [
        "# Running tensors and PyThorc objects on GPU's to be faster\n",
        "\n",
        "* 1 - use colub as it provide GPU\n",
        "* 2 - use your own\n",
        "* 3 - use cloud platform like GCP, AWS ...\n",
        "\n",
        "REF: https://pytorch.org/docs/stable/notes/cuda"
      ],
      "metadata": {
        "id": "UQ_2mkec-Tyd"
      }
    },
    {
      "cell_type": "code",
      "source": [
        "# Check PyThorc access to GPU\n",
        "\n",
        "torch.cuda.is_available()"
      ],
      "metadata": {
        "colab": {
          "base_uri": "https://localhost:8080/"
        },
        "id": "9WlsA16zBdE2",
        "outputId": "e611260b-0d62-470d-c214-479ff612a430"
      },
      "execution_count": 70,
      "outputs": [
        {
          "output_type": "execute_result",
          "data": {
            "text/plain": [
              "True"
            ]
          },
          "metadata": {},
          "execution_count": 70
        }
      ]
    },
    {
      "cell_type": "code",
      "source": [
        "# Set up device agnostic code AKA use what ever is available\n",
        "\n",
        "device = \"cuda\" if torch.cuda.is_available() else \"cpu\"\n",
        "device"
      ],
      "metadata": {
        "colab": {
          "base_uri": "https://localhost:8080/",
          "height": 35
        },
        "id": "X8fA7S5GFt5F",
        "outputId": "741621b0-7852-4dbd-fbae-abeac01d1b47"
      },
      "execution_count": 71,
      "outputs": [
        {
          "output_type": "execute_result",
          "data": {
            "text/plain": [
              "'cuda'"
            ],
            "application/vnd.google.colaboratory.intrinsic+json": {
              "type": "string"
            }
          },
          "metadata": {},
          "execution_count": 71
        }
      ]
    },
    {
      "cell_type": "code",
      "source": [
        "# Count number of devices\n",
        "\n",
        "torch.cuda.device_count()"
      ],
      "metadata": {
        "colab": {
          "base_uri": "https://localhost:8080/"
        },
        "id": "DsQLz5aqGHR1",
        "outputId": "12df6642-c3b1-4968-d03c-172b2c90ad62"
      },
      "execution_count": 72,
      "outputs": [
        {
          "output_type": "execute_result",
          "data": {
            "text/plain": [
              "1"
            ]
          },
          "metadata": {},
          "execution_count": 72
        }
      ]
    },
    {
      "cell_type": "markdown",
      "source": [
        "# Putting tensors (and models) on GPU\n",
        "\n",
        "Why? For fasted compiutation."
      ],
      "metadata": {
        "id": "qQRxNk7aHhif"
      }
    },
    {
      "cell_type": "code",
      "source": [
        "# Create a tensor (default on CPU)\n",
        "tensor = torch.tensor([1, 2, 3])\n",
        "\n",
        "# Tensor not on GPU\n",
        "print(tensor, tensor.device)"
      ],
      "metadata": {
        "colab": {
          "base_uri": "https://localhost:8080/"
        },
        "id": "zjSfyUm9Hua9",
        "outputId": "949d05f1-02fa-4acf-9a2e-6024305739a0"
      },
      "execution_count": 73,
      "outputs": [
        {
          "output_type": "stream",
          "name": "stdout",
          "text": [
            "tensor([1, 2, 3]) cpu\n"
          ]
        }
      ]
    },
    {
      "cell_type": "code",
      "source": [
        "# Move tesor to GPU (if available)\n",
        "tensor_on_gpu = tensor.to(device) # <-- shift the tensor we created to GPU\n",
        "tensor_on_gpu"
      ],
      "metadata": {
        "colab": {
          "base_uri": "https://localhost:8080/"
        },
        "id": "h0WWqlKhIabt",
        "outputId": "c82aad0d-7272-42af-a6e3-0e5f70fa7937"
      },
      "execution_count": 74,
      "outputs": [
        {
          "output_type": "execute_result",
          "data": {
            "text/plain": [
              "tensor([1, 2, 3], device='cuda:0')"
            ]
          },
          "metadata": {},
          "execution_count": 74
        }
      ]
    },
    {
      "cell_type": "markdown",
      "source": [
        "# Moving tensor back to CPU\n",
        "\n",
        "Note: If we use NumPy operation, NumPy only work on CPU."
      ],
      "metadata": {
        "id": "hJCOyMf9JH7M"
      }
    },
    {
      "cell_type": "code",
      "source": [
        "# Move back to CPU\n",
        "\n",
        "tensor_back_on_cpu = tensor_on_gpu.cpu().numpy().astype(np.float32)\n",
        "tensor_back_on_cpu, tensor_back_on_cpu.dtype"
      ],
      "metadata": {
        "colab": {
          "base_uri": "https://localhost:8080/"
        },
        "id": "k_EUlYvUJZLW",
        "outputId": "b25c3df0-60e3-4578-b872-09ec5e841f5a"
      },
      "execution_count": 77,
      "outputs": [
        {
          "output_type": "execute_result",
          "data": {
            "text/plain": [
              "(array([1., 2., 3.], dtype=float32), dtype('float32'))"
            ]
          },
          "metadata": {},
          "execution_count": 77
        }
      ]
    }
  ]
}