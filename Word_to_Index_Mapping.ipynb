{
  "nbformat": 4,
  "nbformat_minor": 0,
  "metadata": {
    "colab": {
      "provenance": [],
      "authorship_tag": "ABX9TyNUaIGafDWvkAtS7VW/BuZ8",
      "include_colab_link": true
    },
    "kernelspec": {
      "name": "python3",
      "display_name": "Python 3"
    },
    "language_info": {
      "name": "python"
    }
  },
  "cells": [
    {
      "cell_type": "markdown",
      "metadata": {
        "id": "view-in-github",
        "colab_type": "text"
      },
      "source": [
        "<a href=\"https://colab.research.google.com/github/GaborVxxx/ml_notes/blob/main/Word_to_Index_Mapping.ipynb\" target=\"_parent\"><img src=\"https://colab.research.google.com/assets/colab-badge.svg\" alt=\"Open In Colab\"/></a>"
      ]
    },
    {
      "cell_type": "markdown",
      "source": [
        "* What is the vocabulary size? (`V`) <= number of uinque words\n",
        "* V = 5 (since there are 5 unique words)\n",
        "* Thus, each words will occupy columns 0, 1, 2, 3, 4\n",
        "* Ex. 0 -> \"I\", 1 -> \"like\", ...etc\n"
      ],
      "metadata": {
        "id": "9oH01cEAUNxU"
      }
    },
    {
      "cell_type": "code",
      "source": [
        "text1 = \"I like cats\"\n",
        "text2 = \"I love cats\"\n",
        "text3 = \"I love dogs\""
      ],
      "metadata": {
        "id": "p9bZIdV9Ud7M"
      },
      "execution_count": null,
      "outputs": []
    },
    {
      "cell_type": "code",
      "source": [
        "import nltk\n",
        "from nltk.tokenize import word_tokenize\n",
        "\n",
        "nltk.download('punkt_tab')\n",
        "\n",
        "documents = [text1, text2, text3]\n",
        "\n",
        "current_idx = 0\n",
        "word2idx = {}\n",
        "for doc in documents:\n",
        "  token = word_tokenize(doc)\n",
        "  for word in token:\n",
        "    if word not in word2idx:\n",
        "      word2idx[word] = current_idx\n",
        "      current_idx += 1\n",
        "\n",
        "print(word2idx)"
      ],
      "metadata": {
        "colab": {
          "base_uri": "https://localhost:8080/"
        },
        "id": "2Ax4__rBVlR2",
        "outputId": "1a7c04e6-3eb7-44f9-bd0b-ebda5dd1a656"
      },
      "execution_count": null,
      "outputs": [
        {
          "output_type": "stream",
          "name": "stderr",
          "text": [
            "[nltk_data] Downloading package punkt_tab to /root/nltk_data...\n",
            "[nltk_data]   Unzipping tokenizers/punkt_tab.zip.\n"
          ]
        },
        {
          "output_type": "stream",
          "name": "stdout",
          "text": [
            "{'I': 0, 'like': 1, 'cats': 2, 'love': 3, 'dogs': 4}\n"
          ]
        }
      ]
    }
  ]
}